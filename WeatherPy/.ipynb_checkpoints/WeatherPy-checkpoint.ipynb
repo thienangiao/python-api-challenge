{
 "cells": [
  {
   "cell_type": "markdown",
   "metadata": {},
   "source": [
    "# WeatherPy\n",
    "----"
   ]
  },
  {
   "cell_type": "code",
   "execution_count": 1,
   "metadata": {
    "scrolled": true
   },
   "outputs": [],
   "source": [
    "# Dependencies\n",
    "import matplotlib.pyplot as plt\n",
    "import pandas as pd\n",
    "import random\n",
    "import json\n",
    "import requests\n",
    "from scipy.stats import linregress\n",
    "from citipy import citipy\n",
    "from pprint import pprint\n",
    "from api_keys import weather_api_key"
   ]
  },
  {
   "cell_type": "markdown",
   "metadata": {},
   "source": [
    "### Generate Cities List"
   ]
  },
  {
   "cell_type": "code",
   "execution_count": 2,
   "metadata": {},
   "outputs": [],
   "source": [
    "# Generate random latitude\\longitude\n",
    "sample_size = 10\n",
    "latitude = []\n",
    "longitude = []\n",
    "\n",
    "for x in range (0,sample_size):\n",
    "    latitude.append(random.randint(-90,90))\n",
    "    longitude.append(random.randint(-180,180)) "
   ]
  },
  {
   "cell_type": "code",
   "execution_count": 3,
   "metadata": {},
   "outputs": [],
   "source": [
    "# Select closest city using citipy library (https://pypi.python.org/pypi/citipy)\n",
    "\n",
    "cities = []\n",
    "\n",
    "for x,y in zip(latitude,longitude):\n",
    "    city=citipy.nearest_city(x,y)  \n",
    "    cities.append(city.city_name)\n"
   ]
  },
  {
   "cell_type": "markdown",
   "metadata": {},
   "source": [
    "### Perform API Calls\n"
   ]
  },
  {
   "cell_type": "code",
   "execution_count": 4,
   "metadata": {},
   "outputs": [],
   "source": [
    "# Save config information.\n",
    "url = \"http://api.openweathermap.org/data/2.5/weather?\"\n",
    "units = \"metric\"\n",
    "api_key= weather_api_key\n",
    "\n",
    "# Build partial query URL\n",
    "query_url = f\"{url}appid={api_key}&units={units}&q=\""
   ]
  },
  {
   "cell_type": "code",
   "execution_count": 5,
   "metadata": {},
   "outputs": [
    {
     "name": "stdout",
     "output_type": "stream",
     "text": [
      "upernavik found. Appending data\n",
      "dubai found. Appending data\n",
      "mizdah found. Appending data\n",
      "chicama found. Appending data\n",
      "jamestown found. Appending data\n",
      "punta arenas found. Appending data\n",
      "mataura found. Appending data\n",
      "rungata not found. Skipping...\n",
      "jamestown found. Appending data\n",
      "saleaula not found. Skipping...\n"
     ]
    }
   ],
   "source": [
    "# set up lists to hold reponse info\n",
    "\n",
    "name = []\n",
    "lat = []\n",
    "lon = []\n",
    "date = []\n",
    "temp_max = []\n",
    "hum = []\n",
    "cloud = []\n",
    "wind_kmh = []\n",
    "\n",
    "# Loop through the list of cities and perform a request for data on each\n",
    "for city in cities:\n",
    "    response = requests.get(query_url + city).json()\n",
    "    \n",
    "    try:\n",
    "        name.append(response['name'])\n",
    "        lat.append(response['coord']['lat'])\n",
    "        lon.append(response['coord']['lon']) \n",
    "        date.append(response['dt'])    \n",
    "        temp_max.append(response['main']['temp_max'])\n",
    "        hum.append(response['main']['humidity'])\n",
    "        cloud.append(response['clouds']['all'])\n",
    "        wind_kmh.append(response['wind']['speed'])\n",
    "        print(f\"{city} found. Appending data\")\n",
    "        \n",
    "    except:\n",
    "       # Append null values\n",
    "       print(f\"{city} not found. Skipping...\")\n",
    "    pass\n",
    "\n",
    "# Create city ID\n",
    "city_id = []\n",
    "\n",
    "for id in range(len(name)):\n",
    "    city_id.append(id)\n"
   ]
  },
  {
   "cell_type": "markdown",
   "metadata": {},
   "source": [
    "### Convert Raw Data to DataFrame\n"
   ]
  },
  {
   "cell_type": "code",
   "execution_count": 6,
   "metadata": {},
   "outputs": [
    {
     "data": {
      "text/html": [
       "<div>\n",
       "<style scoped>\n",
       "    .dataframe tbody tr th:only-of-type {\n",
       "        vertical-align: middle;\n",
       "    }\n",
       "\n",
       "    .dataframe tbody tr th {\n",
       "        vertical-align: top;\n",
       "    }\n",
       "\n",
       "    .dataframe thead th {\n",
       "        text-align: right;\n",
       "    }\n",
       "</style>\n",
       "<table border=\"1\" class=\"dataframe\">\n",
       "  <thead>\n",
       "    <tr style=\"text-align: right;\">\n",
       "      <th></th>\n",
       "      <th>City_ID</th>\n",
       "      <th>City</th>\n",
       "      <th>Latitude</th>\n",
       "      <th>Longitude</th>\n",
       "      <th>Date</th>\n",
       "      <th>Max Temperature (C)</th>\n",
       "      <th>Humidity</th>\n",
       "      <th>Cloudiness</th>\n",
       "      <th>Wind Speed (km/h)</th>\n",
       "    </tr>\n",
       "  </thead>\n",
       "  <tbody>\n",
       "    <tr>\n",
       "      <th>0</th>\n",
       "      <td>0</td>\n",
       "      <td>Upernavik</td>\n",
       "      <td>72.7868</td>\n",
       "      <td>-56.1549</td>\n",
       "      <td>2021-03-18 07:53:34</td>\n",
       "      <td>-21.87</td>\n",
       "      <td>96</td>\n",
       "      <td>100</td>\n",
       "      <td>5.69</td>\n",
       "    </tr>\n",
       "    <tr>\n",
       "      <th>1</th>\n",
       "      <td>1</td>\n",
       "      <td>Dubai</td>\n",
       "      <td>25.2582</td>\n",
       "      <td>55.3047</td>\n",
       "      <td>2021-03-18 07:46:14</td>\n",
       "      <td>35.00</td>\n",
       "      <td>15</td>\n",
       "      <td>0</td>\n",
       "      <td>1.03</td>\n",
       "    </tr>\n",
       "    <tr>\n",
       "      <th>2</th>\n",
       "      <td>2</td>\n",
       "      <td>Mizdah</td>\n",
       "      <td>31.4451</td>\n",
       "      <td>12.9801</td>\n",
       "      <td>2021-03-18 07:53:34</td>\n",
       "      <td>11.56</td>\n",
       "      <td>64</td>\n",
       "      <td>96</td>\n",
       "      <td>5.95</td>\n",
       "    </tr>\n",
       "    <tr>\n",
       "      <th>3</th>\n",
       "      <td>3</td>\n",
       "      <td>Chicama</td>\n",
       "      <td>-7.8447</td>\n",
       "      <td>-79.1469</td>\n",
       "      <td>2021-03-18 07:53:34</td>\n",
       "      <td>23.12</td>\n",
       "      <td>72</td>\n",
       "      <td>100</td>\n",
       "      <td>1.98</td>\n",
       "    </tr>\n",
       "    <tr>\n",
       "      <th>4</th>\n",
       "      <td>4</td>\n",
       "      <td>Jamestown</td>\n",
       "      <td>42.0970</td>\n",
       "      <td>-79.2353</td>\n",
       "      <td>2021-03-18 07:53:34</td>\n",
       "      <td>7.00</td>\n",
       "      <td>70</td>\n",
       "      <td>90</td>\n",
       "      <td>3.05</td>\n",
       "    </tr>\n",
       "  </tbody>\n",
       "</table>\n",
       "</div>"
      ],
      "text/plain": [
       "   City_ID       City  Latitude  Longitude                Date  \\\n",
       "0        0  Upernavik   72.7868   -56.1549 2021-03-18 07:53:34   \n",
       "1        1      Dubai   25.2582    55.3047 2021-03-18 07:46:14   \n",
       "2        2     Mizdah   31.4451    12.9801 2021-03-18 07:53:34   \n",
       "3        3    Chicama   -7.8447   -79.1469 2021-03-18 07:53:34   \n",
       "4        4  Jamestown   42.0970   -79.2353 2021-03-18 07:53:34   \n",
       "\n",
       "   Max Temperature (C)  Humidity  Cloudiness  Wind Speed (km/h)  \n",
       "0               -21.87        96         100               5.69  \n",
       "1                35.00        15           0               1.03  \n",
       "2                11.56        64          96               5.95  \n",
       "3                23.12        72         100               1.98  \n",
       "4                 7.00        70          90               3.05  "
      ]
     },
     "execution_count": 6,
     "metadata": {},
     "output_type": "execute_result"
    }
   ],
   "source": [
    "# create a data frame from cities, lat, and temp\n",
    "weather_data = pd.DataFrame({\"City_ID\": city_id,\n",
    "                            \"City\": name,\n",
    "                            \"Latitude\": lat,\n",
    "                            \"Longitude\": lon,\n",
    "                            \"Date\": date,\n",
    "                            \"Max Temperature (C)\": temp_max,\n",
    "                            \"Humidity\": hum,\n",
    "                            \"Cloudiness\": cloud,\n",
    "                            \"Wind Speed (km/h)\": wind_kmh,\n",
    "                            })\n",
    "\n",
    "# Convert Unix date\n",
    "weather_data[\"Date\"]=pd.to_datetime(weather_data[\"Date\"], unit='s')\n",
    "\n",
    "# Export file as csv\n",
    "weather_data.to_csv(\"output_data/cities.csv\",index=False, header=True)\n",
    "\n",
    "weather_data.head()"
   ]
  },
  {
   "cell_type": "code",
   "execution_count": 7,
   "metadata": {},
   "outputs": [
    {
     "data": {
      "image/png": "[encoded data removed]",
      "text/plain": [
       "<Figure size 432x288 with 1 Axes>"
      ]
     },
     "metadata": {
      "needs_background": "light"
     },
     "output_type": "display_data"
    }
   ],
   "source": [
    "# Review how the sample cities are distributed\n",
    "\n",
    "plt.scatter(weather_data[\"Latitude\"], weather_data[\"Longitude\"], marker=\"o\")\n",
    "\n",
    "plt.title(\"City Latitude vs Longitude\")\n",
    "plt.ylabel(\"Longitude\")\n",
    "plt.xlabel(\"Latitude\")\n",
    "plt.grid(True)\n",
    "\n",
    "# Show plot\n",
    "plt.show()"
   ]
  },
  {
   "cell_type": "code",
   "execution_count": 8,
   "metadata": {},
   "outputs": [
    {
     "data": {
      "text/html": [
       "<div>\n",
       "<style scoped>\n",
       "    .dataframe tbody tr th:only-of-type {\n",
       "        vertical-align: middle;\n",
       "    }\n",
       "\n",
       "    .dataframe tbody tr th {\n",
       "        vertical-align: top;\n",
       "    }\n",
       "\n",
       "    .dataframe thead th {\n",
       "        text-align: right;\n",
       "    }\n",
       "</style>\n",
       "<table border=\"1\" class=\"dataframe\">\n",
       "  <thead>\n",
       "    <tr style=\"text-align: right;\">\n",
       "      <th></th>\n",
       "      <th>City_ID</th>\n",
       "      <th>Latitude</th>\n",
       "      <th>Longitude</th>\n",
       "      <th>Max Temperature (C)</th>\n",
       "      <th>Humidity</th>\n",
       "      <th>Cloudiness</th>\n",
       "      <th>Wind Speed (km/h)</th>\n",
       "    </tr>\n",
       "  </thead>\n",
       "  <tbody>\n",
       "    <tr>\n",
       "      <th>count</th>\n",
       "      <td>8.00000</td>\n",
       "      <td>8.000000</td>\n",
       "      <td>8.000000</td>\n",
       "      <td>8.000000</td>\n",
       "      <td>8.000000</td>\n",
       "      <td>8.000000</td>\n",
       "      <td>8.000000</td>\n",
       "    </tr>\n",
       "    <tr>\n",
       "      <th>mean</th>\n",
       "      <td>3.50000</td>\n",
       "      <td>13.312088</td>\n",
       "      <td>-15.942500</td>\n",
       "      <td>10.448750</td>\n",
       "      <td>67.125000</td>\n",
       "      <td>59.500000</td>\n",
       "      <td>3.733750</td>\n",
       "    </tr>\n",
       "    <tr>\n",
       "      <th>std</th>\n",
       "      <td>2.44949</td>\n",
       "      <td>44.835474</td>\n",
       "      <td>90.009671</td>\n",
       "      <td>16.214554</td>\n",
       "      <td>23.166709</td>\n",
       "      <td>49.416596</td>\n",
       "      <td>2.628492</td>\n",
       "    </tr>\n",
       "    <tr>\n",
       "      <th>min</th>\n",
       "      <td>0.00000</td>\n",
       "      <td>-53.150000</td>\n",
       "      <td>-79.235300</td>\n",
       "      <td>-21.870000</td>\n",
       "      <td>15.000000</td>\n",
       "      <td>0.000000</td>\n",
       "      <td>0.890000</td>\n",
       "    </tr>\n",
       "    <tr>\n",
       "      <th>25%</th>\n",
       "      <td>1.75000</td>\n",
       "      <td>-17.431700</td>\n",
       "      <td>-79.169000</td>\n",
       "      <td>7.000000</td>\n",
       "      <td>68.500000</td>\n",
       "      <td>0.000000</td>\n",
       "      <td>1.742500</td>\n",
       "    </tr>\n",
       "    <tr>\n",
       "      <th>50%</th>\n",
       "      <td>3.50000</td>\n",
       "      <td>28.351650</td>\n",
       "      <td>-63.535800</td>\n",
       "      <td>10.280000</td>\n",
       "      <td>70.500000</td>\n",
       "      <td>90.000000</td>\n",
       "      <td>3.050000</td>\n",
       "    </tr>\n",
       "    <tr>\n",
       "      <th>75%</th>\n",
       "      <td>5.25000</td>\n",
       "      <td>42.097000</td>\n",
       "      <td>23.561250</td>\n",
       "      <td>15.365000</td>\n",
       "      <td>73.750000</td>\n",
       "      <td>97.000000</td>\n",
       "      <td>5.755000</td>\n",
       "    </tr>\n",
       "    <tr>\n",
       "      <th>max</th>\n",
       "      <td>7.00000</td>\n",
       "      <td>72.786800</td>\n",
       "      <td>168.864300</td>\n",
       "      <td>35.000000</td>\n",
       "      <td>96.000000</td>\n",
       "      <td>100.000000</td>\n",
       "      <td>8.230000</td>\n",
       "    </tr>\n",
       "  </tbody>\n",
       "</table>\n",
       "</div>"
      ],
      "text/plain": [
       "       City_ID   Latitude   Longitude  Max Temperature (C)   Humidity  \\\n",
       "count  8.00000   8.000000    8.000000             8.000000   8.000000   \n",
       "mean   3.50000  13.312088  -15.942500            10.448750  67.125000   \n",
       "std    2.44949  44.835474   90.009671            16.214554  23.166709   \n",
       "min    0.00000 -53.150000  -79.235300           -21.870000  15.000000   \n",
       "25%    1.75000 -17.431700  -79.169000             7.000000  68.500000   \n",
       "50%    3.50000  28.351650  -63.535800            10.280000  70.500000   \n",
       "75%    5.25000  42.097000   23.561250            15.365000  73.750000   \n",
       "max    7.00000  72.786800  168.864300            35.000000  96.000000   \n",
       "\n",
       "       Cloudiness  Wind Speed (km/h)  \n",
       "count    8.000000           8.000000  \n",
       "mean    59.500000           3.733750  \n",
       "std     49.416596           2.628492  \n",
       "min      0.000000           0.890000  \n",
       "25%      0.000000           1.742500  \n",
       "50%     90.000000           3.050000  \n",
       "75%     97.000000           5.755000  \n",
       "max    100.000000           8.230000  "
      ]
     },
     "execution_count": 8,
     "metadata": {},
     "output_type": "execute_result"
    }
   ],
   "source": [
    "# Review data\n",
    "# Remove any cities with humidity > 100%\n",
    "\n",
    "weather_data.describe()"
   ]
  },
  {
   "cell_type": "markdown",
   "metadata": {},
   "source": [
    "## Plotting the Data\n",
    "* Use proper labeling of the plots using plot titles (including date of analysis) and axes labels.\n",
    "* Save the plotted figures as .pngs."
   ]
  },
  {
   "cell_type": "markdown",
   "metadata": {},
   "source": [
    "## Latitude vs. Temperature Plot"
   ]
  },
  {
   "cell_type": "code",
   "execution_count": 9,
   "metadata": {
    "scrolled": true
   },
   "outputs": [
    {
     "data": {
      "image/png": "[encoded data removed]",
      "text/plain": [
       "<Figure size 432x288 with 1 Axes>"
      ]
     },
     "metadata": {
      "needs_background": "light"
     },
     "output_type": "display_data"
    }
   ],
   "source": [
    "# Build a scatter plot for each data type\n",
    "plt.scatter(weather_data[\"Latitude\"], weather_data[\"Max Temperature (C)\"], marker=\"o\")\n",
    "\n",
    "# Incorporate the other graph properties\n",
    "current_date = (weather_data[\"Date\"].max()).strftime('%d/%m/%Y')\n",
    "\n",
    "plt.title(f\"City Latitude vs Max Temperature ({current_date})\")\n",
    "plt.ylabel(\"Temperature (Celsius)\")\n",
    "plt.xlabel(\"Latitude\")\n",
    "plt.grid(True)\n",
    "\n",
    "# Save the figure\n",
    "plt.savefig(\"output_data/Temperature.png\")\n",
    "\n",
    "# Show plot\n",
    "plt.show()"
   ]
  },
  {
   "cell_type": "markdown",
   "metadata": {},
   "source": [
    "#### Temparature Analysis\n",
    "The Equator is at zero latitude, Southern Hemisphere is at negative latitude, and Northen Hemisphere is at positive latitude. As the city get closer to the Equator, the maximum temperature is warmer, especially if the city is also in the Southern Hemisphere. As the city get further away from the Equator and up toward the top of the Northern Hemisphere, the temperature will be at extreme cold level.  "
   ]
  },
  {
   "cell_type": "markdown",
   "metadata": {},
   "source": [
    "## Latitude vs. Humidity Plot"
   ]
  },
  {
   "cell_type": "code",
   "execution_count": 10,
   "metadata": {},
   "outputs": [
    {
     "data": {
      "image/png": "[encoded data removed]",
      "text/plain": [
       "<Figure size 432x288 with 1 Axes>"
      ]
     },
     "metadata": {
      "needs_background": "light"
     },
     "output_type": "display_data"
    }
   ],
   "source": [
    "# Build a scatter plot for each data type\n",
    "plt.scatter(weather_data[\"Latitude\"], weather_data[\"Humidity\"], marker=\"o\")\n",
    "\n",
    "# Incorporate the other graph properties\n",
    "current_date = (weather_data[\"Date\"].max()).strftime('%d/%m/%Y')\n",
    "\n",
    "plt.title(f\"City Latitude vs Humidity ({current_date})\")\n",
    "plt.ylabel(\"Humidity (%)\")\n",
    "plt.xlabel(\"Latitude\")\n",
    "plt.grid(True)\n",
    "\n",
    "# Save the figure\n",
    "plt.savefig(\"output_data/Humidity.png\")\n",
    "\n",
    "# Show plot\n",
    "plt.show()"
   ]
  },
  {
   "cell_type": "markdown",
   "metadata": {},
   "source": [
    "#### Humidity Analysis\n",
    "Some cities in the Northern Hemisphere have lower humidity % as they get closer to the Equator. The longitude may be another factor that influence the level of humidity too.  "
   ]
  },
  {
   "cell_type": "markdown",
   "metadata": {},
   "source": [
    "## Latitude vs. Cloudiness Plot"
   ]
  },
  {
   "cell_type": "code",
   "execution_count": 11,
   "metadata": {},
   "outputs": [
    {
     "data": {
      "image/png": "[encoded data removed]",
      "text/plain": [
       "<Figure size 432x288 with 1 Axes>"
      ]
     },
     "metadata": {
      "needs_background": "light"
     },
     "output_type": "display_data"
    }
   ],
   "source": [
    "# Build a scatter plot for each data type\n",
    "plt.scatter(weather_data[\"Latitude\"], weather_data[\"Cloudiness\"], marker=\"o\")\n",
    "\n",
    "# Incorporate the other graph properties\n",
    "current_date = (weather_data[\"Date\"].max()).strftime('%d/%m/%Y')\n",
    "\n",
    "plt.title(f\"City Latitude vs Cloudiness ({current_date})\")\n",
    "plt.ylabel(\"Cloudiness (%)\")\n",
    "plt.xlabel(\"Latitude\")\n",
    "plt.grid(True)\n",
    "\n",
    "# Save the figure\n",
    "plt.savefig(\"output_data/Cloudiness.png\")\n",
    "\n",
    "# Show plot\n",
    "plt.show()"
   ]
  },
  {
   "cell_type": "markdown",
   "metadata": {},
   "source": [
    "#### Cloudiness Analysis\n",
    "There is no distinct difference in term of cloudiness to make a solid conclusion."
   ]
  },
  {
   "cell_type": "markdown",
   "metadata": {},
   "source": [
    "## Latitude vs. Wind Speed Plot"
   ]
  },
  {
   "cell_type": "code",
   "execution_count": 12,
   "metadata": {},
   "outputs": [
    {
     "data": {
      "image/png": "[encoded data removed]",
      "text/plain": [
       "<Figure size 432x288 with 1 Axes>"
      ]
     },
     "metadata": {
      "needs_background": "light"
     },
     "output_type": "display_data"
    }
   ],
   "source": [
    "# Build a scatter plot for each data type\n",
    "plt.scatter(weather_data[\"Latitude\"], weather_data[\"Wind Speed (km/h)\"], marker=\"o\")\n",
    "\n",
    "# Incorporate the other graph properties\n",
    "current_date = (weather_data[\"Date\"].max()).strftime('%d/%m/%Y')\n",
    "\n",
    "plt.title(f\"City Latitude vs Wind Speed ({current_date})\")\n",
    "plt.ylabel(\"Wind Speed (km/h)\")\n",
    "plt.xlabel(\"Latitude\")\n",
    "plt.grid(True)\n",
    "\n",
    "# Save the figure\n",
    "plt.savefig(\"output_data/Wind_Speed.png\")\n",
    "\n",
    "# Show plot\n",
    "plt.show()"
   ]
  },
  {
   "cell_type": "markdown",
   "metadata": {},
   "source": [
    "#### Wind Speed Analysis\n",
    "There is no distinct difference in term of wind speed to make a solid conclusion."
   ]
  },
  {
   "cell_type": "markdown",
   "metadata": {},
   "source": [
    "## Linear Regression"
   ]
  },
  {
   "cell_type": "markdown",
   "metadata": {},
   "source": [
    "####  Northern Hemisphere - Max Temp vs. Latitude Linear Regression"
   ]
  },
  {
   "cell_type": "code",
   "execution_count": 13,
   "metadata": {},
   "outputs": [
    {
     "name": "stdout",
     "output_type": "stream",
     "text": [
      "The r-value is: -0.9525061968702808\n"
     ]
    },
    {
     "data": {
      "image/png": "[encoded data removed]",
      "text/plain": [
       "<Figure size 432x288 with 1 Axes>"
      ]
     },
     "metadata": {
      "needs_background": "light"
     },
     "output_type": "display_data"
    }
   ],
   "source": [
    "# Create plot data frame\n",
    "columns = [\"Latitude\",\"Max Temperature (C)\"]\n",
    "plot_df = weather_data.loc[weather_data[\"Latitude\"]>=0,columns]\n",
    "\n",
    "# Scatter plot\n",
    "x_values=plot_df.iloc[:,0]\n",
    "y_values=plot_df.iloc[:,1]\n",
    "\n",
    "(slope, intercept, rvalue, pvalue, stderr) = linregress(x_values,y_values)\n",
    "regress_values = x_values * slope + intercept\n",
    "line_eq = \"y = \" + str(round(slope,2)) + \"x + \" + str(round(intercept,2))\n",
    "\n",
    "plt.scatter(x_values,y_values)\n",
    "plt.plot(x_values,regress_values,\"r-\")\n",
    "\n",
    "plt.annotate(line_eq,(x_values.min()*1.05,y_values.min()*1.05),fontsize=14,color=\"red\")\n",
    "plt.title(f\"City {plot_df.columns[0]} vs {plot_df.columns[1]}\")\n",
    "plt.xlabel(plot_df.columns[0])\n",
    "plt.ylabel(f\"{plot_df.columns[1]}\")\n",
    "\n",
    "# R-value\n",
    "print(f\"The r-value is: {rvalue}\")\n",
    "plt.show()"
   ]
  },
  {
   "cell_type": "markdown",
   "metadata": {},
   "source": [
    "####  Southern Hemisphere - Max Temp vs. Latitude Linear Regression"
   ]
  },
  {
   "cell_type": "code",
   "execution_count": 14,
   "metadata": {},
   "outputs": [
    {
     "name": "stdout",
     "output_type": "stream",
     "text": [
      "The r-value is: 0.9929907222787814\n"
     ]
    },
    {
     "data": {
      "image/png": "[encoded data removed]",
      "text/plain": [
       "<Figure size 432x288 with 1 Axes>"
      ]
     },
     "metadata": {
      "needs_background": "light"
     },
     "output_type": "display_data"
    }
   ],
   "source": [
    "# Create plot data frame\n",
    "columns = [\"Latitude\",\"Max Temperature (C)\"]\n",
    "plot_df = weather_data.loc[weather_data[\"Latitude\"]<0,columns]\n",
    "\n",
    "# Scatter plot\n",
    "x_values=plot_df.iloc[:,0]\n",
    "y_values=plot_df.iloc[:,1]\n",
    "\n",
    "(slope, intercept, rvalue, pvalue, stderr) = linregress(x_values,y_values)\n",
    "regress_values = x_values * slope + intercept\n",
    "line_eq = \"y = \" + str(round(slope,2)) + \"x + \" + str(round(intercept,2))\n",
    "\n",
    "plt.scatter(x_values,y_values)\n",
    "plt.plot(x_values,regress_values,\"r-\")\n",
    "\n",
    "plt.annotate(line_eq,(x_values.min()*0.95,y_values.min()*1.05),fontsize=14,color=\"red\")\n",
    "plt.title(f\"City {plot_df.columns[0]} vs {plot_df.columns[1]}\")\n",
    "plt.xlabel(plot_df.columns[0])\n",
    "plt.ylabel(f\"{plot_df.columns[1]}\")\n",
    "\n",
    "# R-value\n",
    "print(f\"The r-value is: {rvalue}\")\n",
    "plt.show()"
   ]
  },
  {
   "cell_type": "markdown",
   "metadata": {},
   "source": [
    "####  Northern Hemisphere - Humidity (%) vs. Latitude Linear Regression"
   ]
  },
  {
   "cell_type": "code",
   "execution_count": 15,
   "metadata": {},
   "outputs": [
    {
     "name": "stdout",
     "output_type": "stream",
     "text": [
      "The r-value is: 0.8379032231459542\n"
     ]
    },
    {
     "data": {
      "image/png": "[encoded data removed]",
      "text/plain": [
       "<Figure size 432x288 with 1 Axes>"
      ]
     },
     "metadata": {
      "needs_background": "light"
     },
     "output_type": "display_data"
    }
   ],
   "source": [
    "# Create plot data frame\n",
    "columns = [\"Latitude\",\"Humidity\"]\n",
    "plot_df = weather_data.loc[weather_data[\"Latitude\"]>=0,columns]\n",
    "\n",
    "# Scatter plot\n",
    "x_values=plot_df.iloc[:,0]\n",
    "y_values=plot_df.iloc[:,1]\n",
    "\n",
    "(slope, intercept, rvalue, pvalue, stderr) = linregress(x_values,y_values)\n",
    "regress_values = x_values * slope + intercept\n",
    "line_eq = \"y = \" + str(round(slope,2)) + \"x + \" + str(round(intercept,2))\n",
    "\n",
    "plt.scatter(x_values,y_values)\n",
    "plt.plot(x_values,regress_values,\"r-\")\n",
    "\n",
    "plt.annotate(line_eq,(x_values.min()*1.05,y_values.min()*1.05),fontsize=14,color=\"red\")\n",
    "plt.title(f\"City {plot_df.columns[0]} vs {plot_df.columns[1]}\")\n",
    "plt.xlabel(plot_df.columns[0])\n",
    "plt.ylabel(f\"{plot_df.columns[1]}\")\n",
    "\n",
    "# R-value\n",
    "print(f\"The r-value is: {rvalue}\")\n",
    "plt.show()"
   ]
  },
  {
   "cell_type": "markdown",
   "metadata": {},
   "source": [
    "####  Southern Hemisphere - Humidity (%) vs. Latitude Linear Regression"
   ]
  },
  {
   "cell_type": "code",
   "execution_count": 16,
   "metadata": {},
   "outputs": [
    {
     "name": "stdout",
     "output_type": "stream",
     "text": [
      "The r-value is: -0.2624596812895896\n"
     ]
    },
    {
     "data": {
      "image/png": "[encoded data removed]",
      "text/plain": [
       "<Figure size 432x288 with 1 Axes>"
      ]
     },
     "metadata": {
      "needs_background": "light"
     },
     "output_type": "display_data"
    }
   ],
   "source": [
    "# Create plot data frame\n",
    "columns = [\"Latitude\",\"Humidity\"]\n",
    "plot_df = weather_data.loc[weather_data[\"Latitude\"]<0,columns]\n",
    "\n",
    "# Scatter plot\n",
    "x_values=plot_df.iloc[:,0]\n",
    "y_values=plot_df.iloc[:,1]\n",
    "\n",
    "(slope, intercept, rvalue, pvalue, stderr) = linregress(x_values,y_values)\n",
    "regress_values = x_values * slope + intercept\n",
    "line_eq = \"y = \" + str(round(slope,2)) + \"x + \" + str(round(intercept,2))\n",
    "\n",
    "plt.scatter(x_values,y_values)\n",
    "plt.plot(x_values,regress_values,\"r-\")\n",
    "\n",
    "plt.annotate(line_eq,(x_values.min()*0.95,y_values.min()*1.05),fontsize=14,color=\"red\")\n",
    "plt.title(f\"City {plot_df.columns[0]} vs {plot_df.columns[1]}\")\n",
    "plt.xlabel(plot_df.columns[0])\n",
    "plt.ylabel(f\"{plot_df.columns[1]}\")\n",
    "\n",
    "# R-value\n",
    "print(f\"The r-value is: {rvalue}\")\n",
    "plt.show()"
   ]
  },
  {
   "cell_type": "markdown",
   "metadata": {},
   "source": [
    "####  Northern Hemisphere - Cloudiness (%) vs. Latitude Linear Regression"
   ]
  },
  {
   "cell_type": "code",
   "execution_count": 17,
   "metadata": {},
   "outputs": [
    {
     "name": "stdout",
     "output_type": "stream",
     "text": [
      "The r-value is: 0.5844737252909633\n"
     ]
    },
    {
     "data": {
      "image/png": "[encoded data removed]",
      "text/plain": [
       "<Figure size 432x288 with 1 Axes>"
      ]
     },
     "metadata": {
      "needs_background": "light"
     },
     "output_type": "display_data"
    }
   ],
   "source": [
    "# Create plot data frame\n",
    "columns = [\"Latitude\",\"Cloudiness\"]\n",
    "plot_df = weather_data.loc[weather_data[\"Latitude\"]>=0,columns]\n",
    "\n",
    "# Scatter plot\n",
    "x_values=plot_df.iloc[:,0]\n",
    "y_values=plot_df.iloc[:,1]\n",
    "\n",
    "(slope, intercept, rvalue, pvalue, stderr) = linregress(x_values,y_values)\n",
    "regress_values = x_values * slope + intercept\n",
    "line_eq = \"y = \" + str(round(slope,2)) + \"x + \" + str(round(intercept,2))\n",
    "\n",
    "plt.scatter(x_values,y_values)\n",
    "plt.plot(x_values,regress_values,\"r-\")\n",
    "\n",
    "plt.annotate(line_eq,(x_values.min()*1.05,y_values.min()*1.05),fontsize=14,color=\"red\")\n",
    "plt.title(f\"City {plot_df.columns[0]} vs {plot_df.columns[1]}\")\n",
    "plt.xlabel(plot_df.columns[0])\n",
    "plt.ylabel(f\"{plot_df.columns[1]}\")\n",
    "\n",
    "# R-value\n",
    "print(f\"The r-value is: {rvalue}\")\n",
    "plt.show()"
   ]
  },
  {
   "cell_type": "markdown",
   "metadata": {},
   "source": [
    "####  Southern Hemisphere - Cloudiness (%) vs. Latitude Linear Regression"
   ]
  },
  {
   "cell_type": "code",
   "execution_count": 18,
   "metadata": {},
   "outputs": [
    {
     "name": "stdout",
     "output_type": "stream",
     "text": [
      "The r-value is: 0.9897832911650697\n"
     ]
    },
    {
     "data": {
      "image/png": "[encoded data removed]",
      "text/plain": [
       "<Figure size 432x288 with 1 Axes>"
      ]
     },
     "metadata": {
      "needs_background": "light"
     },
     "output_type": "display_data"
    }
   ],
   "source": [
    "# Create plot data frame\n",
    "columns = [\"Latitude\",\"Cloudiness\"]\n",
    "plot_df = weather_data.loc[weather_data[\"Latitude\"]<0,columns]\n",
    "\n",
    "# Scatter plot\n",
    "x_values=plot_df.iloc[:,0]\n",
    "y_values=plot_df.iloc[:,1]\n",
    "\n",
    "(slope, intercept, rvalue, pvalue, stderr) = linregress(x_values,y_values)\n",
    "regress_values = x_values * slope + intercept\n",
    "line_eq = \"y = \" + str(round(slope,2)) + \"x + \" + str(round(intercept,2))\n",
    "\n",
    "plt.scatter(x_values,y_values)\n",
    "plt.plot(x_values,regress_values,\"r-\")\n",
    "\n",
    "plt.annotate(line_eq,(x_values.min()*0.95,y_values.min()*1.05),fontsize=14,color=\"red\")\n",
    "plt.title(f\"City {plot_df.columns[0]} vs {plot_df.columns[1]}\")\n",
    "plt.xlabel(plot_df.columns[0])\n",
    "plt.ylabel(f\"{plot_df.columns[1]}\")\n",
    "\n",
    "# R-value\n",
    "print(f\"The r-value is: {rvalue}\")\n",
    "plt.show()"
   ]
  },
  {
   "cell_type": "markdown",
   "metadata": {},
   "source": [
    "####  Northern Hemisphere - Wind Speed (mph) vs. Latitude Linear Regression"
   ]
  },
  {
   "cell_type": "code",
   "execution_count": 19,
   "metadata": {},
   "outputs": [
    {
     "name": "stdout",
     "output_type": "stream",
     "text": [
      "The r-value is: 0.5435191785388997\n"
     ]
    },
    {
     "data": {
      "image/png": "[encoded data removed]",
      "text/plain": [
       "<Figure size 432x288 with 1 Axes>"
      ]
     },
     "metadata": {
      "needs_background": "light"
     },
     "output_type": "display_data"
    }
   ],
   "source": [
    "# Create plot data frame\n",
    "columns = [\"Latitude\",\"Wind Speed (km/h)\"]\n",
    "plot_df = weather_data.loc[weather_data[\"Latitude\"]>=0,columns]\n",
    "\n",
    "# Scatter plot\n",
    "x_values=plot_df.iloc[:,0]\n",
    "y_values=plot_df.iloc[:,1]\n",
    "\n",
    "(slope, intercept, rvalue, pvalue, stderr) = linregress(x_values,y_values)\n",
    "regress_values = x_values * slope + intercept\n",
    "line_eq = \"y = \" + str(round(slope,2)) + \"x + \" + str(round(intercept,2))\n",
    "\n",
    "plt.scatter(x_values,y_values)\n",
    "plt.plot(x_values,regress_values,\"r-\")\n",
    "\n",
    "plt.annotate(line_eq,(x_values.min()*1.05,y_values.min()*1.05),fontsize=14,color=\"red\")\n",
    "plt.title(f\"City {plot_df.columns[0]} vs {plot_df.columns[1]}\")\n",
    "plt.xlabel(plot_df.columns[0])\n",
    "plt.ylabel(f\"{plot_df.columns[1]}\")\n",
    "\n",
    "# R-value\n",
    "print(f\"The r-value is: {rvalue}\")\n",
    "plt.show()"
   ]
  },
  {
   "cell_type": "markdown",
   "metadata": {},
   "source": [
    "####  Southern Hemisphere - Wind Speed (mph) vs. Latitude Linear Regression"
   ]
  },
  {
   "cell_type": "code",
   "execution_count": 20,
   "metadata": {},
   "outputs": [
    {
     "name": "stdout",
     "output_type": "stream",
     "text": [
      "The r-value is: -0.5043497946385518\n"
     ]
    },
    {
     "data": {
      "image/png": "[encoded data removed]",
      "text/plain": [
       "<Figure size 432x288 with 1 Axes>"
      ]
     },
     "metadata": {
      "needs_background": "light"
     },
     "output_type": "display_data"
    }
   ],
   "source": [
    "# Create plot data frame\n",
    "columns = [\"Latitude\",\"Wind Speed (km/h)\"]\n",
    "plot_df = weather_data.loc[weather_data[\"Latitude\"]<0,columns]\n",
    "\n",
    "# Scatter plot\n",
    "x_values=plot_df.iloc[:,0]\n",
    "y_values=plot_df.iloc[:,1]\n",
    "\n",
    "(slope, intercept, rvalue, pvalue, stderr) = linregress(x_values,y_values)\n",
    "regress_values = x_values * slope + intercept\n",
    "line_eq = \"y = \" + str(round(slope,2)) + \"x + \" + str(round(intercept,2))\n",
    "\n",
    "plt.scatter(x_values,y_values)\n",
    "plt.plot(x_values,regress_values,\"r-\")\n",
    "\n",
    "plt.annotate(line_eq,(x_values.min()*0.95,y_values.min()*1.05),fontsize=14,color=\"red\")\n",
    "plt.title(f\"City {plot_df.columns[0]} vs {plot_df.columns[1]}\")\n",
    "plt.xlabel(plot_df.columns[0])\n",
    "plt.ylabel(f\"{plot_df.columns[1]}\")\n",
    "\n",
    "# R-value\n",
    "print(f\"The r-value is: {rvalue}\")\n",
    "plt.show()"
   ]
  },
  {
   "cell_type": "code",
   "execution_count": null,
   "metadata": {},
   "outputs": [],
   "source": []
  }
 ],
 "metadata": {
  "anaconda-cloud": {},
  "kernel_info": {
   "name": "python3"
  },
  "kernelspec": {
   "display_name": "Python 3",
   "language": "python",
   "name": "python3"
  },
  "language_info": {
   "codemirror_mode": {
    "name": "ipython",
    "version": 3
   },
   "file_extension": ".py",
   "mimetype": "text/x-python",
   "name": "python",
   "nbconvert_exporter": "python",
   "pygments_lexer": "ipython3",
   "version": "3.6.10"
  },
  "latex_envs": {
   "LaTeX_envs_menu_present": true,
   "autoclose": false,
   "autocomplete": true,
   "bibliofile": "biblio.bib",
   "cite_by": "apalike",
   "current_citInitial": 1,
   "eqLabelWithNumbers": true,
   "eqNumInitial": 1,
   "hotkeys": {
    "equation": "Ctrl-E",
    "itemize": "Ctrl-I"
   },
   "labels_anchors": false,
   "latex_user_defs": false,
   "report_style_numbering": false,
   "user_envs_cfg": false
  },
  "nteract": {
   "version": "0.12.3"
  }
 },
 "nbformat": 4,
 "nbformat_minor": 2
}
