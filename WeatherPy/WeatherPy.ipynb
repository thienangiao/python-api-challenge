{
 "cells": [
  {
   "cell_type": "markdown",
   "metadata": {},
   "source": [
    "# WeatherPy (Part 1)\n",
    "----"
   ]
  },
  {
   "cell_type": "code",
   "execution_count": 1,
   "metadata": {
    "scrolled": true
   },
   "outputs": [],
   "source": [
    "# Dependencies\n",
    "import matplotlib.pyplot as plt\n",
    "import pandas as pd\n",
    "import random\n",
    "import json\n",
    "import requests\n",
    "import numpy as np\n",
    "import gmaps\n",
    "import os\n",
    "from scipy.stats import linregress\n",
    "from citipy import citipy\n",
    "from pprint import pprint\n",
    "\n",
    "# Import API key\n",
    "from api_keys import weather_api_key\n",
    "from api_keys import g_key"
   ]
  },
  {
   "cell_type": "markdown",
   "metadata": {},
   "source": [
    "### Generate Cities List"
   ]
  },
  {
   "cell_type": "code",
   "execution_count": 2,
   "metadata": {},
   "outputs": [],
   "source": [
    "# Generate random latitude\\longitude\n",
    "sample_size = 600\n",
    "latitude = []\n",
    "longitude = []\n",
    "\n",
    "for x in range (0,sample_size):\n",
    "    latitude.append(random.randint(-90,90))\n",
    "    longitude.append(random.randint(-180,180)) "
   ]
  },
  {
   "cell_type": "code",
   "execution_count": 3,
   "metadata": {},
   "outputs": [],
   "source": [
    "# Select closest city using citipy library (https://pypi.python.org/pypi/citipy)\n",
    "\n",
    "cities = []\n",
    "\n",
    "for x,y in zip(latitude,longitude):\n",
    "    city=citipy.nearest_city(x,y)  \n",
    "    cities.append(city.city_name)\n"
   ]
  },
  {
   "cell_type": "markdown",
   "metadata": {},
   "source": [
    "### Perform API Calls\n"
   ]
  },
  {
   "cell_type": "code",
   "execution_count": 4,
   "metadata": {},
   "outputs": [],
   "source": [
    "# Save config information.\n",
    "url = \"http://api.openweathermap.org/data/2.5/weather?\"\n",
    "units = \"metric\"\n",
    "api_key= weather_api_key\n",
    "\n",
    "# Build partial query URL\n",
    "query_url = f\"{url}appid={api_key}&units={units}&q=\""
   ]
  },
  {
   "cell_type": "code",
   "execution_count": 5,
   "metadata": {},
   "outputs": [
    {
     "name": "stdout",
     "output_type": "stream",
     "text": [
      "tiksi found. Appending data\n",
      "new norfolk found. Appending data\n",
      "klaksvik found. Appending data\n",
      "sentyabrskiy not found. Skipping...\n",
      "korla found. Appending data\n",
      "rikitea found. Appending data\n",
      "isangel found. Appending data\n",
      "methoni found. Appending data\n",
      "necochea found. Appending data\n",
      "leningradskiy found. Appending data\n",
      "ilhabela found. Appending data\n",
      "barrow found. Appending data\n",
      "barnstaple found. Appending data\n",
      "mehamn found. Appending data\n",
      "nikolskoye found. Appending data\n",
      "lasa found. Appending data\n",
      "cape town found. Appending data\n",
      "mataura found. Appending data\n",
      "ushuaia found. Appending data\n",
      "nicolas bravo found. Appending data\n",
      "rikitea found. Appending data\n",
      "hobart found. Appending data\n",
      "cabo san lucas found. Appending data\n",
      "saint-pierre found. Appending data\n",
      "hobart found. Appending data\n",
      "puerto ayora found. Appending data\n",
      "samarai found. Appending data\n",
      "sijunjung found. Appending data\n",
      "hobart found. Appending data\n",
      "albany found. Appending data\n",
      "lata found. Appending data\n",
      "dikson found. Appending data\n",
      "cape town found. Appending data\n",
      "bambous virieux found. Appending data\n",
      "kapaa found. Appending data\n",
      "kapaa found. Appending data\n",
      "talnakh found. Appending data\n",
      "punta gorda found. Appending data\n",
      "rikitea found. Appending data\n",
      "tuktoyaktuk found. Appending data\n",
      "turochak found. Appending data\n",
      "atuona found. Appending data\n",
      "cayenne found. Appending data\n",
      "amderma not found. Skipping...\n",
      "puerto ayora found. Appending data\n",
      "rikitea found. Appending data\n",
      "sovetskiy found. Appending data\n",
      "cayenne found. Appending data\n",
      "baraki barak found. Appending data\n",
      "luderitz found. Appending data\n",
      "ponta delgada found. Appending data\n",
      "arantangi found. Appending data\n",
      "ilulissat found. Appending data\n",
      "arkadelphia found. Appending data\n",
      "nemuro found. Appending data\n",
      "gashua found. Appending data\n",
      "punta arenas found. Appending data\n",
      "esperance found. Appending data\n",
      "laizhou found. Appending data\n",
      "jamestown found. Appending data\n",
      "barentsburg not found. Skipping...\n",
      "tateyama found. Appending data\n",
      "hilo found. Appending data\n",
      "linqiong found. Appending data\n",
      "faanui found. Appending data\n",
      "dunedin found. Appending data\n",
      "lebu found. Appending data\n",
      "douglas found. Appending data\n",
      "avarua found. Appending data\n",
      "hilo found. Appending data\n",
      "puerto ayora found. Appending data\n",
      "dicabisagan found. Appending data\n",
      "busselton found. Appending data\n",
      "kapaa found. Appending data\n",
      "san quintin found. Appending data\n",
      "carnarvon found. Appending data\n",
      "nizhneyansk not found. Skipping...\n",
      "ushuaia found. Appending data\n",
      "bac lieu found. Appending data\n",
      "labuhan found. Appending data\n",
      "barrow found. Appending data\n",
      "kaitangata found. Appending data\n",
      "nanortalik found. Appending data\n",
      "ushuaia found. Appending data\n",
      "tuktoyaktuk found. Appending data\n",
      "albany found. Appending data\n",
      "port macquarie found. Appending data\n",
      "jalu found. Appending data\n",
      "barrow found. Appending data\n",
      "carnarvon found. Appending data\n",
      "caravelas found. Appending data\n",
      "punta arenas found. Appending data\n",
      "hithadhoo found. Appending data\n",
      "attawapiskat not found. Skipping...\n",
      "atuona found. Appending data\n",
      "punta arenas found. Appending data\n",
      "henties bay found. Appending data\n",
      "pala found. Appending data\n",
      "mana found. Appending data\n",
      "gorno-chuyskiy not found. Skipping...\n",
      "hilo found. Appending data\n",
      "acapulco found. Appending data\n",
      "bambous virieux found. Appending data\n",
      "tuatapere found. Appending data\n",
      "isangel found. Appending data\n",
      "ushuaia found. Appending data\n",
      "zlatoustovsk not found. Skipping...\n",
      "georgetown found. Appending data\n",
      "adrar found. Appending data\n",
      "nevers found. Appending data\n",
      "rikitea found. Appending data\n",
      "kieta found. Appending data\n",
      "bilma found. Appending data\n",
      "port lincoln found. Appending data\n",
      "cockburn town found. Appending data\n",
      "crateus found. Appending data\n",
      "koshurnikovo found. Appending data\n",
      "cape town found. Appending data\n",
      "kapaa found. Appending data\n",
      "marrakesh found. Appending data\n",
      "georgetown found. Appending data\n",
      "samalaeulu not found. Skipping...\n",
      "calvinia found. Appending data\n",
      "jamestown found. Appending data\n",
      "bethel found. Appending data\n",
      "buchanan found. Appending data\n",
      "sentyabrskiy not found. Skipping...\n",
      "morros found. Appending data\n",
      "anadyr found. Appending data\n",
      "komsomolskiy found. Appending data\n",
      "barrow found. Appending data\n",
      "la ronge found. Appending data\n",
      "ksenyevka not found. Skipping...\n",
      "port elizabeth found. Appending data\n",
      "belle fourche found. Appending data\n",
      "rikitea found. Appending data\n",
      "busselton found. Appending data\n",
      "jamestown found. Appending data\n",
      "dwarka found. Appending data\n",
      "ushuaia found. Appending data\n",
      "vaini found. Appending data\n",
      "barrow found. Appending data\n",
      "new norfolk found. Appending data\n",
      "hurghada found. Appending data\n",
      "mataura found. Appending data\n",
      "quatre cocos found. Appending data\n",
      "east london found. Appending data\n",
      "kaitangata found. Appending data\n",
      "rawson found. Appending data\n",
      "arlit found. Appending data\n",
      "hobart found. Appending data\n",
      "lolua not found. Skipping...\n",
      "batemans bay found. Appending data\n",
      "ormara found. Appending data\n",
      "georgetown found. Appending data\n",
      "kruisfontein found. Appending data\n",
      "mataura found. Appending data\n",
      "taolanaro not found. Skipping...\n",
      "ribeira grande found. Appending data\n",
      "albany found. Appending data\n",
      "severo-kurilsk found. Appending data\n",
      "busselton found. Appending data\n",
      "wilmington found. Appending data\n",
      "mar del plata found. Appending data\n",
      "constitucion found. Appending data\n",
      "qaanaaq found. Appending data\n",
      "aras found. Appending data\n",
      "tres arroyos found. Appending data\n",
      "hami found. Appending data\n",
      "ribeira grande found. Appending data\n",
      "dikson found. Appending data\n",
      "puerto ayora found. Appending data\n",
      "jamestown found. Appending data\n",
      "port augusta found. Appending data\n",
      "salym found. Appending data\n",
      "punta arenas found. Appending data\n",
      "arraial do cabo found. Appending data\n",
      "kuching found. Appending data\n",
      "lenine found. Appending data\n",
      "san jeronimo found. Appending data\n",
      "hasaki found. Appending data\n",
      "vaini found. Appending data\n",
      "manitowoc found. Appending data\n",
      "butaritari found. Appending data\n",
      "ribeira grande found. Appending data\n",
      "punta arenas found. Appending data\n",
      "jamestown found. Appending data\n",
      "yellowknife found. Appending data\n",
      "bluff found. Appending data\n",
      "bud found. Appending data\n",
      "port elizabeth found. Appending data\n",
      "nuuk found. Appending data\n",
      "makung not found. Skipping...\n",
      "khed brahma found. Appending data\n",
      "bluff found. Appending data\n",
      "cabo san lucas found. Appending data\n",
      "klaksvik found. Appending data\n",
      "ushuaia found. Appending data\n",
      "paucartambo not found. Skipping...\n",
      "punta arenas found. Appending data\n",
      "kloulklubed found. Appending data\n",
      "lavrentiya found. Appending data\n",
      "ushuaia found. Appending data\n",
      "linxia found. Appending data\n",
      "ancud found. Appending data\n",
      "pokrovsk found. Appending data\n",
      "tateyama found. Appending data\n",
      "new norfolk found. Appending data\n",
      "victoria found. Appending data\n",
      "new norfolk found. Appending data\n",
      "rikitea found. Appending data\n",
      "tilichiki found. Appending data\n",
      "wuzhou found. Appending data\n",
      "taolanaro not found. Skipping...\n",
      "sataua not found. Skipping...\n",
      "barrow found. Appending data\n",
      "fatezh found. Appending data\n",
      "roald found. Appending data\n",
      "castro found. Appending data\n",
      "kaitangata found. Appending data\n",
      "ushuaia found. Appending data\n",
      "saint-philippe found. Appending data\n",
      "aykhal found. Appending data\n",
      "bluff found. Appending data\n",
      "hilo found. Appending data\n",
      "cua found. Appending data\n",
      "qaanaaq found. Appending data\n",
      "kazalinsk not found. Skipping...\n",
      "codrington found. Appending data\n",
      "albany found. Appending data\n",
      "hithadhoo found. Appending data\n",
      "codrington found. Appending data\n",
      "mataura found. Appending data\n",
      "mahadday weyne not found. Skipping...\n",
      "clyde river found. Appending data\n",
      "georgetown found. Appending data\n",
      "agadir found. Appending data\n",
      "busselton found. Appending data\n",
      "atuona found. Appending data\n",
      "amderma not found. Skipping...\n",
      "dunedin found. Appending data\n",
      "bredasdorp found. Appending data\n",
      "yungkang not found. Skipping...\n",
      "punta arenas found. Appending data\n",
      "ribeira grande found. Appending data\n",
      "port hardy found. Appending data\n",
      "san lawrenz found. Appending data\n",
      "bud found. Appending data\n",
      "altay found. Appending data\n",
      "cape town found. Appending data\n",
      "ushuaia found. Appending data\n",
      "artyom found. Appending data\n",
      "tabou found. Appending data\n",
      "rikitea found. Appending data\n",
      "nouadhibou found. Appending data\n",
      "new norfolk found. Appending data\n",
      "vaini found. Appending data\n",
      "rikitea found. Appending data\n",
      "westport found. Appending data\n",
      "pedernales found. Appending data\n"
     ]
    },
    {
     "name": "stdout",
     "output_type": "stream",
     "text": [
      "nouadhibou found. Appending data\n",
      "ribeira grande found. Appending data\n",
      "paamiut found. Appending data\n",
      "cabo san lucas found. Appending data\n",
      "cherskiy found. Appending data\n",
      "busselton found. Appending data\n",
      "mataura found. Appending data\n",
      "albany found. Appending data\n",
      "takoradi found. Appending data\n",
      "nanortalik found. Appending data\n",
      "punta arenas found. Appending data\n",
      "gat found. Appending data\n",
      "toora-khem found. Appending data\n",
      "new norfolk found. Appending data\n",
      "sao filipe found. Appending data\n",
      "kapaa found. Appending data\n",
      "leticia found. Appending data\n",
      "sao filipe found. Appending data\n",
      "vaini found. Appending data\n",
      "bengkulu found. Appending data\n",
      "la ronge found. Appending data\n",
      "doctor pedro p. pena not found. Skipping...\n",
      "hithadhoo found. Appending data\n",
      "barentsburg not found. Skipping...\n",
      "bluff found. Appending data\n",
      "onega found. Appending data\n",
      "cape town found. Appending data\n",
      "khatanga found. Appending data\n",
      "nadym found. Appending data\n",
      "iqaluit found. Appending data\n",
      "malakal found. Appending data\n",
      "airai found. Appending data\n",
      "inhambane found. Appending data\n",
      "punta arenas found. Appending data\n",
      "rorvik found. Appending data\n",
      "cayenne found. Appending data\n",
      "hithadhoo found. Appending data\n",
      "hohhot found. Appending data\n",
      "bonavista found. Appending data\n",
      "mar del plata found. Appending data\n",
      "halalo not found. Skipping...\n",
      "rikitea found. Appending data\n",
      "college found. Appending data\n",
      "jamestown found. Appending data\n",
      "lomovka found. Appending data\n",
      "sibolga found. Appending data\n",
      "upata found. Appending data\n",
      "poli found. Appending data\n",
      "kalianget found. Appending data\n",
      "illoqqortoormiut not found. Skipping...\n",
      "mataura found. Appending data\n",
      "ushuaia found. Appending data\n",
      "vaini found. Appending data\n",
      "wawa found. Appending data\n",
      "hobart found. Appending data\n",
      "georgetown found. Appending data\n",
      "nishihara found. Appending data\n",
      "busselton found. Appending data\n",
      "pisco found. Appending data\n",
      "souillac found. Appending data\n",
      "macapa found. Appending data\n",
      "port blair found. Appending data\n",
      "sorvag not found. Skipping...\n",
      "cape town found. Appending data\n",
      "bahia honda found. Appending data\n",
      "luderitz found. Appending data\n",
      "butaritari found. Appending data\n",
      "airai found. Appending data\n",
      "shingu found. Appending data\n",
      "taolanaro not found. Skipping...\n",
      "avera found. Appending data\n",
      "bluff found. Appending data\n",
      "bom jesus found. Appending data\n",
      "salalah found. Appending data\n",
      "manokwari found. Appending data\n",
      "davila found. Appending data\n",
      "keti bandar found. Appending data\n",
      "excelsior springs found. Appending data\n",
      "mys shmidta not found. Skipping...\n",
      "ushuaia found. Appending data\n",
      "codrington found. Appending data\n",
      "vaini found. Appending data\n",
      "mataura found. Appending data\n",
      "vaini found. Appending data\n",
      "bluff found. Appending data\n",
      "mahebourg found. Appending data\n",
      "dikson found. Appending data\n",
      "busselton found. Appending data\n",
      "albany found. Appending data\n",
      "laguna found. Appending data\n",
      "chinsali found. Appending data\n",
      "mount gambier found. Appending data\n",
      "samandag found. Appending data\n",
      "cape town found. Appending data\n",
      "cherskiy found. Appending data\n",
      "boguchany found. Appending data\n",
      "iqaluit found. Appending data\n",
      "purranque found. Appending data\n",
      "bom jardim found. Appending data\n",
      "qaqortoq found. Appending data\n",
      "taolanaro not found. Skipping...\n",
      "haines junction found. Appending data\n",
      "butaritari found. Appending data\n",
      "kirakira found. Appending data\n",
      "san jose found. Appending data\n",
      "palabuhanratu not found. Skipping...\n",
      "atuona found. Appending data\n",
      "katsuura found. Appending data\n",
      "albany found. Appending data\n",
      "esperance found. Appending data\n",
      "ushuaia found. Appending data\n",
      "otane found. Appending data\n",
      "barrow found. Appending data\n",
      "cape town found. Appending data\n",
      "albany found. Appending data\n",
      "bilibino found. Appending data\n",
      "port-gentil found. Appending data\n",
      "mataura found. Appending data\n",
      "hihifo not found. Skipping...\n",
      "poum found. Appending data\n",
      "sao miguel do araguaia found. Appending data\n",
      "punta arenas found. Appending data\n",
      "chokurdakh found. Appending data\n",
      "pisco found. Appending data\n",
      "mehamn found. Appending data\n",
      "bainbridge found. Appending data\n",
      "ushuaia found. Appending data\n",
      "namibe found. Appending data\n",
      "hualmay found. Appending data\n",
      "kaeo found. Appending data\n",
      "hobart found. Appending data\n",
      "bredasdorp found. Appending data\n",
      "avarua found. Appending data\n",
      "ajdabiya found. Appending data\n",
      "geraldton found. Appending data\n",
      "tabuk found. Appending data\n",
      "punta arenas found. Appending data\n",
      "samarai found. Appending data\n",
      "kodiak found. Appending data\n",
      "cairns found. Appending data\n",
      "nizhneyansk not found. Skipping...\n",
      "touros found. Appending data\n",
      "albany found. Appending data\n",
      "mouzakion not found. Skipping...\n",
      "hit found. Appending data\n",
      "meadow lake found. Appending data\n",
      "colesberg found. Appending data\n",
      "tallahassee found. Appending data\n",
      "peachland found. Appending data\n",
      "barrow found. Appending data\n",
      "mabaruma found. Appending data\n",
      "belushya guba not found. Skipping...\n",
      "adrar found. Appending data\n",
      "cape town found. Appending data\n",
      "hilo found. Appending data\n",
      "quatre cocos found. Appending data\n",
      "tsihombe not found. Skipping...\n",
      "rikitea found. Appending data\n",
      "pisco found. Appending data\n",
      "provideniya found. Appending data\n",
      "ilhabela found. Appending data\n",
      "belushya guba not found. Skipping...\n",
      "lukulu found. Appending data\n",
      "rikitea found. Appending data\n",
      "sambava found. Appending data\n",
      "amderma not found. Skipping...\n",
      "grand river south east not found. Skipping...\n",
      "massakory found. Appending data\n",
      "bethel found. Appending data\n",
      "butaritari found. Appending data\n",
      "mataura found. Appending data\n",
      "kapaa found. Appending data\n",
      "vaitupu not found. Skipping...\n",
      "acapulco found. Appending data\n",
      "barentsburg not found. Skipping...\n",
      "talakan found. Appending data\n",
      "busselton found. Appending data\n",
      "luderitz found. Appending data\n",
      "ushuaia found. Appending data\n",
      "busselton found. Appending data\n",
      "sao jose da coroa grande found. Appending data\n",
      "nogliki found. Appending data\n",
      "bengkulu found. Appending data\n",
      "newark found. Appending data\n",
      "san rafael found. Appending data\n",
      "durham found. Appending data\n",
      "albany found. Appending data\n",
      "talnakh found. Appending data\n",
      "vaini found. Appending data\n",
      "mataura found. Appending data\n",
      "albany found. Appending data\n",
      "esperance found. Appending data\n",
      "kyzyl-suu found. Appending data\n",
      "ulladulla found. Appending data\n",
      "port elizabeth found. Appending data\n",
      "saldanha found. Appending data\n",
      "yumen found. Appending data\n",
      "tuktoyaktuk found. Appending data\n",
      "khonuu not found. Skipping...\n",
      "abu dhabi found. Appending data\n",
      "jamestown found. Appending data\n",
      "samalaeulu not found. Skipping...\n",
      "atuona found. Appending data\n",
      "belushya guba not found. Skipping...\n",
      "itoman found. Appending data\n",
      "vaini found. Appending data\n",
      "kapit found. Appending data\n",
      "adelaide found. Appending data\n",
      "punta arenas found. Appending data\n",
      "oktyabrskoye found. Appending data\n",
      "ciudad bolivar found. Appending data\n",
      "jamestown found. Appending data\n",
      "samusu not found. Skipping...\n",
      "hobart found. Appending data\n",
      "grindavik found. Appending data\n",
      "aykhal found. Appending data\n",
      "hasaki found. Appending data\n",
      "esperance found. Appending data\n",
      "cherskiy found. Appending data\n",
      "ushuaia found. Appending data\n",
      "vila do maio found. Appending data\n",
      "kapaa found. Appending data\n",
      "hobart found. Appending data\n",
      "bluff found. Appending data\n",
      "ribeira grande found. Appending data\n",
      "bluff found. Appending data\n",
      "ushuaia found. Appending data\n",
      "ushuaia found. Appending data\n",
      "jamestown found. Appending data\n",
      "balkanabat found. Appending data\n",
      "ushuaia found. Appending data\n",
      "jamestown found. Appending data\n",
      "luderitz found. Appending data\n",
      "vaini found. Appending data\n",
      "atuona found. Appending data\n",
      "ushuaia found. Appending data\n",
      "barrow found. Appending data\n",
      "avarua found. Appending data\n",
      "tuktoyaktuk found. Appending data\n",
      "rapar found. Appending data\n",
      "butaritari found. Appending data\n",
      "busselton found. Appending data\n",
      "grand gaube found. Appending data\n",
      "biak found. Appending data\n",
      "hambantota found. Appending data\n",
      "kathmandu found. Appending data\n",
      "saldanha found. Appending data\n",
      "barentsburg not found. Skipping...\n",
      "ushuaia found. Appending data\n",
      "menongue found. Appending data\n",
      "koshurnikovo found. Appending data\n",
      "hobart found. Appending data\n",
      "melita found. Appending data\n",
      "bathsheba found. Appending data\n",
      "hermanus found. Appending data\n",
      "albany found. Appending data\n",
      "sioux lookout found. Appending data\n",
      "georgetown found. Appending data\n",
      "samusu not found. Skipping...\n",
      "durusu found. Appending data\n",
      "albany found. Appending data\n",
      "tuktoyaktuk found. Appending data\n"
     ]
    },
    {
     "name": "stdout",
     "output_type": "stream",
     "text": [
      "kirakira found. Appending data\n",
      "kaduy found. Appending data\n",
      "punta arenas found. Appending data\n",
      "lorengau found. Appending data\n",
      "ucluelet found. Appending data\n",
      "ushuaia found. Appending data\n",
      "busselton found. Appending data\n",
      "jamestown found. Appending data\n",
      "saint george found. Appending data\n",
      "mangrol found. Appending data\n",
      "ustyuzhna found. Appending data\n",
      "jamestown found. Appending data\n",
      "cabo san lucas found. Appending data\n",
      "kirakira found. Appending data\n",
      "norman wells found. Appending data\n",
      "ushuaia found. Appending data\n",
      "la ronge found. Appending data\n",
      "severo-kurilsk found. Appending data\n",
      "punta arenas found. Appending data\n",
      "kodiak found. Appending data\n",
      "carnarvon found. Appending data\n",
      "hithadhoo found. Appending data\n",
      "kenai found. Appending data\n",
      "flinders found. Appending data\n",
      "illoqqortoormiut not found. Skipping...\n",
      "athabasca found. Appending data\n",
      "rikitea found. Appending data\n",
      "hasaki found. Appending data\n",
      "adrar found. Appending data\n",
      "avarua found. Appending data\n",
      "waipawa found. Appending data\n",
      "kaitangata found. Appending data\n",
      "chokurdakh found. Appending data\n",
      "hilo found. Appending data\n",
      "mataura found. Appending data\n",
      "freeport found. Appending data\n",
      "punta arenas found. Appending data\n",
      "bluff found. Appending data\n",
      "belushya guba not found. Skipping...\n",
      "tessalit found. Appending data\n",
      "jamestown found. Appending data\n",
      "arlit found. Appending data\n",
      "thompson found. Appending data\n",
      "khatanga found. Appending data\n",
      "khor found. Appending data\n",
      "ushuaia found. Appending data\n",
      "omboue found. Appending data\n",
      "albany found. Appending data\n",
      "hithadhoo found. Appending data\n",
      "hermanus found. Appending data\n",
      "pacasmayo found. Appending data\n",
      "atuona found. Appending data\n",
      "qaanaaq found. Appending data\n",
      "moron found. Appending data\n",
      "amherst found. Appending data\n",
      "ilulissat found. Appending data\n",
      "punta arenas found. Appending data\n",
      "ribeira grande found. Appending data\n",
      "atuona found. Appending data\n",
      "port alfred found. Appending data\n",
      "kavaratti found. Appending data\n",
      "puerto ayora found. Appending data\n",
      "rikitea found. Appending data\n",
      "ponta do sol found. Appending data\n",
      "yurga found. Appending data\n",
      "punta arenas found. Appending data\n",
      "visnes found. Appending data\n",
      "hobart found. Appending data\n",
      "illoqqortoormiut not found. Skipping...\n",
      "mozarlandia found. Appending data\n",
      "flinders found. Appending data\n",
      "bailieborough found. Appending data\n",
      "yellowknife found. Appending data\n",
      "busselton found. Appending data\n",
      "taolanaro not found. Skipping...\n",
      "esperance found. Appending data\n",
      "dunedin found. Appending data\n",
      "souillac found. Appending data\n"
     ]
    }
   ],
   "source": [
    "# set up lists to hold reponse info\n",
    "\n",
    "name = []\n",
    "country = []\n",
    "lat = []\n",
    "lon = []\n",
    "date = []\n",
    "temp_max = []\n",
    "hum = []\n",
    "cloud = []\n",
    "wind_kmh = []\n",
    "\n",
    "# Loop through the list of cities and perform a request for data on each\n",
    "for city in cities:\n",
    "    response = requests.get(query_url + city).json()\n",
    "    \n",
    "    try:\n",
    "        name.append(response['name'])\n",
    "        country.append(response['sys']['country'])        \n",
    "        lat.append(response['coord']['lat'])\n",
    "        lon.append(response['coord']['lon']) \n",
    "        date.append(response['dt'])    \n",
    "        temp_max.append(response['main']['temp_max'])\n",
    "        hum.append(response['main']['humidity'])\n",
    "        cloud.append(response['clouds']['all'])\n",
    "        wind_kmh.append(response['wind']['speed'])\n",
    "        print(f\"{city} found. Appending data\")\n",
    "        \n",
    "    except:\n",
    "       # Append null values\n",
    "       print(f\"{city} not found. Skipping...\")\n",
    "    pass\n",
    "\n",
    "# Create city ID\n",
    "city_id = []\n",
    "\n",
    "for id in range(len(name)):\n",
    "    city_id.append(id)\n"
   ]
  },
  {
   "cell_type": "markdown",
   "metadata": {},
   "source": [
    "### Convert Raw Data to DataFrame\n"
   ]
  },
  {
   "cell_type": "code",
   "execution_count": 6,
   "metadata": {},
   "outputs": [
    {
     "data": {
      "text/html": [
       "<div>\n",
       "<style scoped>\n",
       "    .dataframe tbody tr th:only-of-type {\n",
       "        vertical-align: middle;\n",
       "    }\n",
       "\n",
       "    .dataframe tbody tr th {\n",
       "        vertical-align: top;\n",
       "    }\n",
       "\n",
       "    .dataframe thead th {\n",
       "        text-align: right;\n",
       "    }\n",
       "</style>\n",
       "<table border=\"1\" class=\"dataframe\">\n",
       "  <thead>\n",
       "    <tr style=\"text-align: right;\">\n",
       "      <th></th>\n",
       "      <th>City_ID</th>\n",
       "      <th>City</th>\n",
       "      <th>Country</th>\n",
       "      <th>Latitude</th>\n",
       "      <th>Longitude</th>\n",
       "      <th>Date</th>\n",
       "      <th>Max Temperature (C)</th>\n",
       "      <th>Humidity</th>\n",
       "      <th>Cloudiness</th>\n",
       "      <th>Wind Speed (km/h)</th>\n",
       "    </tr>\n",
       "  </thead>\n",
       "  <tbody>\n",
       "    <tr>\n",
       "      <th>0</th>\n",
       "      <td>0</td>\n",
       "      <td>Tiksi</td>\n",
       "      <td>RU</td>\n",
       "      <td>71.6872</td>\n",
       "      <td>128.8694</td>\n",
       "      <td>2021-03-19 07:07:42</td>\n",
       "      <td>-18.92</td>\n",
       "      <td>98</td>\n",
       "      <td>100</td>\n",
       "      <td>3.67</td>\n",
       "    </tr>\n",
       "    <tr>\n",
       "      <th>1</th>\n",
       "      <td>1</td>\n",
       "      <td>New Norfolk</td>\n",
       "      <td>AU</td>\n",
       "      <td>-42.7826</td>\n",
       "      <td>147.0587</td>\n",
       "      <td>2021-03-19 07:05:30</td>\n",
       "      <td>21.11</td>\n",
       "      <td>47</td>\n",
       "      <td>0</td>\n",
       "      <td>1.34</td>\n",
       "    </tr>\n",
       "    <tr>\n",
       "      <th>2</th>\n",
       "      <td>2</td>\n",
       "      <td>Klaksvík</td>\n",
       "      <td>FO</td>\n",
       "      <td>62.2266</td>\n",
       "      <td>-6.5890</td>\n",
       "      <td>2021-03-19 07:07:42</td>\n",
       "      <td>7.00</td>\n",
       "      <td>100</td>\n",
       "      <td>75</td>\n",
       "      <td>7.20</td>\n",
       "    </tr>\n",
       "    <tr>\n",
       "      <th>3</th>\n",
       "      <td>3</td>\n",
       "      <td>Korla</td>\n",
       "      <td>CN</td>\n",
       "      <td>41.7597</td>\n",
       "      <td>86.1469</td>\n",
       "      <td>2021-03-19 07:07:42</td>\n",
       "      <td>3.88</td>\n",
       "      <td>72</td>\n",
       "      <td>45</td>\n",
       "      <td>3.78</td>\n",
       "    </tr>\n",
       "    <tr>\n",
       "      <th>4</th>\n",
       "      <td>4</td>\n",
       "      <td>Rikitea</td>\n",
       "      <td>PF</td>\n",
       "      <td>-23.1203</td>\n",
       "      <td>-134.9692</td>\n",
       "      <td>2021-03-19 07:01:32</td>\n",
       "      <td>26.78</td>\n",
       "      <td>78</td>\n",
       "      <td>100</td>\n",
       "      <td>7.49</td>\n",
       "    </tr>\n",
       "  </tbody>\n",
       "</table>\n",
       "</div>"
      ],
      "text/plain": [
       "   City_ID         City Country  Latitude  Longitude                Date  \\\n",
       "0        0        Tiksi      RU   71.6872   128.8694 2021-03-19 07:07:42   \n",
       "1        1  New Norfolk      AU  -42.7826   147.0587 2021-03-19 07:05:30   \n",
       "2        2     Klaksvík      FO   62.2266    -6.5890 2021-03-19 07:07:42   \n",
       "3        3        Korla      CN   41.7597    86.1469 2021-03-19 07:07:42   \n",
       "4        4      Rikitea      PF  -23.1203  -134.9692 2021-03-19 07:01:32   \n",
       "\n",
       "   Max Temperature (C)  Humidity  Cloudiness  Wind Speed (km/h)  \n",
       "0               -18.92        98         100               3.67  \n",
       "1                21.11        47           0               1.34  \n",
       "2                 7.00       100          75               7.20  \n",
       "3                 3.88        72          45               3.78  \n",
       "4                26.78        78         100               7.49  "
      ]
     },
     "execution_count": 6,
     "metadata": {},
     "output_type": "execute_result"
    }
   ],
   "source": [
    "# create a data frame from cities, lat, and temp\n",
    "weather_data = pd.DataFrame({\"City_ID\": city_id,\n",
    "                            \"City\": name,\n",
    "                            \"Country\": country,\n",
    "                            \"Latitude\": lat,\n",
    "                            \"Longitude\": lon,\n",
    "                            \"Date\": date,\n",
    "                            \"Max Temperature (C)\": temp_max,\n",
    "                            \"Humidity\": hum,\n",
    "                            \"Cloudiness\": cloud,\n",
    "                            \"Wind Speed (km/h)\": wind_kmh\n",
    "                            })\n",
    "\n",
    "# Convert Unix date\n",
    "weather_data[\"Date\"]=pd.to_datetime(weather_data[\"Date\"], unit='s')\n",
    "\n",
    "# Export file as csv\n",
    "weather_data.to_csv(\"output_data/cities.csv\",index=False, header=True)\n",
    "\n",
    "weather_data.head()"
   ]
  },
  {
   "cell_type": "code",
   "execution_count": 7,
   "metadata": {},
   "outputs": [
    {
     "data": {
      "image/png": "[encoded data removed]",
      "text/plain": [
       "<Figure size 432x288 with 1 Axes>"
      ]
     },
     "metadata": {
      "needs_background": "light"
     },
     "output_type": "display_data"
    }
   ],
   "source": [
    "# Review how the sample cities are distributed\n",
    "\n",
    "plt.scatter(weather_data[\"Latitude\"], weather_data[\"Longitude\"], marker=\"o\")\n",
    "\n",
    "plt.title(\"City Latitude vs Longitude\")\n",
    "plt.ylabel(\"Longitude\")\n",
    "plt.xlabel(\"Latitude\")\n",
    "plt.grid(True)\n",
    "\n",
    "# Show plot\n",
    "plt.show()"
   ]
  },
  {
   "cell_type": "code",
   "execution_count": 8,
   "metadata": {},
   "outputs": [
    {
     "data": {
      "text/html": [
       "<div>\n",
       "<style scoped>\n",
       "    .dataframe tbody tr th:only-of-type {\n",
       "        vertical-align: middle;\n",
       "    }\n",
       "\n",
       "    .dataframe tbody tr th {\n",
       "        vertical-align: top;\n",
       "    }\n",
       "\n",
       "    .dataframe thead th {\n",
       "        text-align: right;\n",
       "    }\n",
       "</style>\n",
       "<table border=\"1\" class=\"dataframe\">\n",
       "  <thead>\n",
       "    <tr style=\"text-align: right;\">\n",
       "      <th></th>\n",
       "      <th>City_ID</th>\n",
       "      <th>Latitude</th>\n",
       "      <th>Longitude</th>\n",
       "      <th>Max Temperature (C)</th>\n",
       "      <th>Humidity</th>\n",
       "      <th>Cloudiness</th>\n",
       "      <th>Wind Speed (km/h)</th>\n",
       "    </tr>\n",
       "  </thead>\n",
       "  <tbody>\n",
       "    <tr>\n",
       "      <th>count</th>\n",
       "      <td>551.000000</td>\n",
       "      <td>551.000000</td>\n",
       "      <td>551.000000</td>\n",
       "      <td>551.000000</td>\n",
       "      <td>551.000000</td>\n",
       "      <td>551.000000</td>\n",
       "      <td>551.000000</td>\n",
       "    </tr>\n",
       "    <tr>\n",
       "      <th>mean</th>\n",
       "      <td>275.000000</td>\n",
       "      <td>5.709267</td>\n",
       "      <td>5.146748</td>\n",
       "      <td>13.190744</td>\n",
       "      <td>70.395644</td>\n",
       "      <td>49.863884</td>\n",
       "      <td>3.997368</td>\n",
       "    </tr>\n",
       "    <tr>\n",
       "      <th>std</th>\n",
       "      <td>159.204271</td>\n",
       "      <td>39.840757</td>\n",
       "      <td>106.038959</td>\n",
       "      <td>15.512330</td>\n",
       "      <td>20.008260</td>\n",
       "      <td>41.364781</td>\n",
       "      <td>2.806937</td>\n",
       "    </tr>\n",
       "    <tr>\n",
       "      <th>min</th>\n",
       "      <td>0.000000</td>\n",
       "      <td>-54.800000</td>\n",
       "      <td>-175.200000</td>\n",
       "      <td>-33.030000</td>\n",
       "      <td>8.000000</td>\n",
       "      <td>0.000000</td>\n",
       "      <td>0.180000</td>\n",
       "    </tr>\n",
       "    <tr>\n",
       "      <th>25%</th>\n",
       "      <td>137.500000</td>\n",
       "      <td>-33.650000</td>\n",
       "      <td>-73.966200</td>\n",
       "      <td>5.250000</td>\n",
       "      <td>59.000000</td>\n",
       "      <td>1.000000</td>\n",
       "      <td>1.790000</td>\n",
       "    </tr>\n",
       "    <tr>\n",
       "      <th>50%</th>\n",
       "      <td>275.000000</td>\n",
       "      <td>4.423000</td>\n",
       "      <td>3.333300</td>\n",
       "      <td>16.680000</td>\n",
       "      <td>76.000000</td>\n",
       "      <td>45.000000</td>\n",
       "      <td>3.420000</td>\n",
       "    </tr>\n",
       "    <tr>\n",
       "      <th>75%</th>\n",
       "      <td>412.500000</td>\n",
       "      <td>41.578750</td>\n",
       "      <td>110.825000</td>\n",
       "      <td>25.560000</td>\n",
       "      <td>83.000000</td>\n",
       "      <td>91.500000</td>\n",
       "      <td>5.660000</td>\n",
       "    </tr>\n",
       "    <tr>\n",
       "      <th>max</th>\n",
       "      <td>550.000000</td>\n",
       "      <td>77.484000</td>\n",
       "      <td>178.416700</td>\n",
       "      <td>39.000000</td>\n",
       "      <td>100.000000</td>\n",
       "      <td>100.000000</td>\n",
       "      <td>30.870000</td>\n",
       "    </tr>\n",
       "  </tbody>\n",
       "</table>\n",
       "</div>"
      ],
      "text/plain": [
       "          City_ID    Latitude   Longitude  Max Temperature (C)    Humidity  \\\n",
       "count  551.000000  551.000000  551.000000           551.000000  551.000000   \n",
       "mean   275.000000    5.709267    5.146748            13.190744   70.395644   \n",
       "std    159.204271   39.840757  106.038959            15.512330   20.008260   \n",
       "min      0.000000  -54.800000 -175.200000           -33.030000    8.000000   \n",
       "25%    137.500000  -33.650000  -73.966200             5.250000   59.000000   \n",
       "50%    275.000000    4.423000    3.333300            16.680000   76.000000   \n",
       "75%    412.500000   41.578750  110.825000            25.560000   83.000000   \n",
       "max    550.000000   77.484000  178.416700            39.000000  100.000000   \n",
       "\n",
       "       Cloudiness  Wind Speed (km/h)  \n",
       "count  551.000000         551.000000  \n",
       "mean    49.863884           3.997368  \n",
       "std     41.364781           2.806937  \n",
       "min      0.000000           0.180000  \n",
       "25%      1.000000           1.790000  \n",
       "50%     45.000000           3.420000  \n",
       "75%     91.500000           5.660000  \n",
       "max    100.000000          30.870000  "
      ]
     },
     "execution_count": 8,
     "metadata": {},
     "output_type": "execute_result"
    }
   ],
   "source": [
    "# Review data\n",
    "# Remove any cities with humidity > 100%\n",
    "\n",
    "weather_data.describe()"
   ]
  },
  {
   "cell_type": "markdown",
   "metadata": {},
   "source": [
    "## Plotting the Data\n",
    "* Use proper labeling of the plots using plot titles (including date of analysis) and axes labels.\n",
    "* Save the plotted figures as .pngs."
   ]
  },
  {
   "cell_type": "markdown",
   "metadata": {},
   "source": [
    "## Latitude vs. Temperature Plot"
   ]
  },
  {
   "cell_type": "code",
   "execution_count": 9,
   "metadata": {
    "scrolled": true
   },
   "outputs": [
    {
     "data": {
      "image/png": "[encoded data removed]",
      "text/plain": [
       "<Figure size 432x288 with 1 Axes>"
      ]
     },
     "metadata": {
      "needs_background": "light"
     },
     "output_type": "display_data"
    }
   ],
   "source": [
    "# Build a scatter plot for each data type\n",
    "plt.scatter(weather_data[\"Latitude\"], weather_data[\"Max Temperature (C)\"], marker=\"o\")\n",
    "\n",
    "# Incorporate the other graph properties\n",
    "current_date = (weather_data[\"Date\"].max()).strftime('%d/%m/%Y')\n",
    "\n",
    "plt.title(f\"City Latitude vs Max Temperature ({current_date})\")\n",
    "plt.ylabel(\"Temperature (Celsius)\")\n",
    "plt.xlabel(\"Latitude\")\n",
    "plt.grid(True)\n",
    "\n",
    "# Save the figure\n",
    "plt.savefig(\"output_data/Temperature.png\")\n",
    "\n",
    "# Show plot\n",
    "plt.show()"
   ]
  },
  {
   "cell_type": "markdown",
   "metadata": {},
   "source": [
    "#### Temparature Analysis\n",
    "The Equator is at zero latitude, Southern Hemisphere is at negative latitude, and Northen Hemisphere is at positive latitude. As the city get closer to the Equator, the maximum temperature is warmer, especially if the city is also in the Southern Hemisphere. As the city get further away from the Equator and up toward the top of the Northern Hemisphere, the temperature will be at extreme cold level.  "
   ]
  },
  {
   "cell_type": "markdown",
   "metadata": {},
   "source": [
    "## Latitude vs. Humidity Plot"
   ]
  },
  {
   "cell_type": "code",
   "execution_count": 10,
   "metadata": {},
   "outputs": [
    {
     "data": {
      "image/png": "[encoded data removed]",
      "text/plain": [
       "<Figure size 432x288 with 1 Axes>"
      ]
     },
     "metadata": {
      "needs_background": "light"
     },
     "output_type": "display_data"
    }
   ],
   "source": [
    "# Build a scatter plot for each data type\n",
    "plt.scatter(weather_data[\"Latitude\"], weather_data[\"Humidity\"], marker=\"o\")\n",
    "\n",
    "# Incorporate the other graph properties\n",
    "current_date = (weather_data[\"Date\"].max()).strftime('%d/%m/%Y')\n",
    "\n",
    "plt.title(f\"City Latitude vs Humidity ({current_date})\")\n",
    "plt.ylabel(\"Humidity (%)\")\n",
    "plt.xlabel(\"Latitude\")\n",
    "plt.grid(True)\n",
    "\n",
    "# Save the figure\n",
    "plt.savefig(\"output_data/Humidity.png\")\n",
    "\n",
    "# Show plot\n",
    "plt.show()"
   ]
  },
  {
   "cell_type": "markdown",
   "metadata": {},
   "source": [
    "#### Humidity Analysis\n",
    "Some cities in the Northern Hemisphere have lower humidity % as they get closer to the Equator. The longitude may be another factor that influence the level of humidity too.  "
   ]
  },
  {
   "cell_type": "markdown",
   "metadata": {},
   "source": [
    "## Latitude vs. Cloudiness Plot"
   ]
  },
  {
   "cell_type": "code",
   "execution_count": 11,
   "metadata": {},
   "outputs": [
    {
     "data": {
      "image/png": "[encoded data removed]",
      "text/plain": [
       "<Figure size 432x288 with 1 Axes>"
      ]
     },
     "metadata": {
      "needs_background": "light"
     },
     "output_type": "display_data"
    }
   ],
   "source": [
    "# Build a scatter plot for each data type\n",
    "plt.scatter(weather_data[\"Latitude\"], weather_data[\"Cloudiness\"], marker=\"o\")\n",
    "\n",
    "# Incorporate the other graph properties\n",
    "current_date = (weather_data[\"Date\"].max()).strftime('%d/%m/%Y')\n",
    "\n",
    "plt.title(f\"City Latitude vs Cloudiness ({current_date})\")\n",
    "plt.ylabel(\"Cloudiness (%)\")\n",
    "plt.xlabel(\"Latitude\")\n",
    "plt.grid(True)\n",
    "\n",
    "# Save the figure\n",
    "plt.savefig(\"output_data/Cloudiness.png\")\n",
    "\n",
    "# Show plot\n",
    "plt.show()"
   ]
  },
  {
   "cell_type": "markdown",
   "metadata": {},
   "source": [
    "#### Cloudiness Analysis\n",
    "There is no distinct difference in term of cloudiness to make a solid conclusion."
   ]
  },
  {
   "cell_type": "markdown",
   "metadata": {},
   "source": [
    "## Latitude vs. Wind Speed Plot"
   ]
  },
  {
   "cell_type": "code",
   "execution_count": 12,
   "metadata": {},
   "outputs": [
    {
     "data": {
      "image/png": "[encoded data removed]",
      "text/plain": [
       "<Figure size 432x288 with 1 Axes>"
      ]
     },
     "metadata": {
      "needs_background": "light"
     },
     "output_type": "display_data"
    }
   ],
   "source": [
    "# Build a scatter plot for each data type\n",
    "plt.scatter(weather_data[\"Latitude\"], weather_data[\"Wind Speed (km/h)\"], marker=\"o\")\n",
    "\n",
    "# Incorporate the other graph properties\n",
    "current_date = (weather_data[\"Date\"].max()).strftime('%d/%m/%Y')\n",
    "\n",
    "plt.title(f\"City Latitude vs Wind Speed ({current_date})\")\n",
    "plt.ylabel(\"Wind Speed (km/h)\")\n",
    "plt.xlabel(\"Latitude\")\n",
    "plt.grid(True)\n",
    "\n",
    "# Save the figure\n",
    "plt.savefig(\"output_data/Wind_Speed.png\")\n",
    "\n",
    "# Show plot\n",
    "plt.show()"
   ]
  },
  {
   "cell_type": "markdown",
   "metadata": {},
   "source": [
    "#### Wind Speed Analysis\n",
    "There is no distinct difference in term of wind speed to make a solid conclusion."
   ]
  },
  {
   "cell_type": "markdown",
   "metadata": {},
   "source": [
    "## Linear Regression"
   ]
  },
  {
   "cell_type": "markdown",
   "metadata": {},
   "source": [
    "####  Northern Hemisphere - Max Temp vs. Latitude Linear Regression"
   ]
  },
  {
   "cell_type": "code",
   "execution_count": 13,
   "metadata": {},
   "outputs": [
    {
     "name": "stdout",
     "output_type": "stream",
     "text": [
      "The r-value is: -0.9231937349895291\n"
     ]
    },
    {
     "data": {
      "image/png": "[encoded data removed]",
      "text/plain": [
       "<Figure size 432x288 with 1 Axes>"
      ]
     },
     "metadata": {
      "needs_background": "light"
     },
     "output_type": "display_data"
    }
   ],
   "source": [
    "# Create plot data frame\n",
    "columns = [\"Latitude\",\"Max Temperature (C)\"]\n",
    "plot_df = weather_data.loc[weather_data[\"Latitude\"]>=0,columns]\n",
    "\n",
    "# Scatter plot\n",
    "x_values=plot_df.iloc[:,0]\n",
    "y_values=plot_df.iloc[:,1]\n",
    "\n",
    "(slope, intercept, rvalue, pvalue, stderr) = linregress(x_values,y_values)\n",
    "regress_values = x_values * slope + intercept\n",
    "line_eq = \"y = \" + str(round(slope,2)) + \"x + \" + str(round(intercept,2))\n",
    "\n",
    "plt.scatter(x_values,y_values)\n",
    "plt.plot(x_values,regress_values,\"r-\")\n",
    "\n",
    "plt.annotate(line_eq,(x_values.min()*1.05,y_values.min()*1.05),fontsize=14,color=\"red\")\n",
    "plt.title(f\"City {plot_df.columns[0]} vs {plot_df.columns[1]}\")\n",
    "plt.xlabel(plot_df.columns[0])\n",
    "plt.ylabel(f\"{plot_df.columns[1]}\")\n",
    "\n",
    "# R-value\n",
    "print(f\"The r-value is: {rvalue}\")\n",
    "plt.show()"
   ]
  },
  {
   "cell_type": "code",
   "execution_count": null,
   "metadata": {},
   "outputs": [],
   "source": []
  },
  {
   "cell_type": "markdown",
   "metadata": {},
   "source": [
    "####  Southern Hemisphere - Max Temp vs. Latitude Linear Regression"
   ]
  },
  {
   "cell_type": "code",
   "execution_count": 14,
   "metadata": {},
   "outputs": [
    {
     "name": "stdout",
     "output_type": "stream",
     "text": [
      "The r-value is: 0.7134635227448131\n"
     ]
    },
    {
     "data": {
      "image/png": "[encoded data removed]",
      "text/plain": [
       "<Figure size 432x288 with 1 Axes>"
      ]
     },
     "metadata": {
      "needs_background": "light"
     },
     "output_type": "display_data"
    }
   ],
   "source": [
    "# Create plot data frame\n",
    "columns = [\"Latitude\",\"Max Temperature (C)\"]\n",
    "plot_df = weather_data.loc[weather_data[\"Latitude\"]<0,columns]\n",
    "\n",
    "# Scatter plot\n",
    "x_values=plot_df.iloc[:,0]\n",
    "y_values=plot_df.iloc[:,1]\n",
    "\n",
    "(slope, intercept, rvalue, pvalue, stderr) = linregress(x_values,y_values)\n",
    "regress_values = x_values * slope + intercept\n",
    "line_eq = \"y = \" + str(round(slope,2)) + \"x + \" + str(round(intercept,2))\n",
    "\n",
    "plt.scatter(x_values,y_values)\n",
    "plt.plot(x_values,regress_values,\"r-\")\n",
    "\n",
    "plt.annotate(line_eq,(x_values.min()*0.95,y_values.min()*1.05),fontsize=14,color=\"red\")\n",
    "plt.title(f\"City {plot_df.columns[0]} vs {plot_df.columns[1]}\")\n",
    "plt.xlabel(plot_df.columns[0])\n",
    "plt.ylabel(f\"{plot_df.columns[1]}\")\n",
    "\n",
    "# R-value\n",
    "print(f\"The r-value is: {rvalue}\")\n",
    "plt.show()"
   ]
  },
  {
   "cell_type": "code",
   "execution_count": null,
   "metadata": {},
   "outputs": [],
   "source": []
  },
  {
   "cell_type": "markdown",
   "metadata": {},
   "source": [
    "####  Northern Hemisphere - Humidity (%) vs. Latitude Linear Regression"
   ]
  },
  {
   "cell_type": "code",
   "execution_count": 15,
   "metadata": {},
   "outputs": [
    {
     "name": "stdout",
     "output_type": "stream",
     "text": [
      "The r-value is: 0.3124111686461575\n"
     ]
    },
    {
     "data": {
      "image/png": "[encoded data removed]",
      "text/plain": [
       "<Figure size 432x288 with 1 Axes>"
      ]
     },
     "metadata": {
      "needs_background": "light"
     },
     "output_type": "display_data"
    }
   ],
   "source": [
    "# Create plot data frame\n",
    "columns = [\"Latitude\",\"Humidity\"]\n",
    "plot_df = weather_data.loc[weather_data[\"Latitude\"]>=0,columns]\n",
    "\n",
    "# Scatter plot\n",
    "x_values=plot_df.iloc[:,0]\n",
    "y_values=plot_df.iloc[:,1]\n",
    "\n",
    "(slope, intercept, rvalue, pvalue, stderr) = linregress(x_values,y_values)\n",
    "regress_values = x_values * slope + intercept\n",
    "line_eq = \"y = \" + str(round(slope,2)) + \"x + \" + str(round(intercept,2))\n",
    "\n",
    "plt.scatter(x_values,y_values)\n",
    "plt.plot(x_values,regress_values,\"r-\")\n",
    "\n",
    "plt.annotate(line_eq,(x_values.min()*1.05,y_values.min()*1.05),fontsize=14,color=\"red\")\n",
    "plt.title(f\"City {plot_df.columns[0]} vs {plot_df.columns[1]}\")\n",
    "plt.xlabel(plot_df.columns[0])\n",
    "plt.ylabel(f\"{plot_df.columns[1]}\")\n",
    "\n",
    "# R-value\n",
    "print(f\"The r-value is: {rvalue}\")\n",
    "plt.show()"
   ]
  },
  {
   "cell_type": "code",
   "execution_count": null,
   "metadata": {},
   "outputs": [],
   "source": []
  },
  {
   "cell_type": "markdown",
   "metadata": {},
   "source": [
    "####  Southern Hemisphere - Humidity (%) vs. Latitude Linear Regression"
   ]
  },
  {
   "cell_type": "code",
   "execution_count": 16,
   "metadata": {},
   "outputs": [
    {
     "name": "stdout",
     "output_type": "stream",
     "text": [
      "The r-value is: 0.22083513804379595\n"
     ]
    },
    {
     "data": {
      "image/png": "[encoded data removed]",
      "text/plain": [
       "<Figure size 432x288 with 1 Axes>"
      ]
     },
     "metadata": {
      "needs_background": "light"
     },
     "output_type": "display_data"
    }
   ],
   "source": [
    "# Create plot data frame\n",
    "columns = [\"Latitude\",\"Humidity\"]\n",
    "plot_df = weather_data.loc[weather_data[\"Latitude\"]<0,columns]\n",
    "\n",
    "# Scatter plot\n",
    "x_values=plot_df.iloc[:,0]\n",
    "y_values=plot_df.iloc[:,1]\n",
    "\n",
    "(slope, intercept, rvalue, pvalue, stderr) = linregress(x_values,y_values)\n",
    "regress_values = x_values * slope + intercept\n",
    "line_eq = \"y = \" + str(round(slope,2)) + \"x + \" + str(round(intercept,2))\n",
    "\n",
    "plt.scatter(x_values,y_values)\n",
    "plt.plot(x_values,regress_values,\"r-\")\n",
    "\n",
    "plt.annotate(line_eq,(x_values.min()*0.95,y_values.min()*1.05),fontsize=14,color=\"red\")\n",
    "plt.title(f\"City {plot_df.columns[0]} vs {plot_df.columns[1]}\")\n",
    "plt.xlabel(plot_df.columns[0])\n",
    "plt.ylabel(f\"{plot_df.columns[1]}\")\n",
    "\n",
    "# R-value\n",
    "print(f\"The r-value is: {rvalue}\")\n",
    "plt.show()"
   ]
  },
  {
   "cell_type": "code",
   "execution_count": null,
   "metadata": {},
   "outputs": [],
   "source": []
  },
  {
   "cell_type": "markdown",
   "metadata": {},
   "source": [
    "####  Northern Hemisphere - Cloudiness (%) vs. Latitude Linear Regression"
   ]
  },
  {
   "cell_type": "code",
   "execution_count": 17,
   "metadata": {},
   "outputs": [
    {
     "name": "stdout",
     "output_type": "stream",
     "text": [
      "The r-value is: 0.1650020719580022\n"
     ]
    },
    {
     "data": {
      "image/png": "[encoded data removed]",
      "text/plain": [
       "<Figure size 432x288 with 1 Axes>"
      ]
     },
     "metadata": {
      "needs_background": "light"
     },
     "output_type": "display_data"
    }
   ],
   "source": [
    "# Create plot data frame\n",
    "columns = [\"Latitude\",\"Cloudiness\"]\n",
    "plot_df = weather_data.loc[weather_data[\"Latitude\"]>=0,columns]\n",
    "\n",
    "# Scatter plot\n",
    "x_values=plot_df.iloc[:,0]\n",
    "y_values=plot_df.iloc[:,1]\n",
    "\n",
    "(slope, intercept, rvalue, pvalue, stderr) = linregress(x_values,y_values)\n",
    "regress_values = x_values * slope + intercept\n",
    "line_eq = \"y = \" + str(round(slope,2)) + \"x + \" + str(round(intercept,2))\n",
    "\n",
    "plt.scatter(x_values,y_values)\n",
    "plt.plot(x_values,regress_values,\"r-\")\n",
    "\n",
    "plt.annotate(line_eq,(x_values.min()*1.05,y_values.min()*1.05),fontsize=14,color=\"red\")\n",
    "plt.title(f\"City {plot_df.columns[0]} vs {plot_df.columns[1]}\")\n",
    "plt.xlabel(plot_df.columns[0])\n",
    "plt.ylabel(f\"{plot_df.columns[1]}\")\n",
    "\n",
    "# R-value\n",
    "print(f\"The r-value is: {rvalue}\")\n",
    "plt.show()"
   ]
  },
  {
   "cell_type": "code",
   "execution_count": null,
   "metadata": {},
   "outputs": [],
   "source": []
  },
  {
   "cell_type": "markdown",
   "metadata": {},
   "source": [
    "####  Southern Hemisphere - Cloudiness (%) vs. Latitude Linear Regression"
   ]
  },
  {
   "cell_type": "code",
   "execution_count": 18,
   "metadata": {},
   "outputs": [
    {
     "name": "stdout",
     "output_type": "stream",
     "text": [
      "The r-value is: 0.26610427244240986\n"
     ]
    },
    {
     "data": {
      "image/png": "[encoded data removed]",
      "text/plain": [
       "<Figure size 432x288 with 1 Axes>"
      ]
     },
     "metadata": {
      "needs_background": "light"
     },
     "output_type": "display_data"
    }
   ],
   "source": [
    "# Create plot data frame\n",
    "columns = [\"Latitude\",\"Cloudiness\"]\n",
    "plot_df = weather_data.loc[weather_data[\"Latitude\"]<0,columns]\n",
    "\n",
    "# Scatter plot\n",
    "x_values=plot_df.iloc[:,0]\n",
    "y_values=plot_df.iloc[:,1]\n",
    "\n",
    "(slope, intercept, rvalue, pvalue, stderr) = linregress(x_values,y_values)\n",
    "regress_values = x_values * slope + intercept\n",
    "line_eq = \"y = \" + str(round(slope,2)) + \"x + \" + str(round(intercept,2))\n",
    "\n",
    "plt.scatter(x_values,y_values)\n",
    "plt.plot(x_values,regress_values,\"r-\")\n",
    "\n",
    "plt.annotate(line_eq,(x_values.min()*0.95,y_values.min()*1.05),fontsize=14,color=\"red\")\n",
    "plt.title(f\"City {plot_df.columns[0]} vs {plot_df.columns[1]}\")\n",
    "plt.xlabel(plot_df.columns[0])\n",
    "plt.ylabel(f\"{plot_df.columns[1]}\")\n",
    "\n",
    "# R-value\n",
    "print(f\"The r-value is: {rvalue}\")\n",
    "plt.show()"
   ]
  },
  {
   "cell_type": "code",
   "execution_count": null,
   "metadata": {},
   "outputs": [],
   "source": []
  },
  {
   "cell_type": "markdown",
   "metadata": {},
   "source": [
    "####  Northern Hemisphere - Wind Speed (mph) vs. Latitude Linear Regression"
   ]
  },
  {
   "cell_type": "code",
   "execution_count": 19,
   "metadata": {},
   "outputs": [
    {
     "name": "stdout",
     "output_type": "stream",
     "text": [
      "The r-value is: 0.05555267310764778\n"
     ]
    },
    {
     "data": {
      "image/png": "[encoded data removed]",
      "text/plain": [
       "<Figure size 432x288 with 1 Axes>"
      ]
     },
     "metadata": {
      "needs_background": "light"
     },
     "output_type": "display_data"
    }
   ],
   "source": [
    "# Create plot data frame\n",
    "columns = [\"Latitude\",\"Wind Speed (km/h)\"]\n",
    "plot_df = weather_data.loc[weather_data[\"Latitude\"]>=0,columns]\n",
    "\n",
    "# Scatter plot\n",
    "x_values=plot_df.iloc[:,0]\n",
    "y_values=plot_df.iloc[:,1]\n",
    "\n",
    "(slope, intercept, rvalue, pvalue, stderr) = linregress(x_values,y_values)\n",
    "regress_values = x_values * slope + intercept\n",
    "line_eq = \"y = \" + str(round(slope,2)) + \"x + \" + str(round(intercept,2))\n",
    "\n",
    "plt.scatter(x_values,y_values)\n",
    "plt.plot(x_values,regress_values,\"r-\")\n",
    "\n",
    "plt.annotate(line_eq,(x_values.min()*1.05,y_values.min()*1.05),fontsize=14,color=\"red\")\n",
    "plt.title(f\"City {plot_df.columns[0]} vs {plot_df.columns[1]}\")\n",
    "plt.xlabel(plot_df.columns[0])\n",
    "plt.ylabel(f\"{plot_df.columns[1]}\")\n",
    "\n",
    "# R-value\n",
    "print(f\"The r-value is: {rvalue}\")\n",
    "plt.show()"
   ]
  },
  {
   "cell_type": "code",
   "execution_count": null,
   "metadata": {},
   "outputs": [],
   "source": []
  },
  {
   "cell_type": "markdown",
   "metadata": {},
   "source": [
    "####  Southern Hemisphere - Wind Speed (mph) vs. Latitude Linear Regression"
   ]
  },
  {
   "cell_type": "code",
   "execution_count": 20,
   "metadata": {},
   "outputs": [
    {
     "name": "stdout",
     "output_type": "stream",
     "text": [
      "The r-value is: 0.06121528228527207\n"
     ]
    },
    {
     "data": {
      "image/png": "[encoded data removed]",
      "text/plain": [
       "<Figure size 432x288 with 1 Axes>"
      ]
     },
     "metadata": {
      "needs_background": "light"
     },
     "output_type": "display_data"
    }
   ],
   "source": [
    "# Create plot data frame\n",
    "columns = [\"Latitude\",\"Wind Speed (km/h)\"]\n",
    "plot_df = weather_data.loc[weather_data[\"Latitude\"]<0,columns]\n",
    "\n",
    "# Scatter plot\n",
    "x_values=plot_df.iloc[:,0]\n",
    "y_values=plot_df.iloc[:,1]\n",
    "\n",
    "(slope, intercept, rvalue, pvalue, stderr) = linregress(x_values,y_values)\n",
    "regress_values = x_values * slope + intercept\n",
    "line_eq = \"y = \" + str(round(slope,2)) + \"x + \" + str(round(intercept,2))\n",
    "\n",
    "plt.scatter(x_values,y_values)\n",
    "plt.plot(x_values,regress_values,\"r-\")\n",
    "\n",
    "plt.annotate(line_eq,(x_values.min()*0.95,y_values.min()*1.05),fontsize=14,color=\"red\")\n",
    "plt.title(f\"City {plot_df.columns[0]} vs {plot_df.columns[1]}\")\n",
    "plt.xlabel(plot_df.columns[0])\n",
    "plt.ylabel(f\"{plot_df.columns[1]}\")\n",
    "\n",
    "# R-value\n",
    "print(f\"The r-value is: {rvalue}\")\n",
    "plt.show()"
   ]
  },
  {
   "cell_type": "code",
   "execution_count": null,
   "metadata": {},
   "outputs": [],
   "source": []
  }
 ],
 "metadata": {
  "anaconda-cloud": {},
  "kernel_info": {
   "name": "python3"
  },
  "kernelspec": {
   "display_name": "Python 3",
   "language": "python",
   "name": "python3"
  },
  "language_info": {
   "codemirror_mode": {
    "name": "ipython",
    "version": 3
   },
   "file_extension": ".py",
   "mimetype": "text/x-python",
   "name": "python",
   "nbconvert_exporter": "python",
   "pygments_lexer": "ipython3",
   "version": "3.6.10"
  },
  "latex_envs": {
   "LaTeX_envs_menu_present": true,
   "autoclose": false,
   "autocomplete": true,
   "bibliofile": "biblio.bib",
   "cite_by": "apalike",
   "current_citInitial": 1,
   "eqLabelWithNumbers": true,
   "eqNumInitial": 1,
   "hotkeys": {
    "equation": "Ctrl-E",
    "itemize": "Ctrl-I"
   },
   "labels_anchors": false,
   "latex_user_defs": false,
   "report_style_numbering": false,
   "user_envs_cfg": false
  },
  "nteract": {
   "version": "0.12.3"
  }
 },
 "nbformat": 4,
 "nbformat_minor": 2
}
