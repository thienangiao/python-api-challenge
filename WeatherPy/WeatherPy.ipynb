{
 "cells": [
  {
   "cell_type": "markdown",
   "metadata": {},
   "source": [
    "# WeatherPy (Part 1)\n",
    "----"
   ]
  },
  {
   "cell_type": "code",
   "execution_count": 1,
   "metadata": {
    "scrolled": true
   },
   "outputs": [],
   "source": [
    "# Dependencies\n",
    "import matplotlib.pyplot as plt\n",
    "import pandas as pd\n",
    "import random\n",
    "import json\n",
    "import requests\n",
    "import gmaps\n",
    "from scipy.stats import linregress\n",
    "from citipy import citipy\n",
    "from pprint import pprint\n",
    "\n",
    "# Import API key\n",
    "from api_keys import weather_api_key\n",
    "from api_keys import g_key"
   ]
  },
  {
   "cell_type": "markdown",
   "metadata": {},
   "source": [
    "### Generate Cities List"
   ]
  },
  {
   "cell_type": "code",
   "execution_count": 2,
   "metadata": {},
   "outputs": [],
   "source": [
    "# Generate random latitude\\longitude\n",
    "sample_size = 600\n",
    "latitude = []\n",
    "longitude = []\n",
    "\n",
    "for x in range (0,sample_size):\n",
    "    latitude.append(random.randint(-90,90))\n",
    "    longitude.append(random.randint(-180,180)) "
   ]
  },
  {
   "cell_type": "code",
   "execution_count": 3,
   "metadata": {},
   "outputs": [],
   "source": [
    "# Select closest city using citipy library (https://pypi.python.org/pypi/citipy)\n",
    "\n",
    "cities = []\n",
    "\n",
    "for x,y in zip(latitude,longitude):\n",
    "    city=citipy.nearest_city(x,y)  \n",
    "    cities.append(city.city_name)\n"
   ]
  },
  {
   "cell_type": "markdown",
   "metadata": {},
   "source": [
    "### Perform API Calls\n"
   ]
  },
  {
   "cell_type": "code",
   "execution_count": 4,
   "metadata": {},
   "outputs": [],
   "source": [
    "# Save config information.\n",
    "url = \"http://api.openweathermap.org/data/2.5/weather?\"\n",
    "units = \"metric\"\n",
    "api_key= weather_api_key\n",
    "\n",
    "# Build partial query URL\n",
    "query_url = f\"{url}appid={api_key}&units={units}&q=\""
   ]
  },
  {
   "cell_type": "code",
   "execution_count": 5,
   "metadata": {},
   "outputs": [
    {
     "name": "stdout",
     "output_type": "stream",
     "text": [
      "rikitea found. Appending data\n",
      "port alfred found. Appending data\n",
      "coos bay found. Appending data\n",
      "tsumeb found. Appending data\n",
      "bredasdorp found. Appending data\n",
      "georgetown found. Appending data\n",
      "hermanus found. Appending data\n",
      "olafsvik found. Appending data\n",
      "rikitea found. Appending data\n",
      "cape town found. Appending data\n",
      "winona found. Appending data\n",
      "hobart found. Appending data\n",
      "havelock found. Appending data\n",
      "port alfred found. Appending data\n",
      "yellowknife found. Appending data\n",
      "kirakira found. Appending data\n",
      "taolanaro not found. Skipping...\n",
      "rundu found. Appending data\n",
      "belushya guba not found. Skipping...\n",
      "tumannyy not found. Skipping...\n",
      "milkovo found. Appending data\n",
      "new norfolk found. Appending data\n",
      "husavik found. Appending data\n",
      "north platte found. Appending data\n",
      "jamestown found. Appending data\n",
      "mrirt not found. Skipping...\n",
      "belmonte found. Appending data\n",
      "port alfred found. Appending data\n",
      "mahon found. Appending data\n",
      "mataura found. Appending data\n",
      "castro found. Appending data\n",
      "asfi found. Appending data\n",
      "komsomolskiy found. Appending data\n",
      "japura found. Appending data\n",
      "lazaro cardenas found. Appending data\n",
      "mataura found. Appending data\n",
      "nuuk found. Appending data\n",
      "atuona found. Appending data\n",
      "punta arenas found. Appending data\n",
      "rikitea found. Appending data\n",
      "tongchuan found. Appending data\n",
      "georgetown found. Appending data\n",
      "port-gentil found. Appending data\n",
      "busselton found. Appending data\n",
      "jamestown found. Appending data\n",
      "mana found. Appending data\n",
      "saint-philippe found. Appending data\n",
      "severo-kurilsk found. Appending data\n",
      "klaksvik found. Appending data\n",
      "south yuba city found. Appending data\n",
      "chuy found. Appending data\n",
      "bredasdorp found. Appending data\n",
      "punta arenas found. Appending data\n",
      "castro found. Appending data\n",
      "tabarqah not found. Skipping...\n",
      "tidore not found. Skipping...\n",
      "umzimvubu not found. Skipping...\n",
      "duz not found. Skipping...\n",
      "butaritari found. Appending data\n",
      "vaini found. Appending data\n",
      "hilo found. Appending data\n",
      "bredasdorp found. Appending data\n",
      "kapaa found. Appending data\n",
      "puerto ayora found. Appending data\n",
      "port alfred found. Appending data\n",
      "faanui found. Appending data\n",
      "jutai found. Appending data\n",
      "san lawrenz found. Appending data\n",
      "sitka found. Appending data\n",
      "cockburn town found. Appending data\n",
      "prieska found. Appending data\n",
      "hermanus found. Appending data\n",
      "fortuna found. Appending data\n",
      "cape town found. Appending data\n",
      "agua branca found. Appending data\n",
      "nizhneyansk not found. Skipping...\n",
      "flinders found. Appending data\n",
      "qaanaaq found. Appending data\n",
      "bandarbeyla found. Appending data\n",
      "eyl found. Appending data\n",
      "rikitea found. Appending data\n",
      "tuktoyaktuk found. Appending data\n",
      "ushuaia found. Appending data\n",
      "kapaa found. Appending data\n",
      "avera found. Appending data\n",
      "cockburn harbour not found. Skipping...\n",
      "hobart found. Appending data\n",
      "harrison found. Appending data\n",
      "nome found. Appending data\n",
      "busselton found. Appending data\n",
      "jamestown found. Appending data\n",
      "thompson found. Appending data\n",
      "ushuaia found. Appending data\n",
      "kodiak found. Appending data\n",
      "saint george found. Appending data\n",
      "bulgan found. Appending data\n",
      "ushuaia found. Appending data\n",
      "martapura found. Appending data\n",
      "new norfolk found. Appending data\n",
      "bosaso found. Appending data\n",
      "clyde river found. Appending data\n",
      "mar del plata found. Appending data\n",
      "georgetown found. Appending data\n",
      "husavik found. Appending data\n",
      "ushuaia found. Appending data\n",
      "sampit found. Appending data\n",
      "papayal found. Appending data\n",
      "jamestown found. Appending data\n",
      "kapaa found. Appending data\n",
      "hermanus found. Appending data\n",
      "illoqqortoormiut not found. Skipping...\n",
      "pevek found. Appending data\n",
      "hobart found. Appending data\n",
      "sur found. Appending data\n",
      "port lincoln found. Appending data\n",
      "cuamba found. Appending data\n",
      "mount pleasant found. Appending data\n",
      "vila franca do campo found. Appending data\n",
      "ushuaia found. Appending data\n",
      "honiara found. Appending data\n",
      "bambanglipuro found. Appending data\n",
      "jamestown found. Appending data\n",
      "aquiraz found. Appending data\n",
      "ekibastuz found. Appending data\n",
      "kodiak found. Appending data\n",
      "kruisfontein found. Appending data\n",
      "srednekolymsk found. Appending data\n",
      "mataura found. Appending data\n",
      "myitkyina found. Appending data\n",
      "uvalde found. Appending data\n",
      "kabalo found. Appending data\n",
      "ushuaia found. Appending data\n",
      "qaanaaq found. Appending data\n",
      "butaritari found. Appending data\n",
      "praia da vitoria found. Appending data\n",
      "carnarvon found. Appending data\n",
      "kanungu found. Appending data\n",
      "bredasdorp found. Appending data\n",
      "port elizabeth found. Appending data\n",
      "yellowknife found. Appending data\n",
      "dikson found. Appending data\n",
      "arraial do cabo found. Appending data\n",
      "hithadhoo found. Appending data\n",
      "pevek found. Appending data\n",
      "atuona found. Appending data\n",
      "smolenka found. Appending data\n",
      "san quintin found. Appending data\n",
      "karamay not found. Skipping...\n",
      "bundaberg found. Appending data\n",
      "palabuhanratu not found. Skipping...\n",
      "tsihombe not found. Skipping...\n",
      "nikolskoye found. Appending data\n",
      "hambantota found. Appending data\n",
      "busselton found. Appending data\n",
      "port alfred found. Appending data\n",
      "hilo found. Appending data\n",
      "hithadhoo found. Appending data\n",
      "hasaki found. Appending data\n",
      "pemangkat found. Appending data\n",
      "ribeira grande found. Appending data\n",
      "toora-khem found. Appending data\n",
      "lompoc found. Appending data\n",
      "port alfred found. Appending data\n",
      "vaini found. Appending data\n",
      "kahului found. Appending data\n",
      "souillac found. Appending data\n",
      "santa maria da vitoria found. Appending data\n",
      "vao found. Appending data\n",
      "rikitea found. Appending data\n",
      "vestmanna found. Appending data\n",
      "linhares found. Appending data\n",
      "rikitea found. Appending data\n",
      "ushuaia found. Appending data\n",
      "paradwip not found. Skipping...\n",
      "georgetown found. Appending data\n",
      "vaini found. Appending data\n",
      "avarua found. Appending data\n",
      "kununurra found. Appending data\n",
      "shubarkuduk found. Appending data\n",
      "albany found. Appending data\n",
      "oktyabrskiy found. Appending data\n",
      "hihifo not found. Skipping...\n",
      "poya found. Appending data\n",
      "hermanus found. Appending data\n",
      "saint george found. Appending data\n",
      "mataura found. Appending data\n",
      "barrow found. Appending data\n",
      "ushuaia found. Appending data\n",
      "albany found. Appending data\n",
      "iqaluit found. Appending data\n",
      "ushuaia found. Appending data\n",
      "busselton found. Appending data\n",
      "saint-philippe found. Appending data\n",
      "jinchang found. Appending data\n",
      "swan hill found. Appending data\n",
      "puerto ayora found. Appending data\n",
      "tomatlan found. Appending data\n",
      "bluff found. Appending data\n",
      "yellowknife found. Appending data\n",
      "vanimo found. Appending data\n",
      "nouadhibou found. Appending data\n",
      "bom jardim found. Appending data\n",
      "bredasdorp found. Appending data\n",
      "tuktoyaktuk found. Appending data\n",
      "mentougou found. Appending data\n",
      "hermanus found. Appending data\n",
      "rikitea found. Appending data\n",
      "nikolskoye found. Appending data\n",
      "nikolskoye found. Appending data\n",
      "gorele found. Appending data\n",
      "iqaluit found. Appending data\n",
      "sadon found. Appending data\n",
      "mahenge found. Appending data\n",
      "collie found. Appending data\n",
      "litoral del san juan not found. Skipping...\n",
      "arraial do cabo found. Appending data\n",
      "bluff found. Appending data\n",
      "hermanus found. Appending data\n",
      "havre-saint-pierre found. Appending data\n",
      "chapais found. Appending data\n",
      "kropotkin found. Appending data\n",
      "cabedelo found. Appending data\n",
      "atuona found. Appending data\n",
      "bolsheustikinskoye not found. Skipping...\n",
      "juneau found. Appending data\n",
      "hobart found. Appending data\n",
      "atuona found. Appending data\n",
      "cape town found. Appending data\n",
      "albany found. Appending data\n",
      "punta arenas found. Appending data\n",
      "illoqqortoormiut not found. Skipping...\n",
      "hermanus found. Appending data\n",
      "sur found. Appending data\n",
      "ushuaia found. Appending data\n",
      "bria found. Appending data\n",
      "zhanakorgan found. Appending data\n",
      "khatanga found. Appending data\n",
      "taoudenni found. Appending data\n",
      "hermanus found. Appending data\n",
      "tamandare found. Appending data\n",
      "bolungarvik not found. Skipping...\n",
      "atuona found. Appending data\n",
      "saskylakh found. Appending data\n",
      "albany found. Appending data\n",
      "hobart found. Appending data\n",
      "ushuaia found. Appending data\n",
      "karratha found. Appending data\n",
      "waw found. Appending data\n",
      "thompson found. Appending data\n",
      "hithadhoo found. Appending data\n",
      "the valley found. Appending data\n",
      "odweyne found. Appending data\n",
      "dzhebariki-khaya found. Appending data\n",
      "westport found. Appending data\n",
      "padang found. Appending data\n",
      "tasiilaq found. Appending data\n",
      "leh found. Appending data\n",
      "carutapera found. Appending data\n",
      "carballo found. Appending data\n",
      "barentsburg not found. Skipping...\n"
     ]
    },
    {
     "name": "stdout",
     "output_type": "stream",
     "text": [
      "hilo found. Appending data\n",
      "atuona found. Appending data\n",
      "barrow found. Appending data\n",
      "saint george found. Appending data\n",
      "marystown found. Appending data\n",
      "notse found. Appending data\n",
      "laguna found. Appending data\n",
      "hobart found. Appending data\n",
      "chuy found. Appending data\n",
      "lebu found. Appending data\n",
      "cape town found. Appending data\n",
      "lebu found. Appending data\n",
      "vila franca do campo found. Appending data\n",
      "ponta do sol found. Appending data\n",
      "georgetown found. Appending data\n",
      "punta arenas found. Appending data\n",
      "mataura found. Appending data\n",
      "ostrovnoy found. Appending data\n",
      "rikitea found. Appending data\n",
      "qiongshan found. Appending data\n",
      "pontal found. Appending data\n",
      "bluff found. Appending data\n",
      "godinesti found. Appending data\n",
      "punta arenas found. Appending data\n",
      "juybar found. Appending data\n",
      "hermanus found. Appending data\n",
      "camacha found. Appending data\n",
      "saint-philippe found. Appending data\n",
      "upernavik found. Appending data\n",
      "borovskoy found. Appending data\n",
      "hearst found. Appending data\n",
      "temaraia not found. Skipping...\n",
      "ushuaia found. Appending data\n",
      "bredasdorp found. Appending data\n",
      "punta arenas found. Appending data\n",
      "ushuaia found. Appending data\n",
      "taburao not found. Skipping...\n",
      "derzhavinsk found. Appending data\n",
      "yellowknife found. Appending data\n",
      "hofn found. Appending data\n",
      "coquimbo found. Appending data\n",
      "vaini found. Appending data\n",
      "carnarvon found. Appending data\n",
      "gobabis found. Appending data\n",
      "egvekinot found. Appending data\n",
      "albany found. Appending data\n",
      "kaitangata found. Appending data\n",
      "samarai found. Appending data\n",
      "butaritari found. Appending data\n",
      "fortuna found. Appending data\n",
      "grindavik found. Appending data\n",
      "barentsburg not found. Skipping...\n",
      "asau found. Appending data\n",
      "rikitea found. Appending data\n",
      "mataura found. Appending data\n",
      "cape town found. Appending data\n",
      "sibu found. Appending data\n",
      "qaanaaq found. Appending data\n",
      "marcona not found. Skipping...\n",
      "dikson found. Appending data\n",
      "turgoyak found. Appending data\n",
      "castro found. Appending data\n",
      "vaini found. Appending data\n",
      "viramgam found. Appending data\n",
      "neyshabur found. Appending data\n",
      "yellowknife found. Appending data\n",
      "beringovskiy found. Appending data\n",
      "dubna found. Appending data\n",
      "kapaa found. Appending data\n",
      "port lincoln found. Appending data\n",
      "mayo found. Appending data\n",
      "luwuk found. Appending data\n",
      "gushikawa found. Appending data\n",
      "zachagansk not found. Skipping...\n",
      "hilo found. Appending data\n",
      "kavieng found. Appending data\n",
      "roros found. Appending data\n",
      "paramirim found. Appending data\n",
      "puerto ayora found. Appending data\n",
      "new norfolk found. Appending data\n",
      "kanker found. Appending data\n",
      "faanui found. Appending data\n",
      "brae found. Appending data\n",
      "port alfred found. Appending data\n",
      "castro found. Appending data\n",
      "ryotsu found. Appending data\n",
      "aklavik found. Appending data\n",
      "vostok found. Appending data\n",
      "dinsor not found. Skipping...\n",
      "rikitea found. Appending data\n",
      "lebu found. Appending data\n",
      "kapaa found. Appending data\n",
      "amderma not found. Skipping...\n",
      "busselton found. Appending data\n",
      "samana found. Appending data\n",
      "santa rita found. Appending data\n",
      "mataura found. Appending data\n",
      "monrovia found. Appending data\n",
      "rikitea found. Appending data\n",
      "chancay found. Appending data\n",
      "porbandar found. Appending data\n",
      "upernavik found. Appending data\n",
      "ushuaia found. Appending data\n",
      "punta arenas found. Appending data\n",
      "price found. Appending data\n",
      "tautira found. Appending data\n",
      "tonk found. Appending data\n",
      "pevek found. Appending data\n",
      "albany found. Appending data\n",
      "kamenskoye not found. Skipping...\n",
      "katherine found. Appending data\n",
      "rikitea found. Appending data\n",
      "nanortalik found. Appending data\n",
      "taolanaro not found. Skipping...\n",
      "albany found. Appending data\n",
      "butaritari found. Appending data\n",
      "aklavik found. Appending data\n",
      "rikitea found. Appending data\n",
      "devonport found. Appending data\n",
      "upata found. Appending data\n",
      "warqla not found. Skipping...\n",
      "dikson found. Appending data\n",
      "kamaishi found. Appending data\n",
      "chokurdakh found. Appending data\n",
      "barrow found. Appending data\n",
      "grimari not found. Skipping...\n",
      "saskylakh found. Appending data\n",
      "ambilobe found. Appending data\n",
      "kingaroy found. Appending data\n",
      "illoqqortoormiut not found. Skipping...\n",
      "chicama found. Appending data\n",
      "jimenez found. Appending data\n",
      "punta arenas found. Appending data\n",
      "nosy varika found. Appending data\n",
      "mahebourg found. Appending data\n",
      "souillac found. Appending data\n",
      "new norfolk found. Appending data\n",
      "illoqqortoormiut not found. Skipping...\n",
      "puerto ayora found. Appending data\n",
      "new norfolk found. Appending data\n",
      "tateyama found. Appending data\n",
      "rivera found. Appending data\n",
      "east london found. Appending data\n",
      "evensk found. Appending data\n",
      "ancud found. Appending data\n",
      "jamestown found. Appending data\n",
      "mwinilunga found. Appending data\n",
      "abha found. Appending data\n",
      "marawi found. Appending data\n",
      "mareeba found. Appending data\n",
      "attawapiskat not found. Skipping...\n",
      "necochea found. Appending data\n",
      "atuona found. Appending data\n",
      "kuala terengganu found. Appending data\n",
      "punta arenas found. Appending data\n",
      "torbay found. Appending data\n",
      "barentsburg not found. Skipping...\n",
      "busselton found. Appending data\n",
      "new norfolk found. Appending data\n",
      "vaini found. Appending data\n",
      "shchigry found. Appending data\n",
      "cherskiy found. Appending data\n",
      "deputatskiy found. Appending data\n",
      "rikitea found. Appending data\n",
      "mataura found. Appending data\n",
      "san juan found. Appending data\n",
      "tres lagoas found. Appending data\n",
      "hofn found. Appending data\n",
      "mar del plata found. Appending data\n",
      "klaksvik found. Appending data\n",
      "bengkulu found. Appending data\n",
      "bluff found. Appending data\n",
      "igarka found. Appending data\n",
      "sioux lookout found. Appending data\n",
      "thompson found. Appending data\n",
      "ushuaia found. Appending data\n",
      "east london found. Appending data\n",
      "mataura found. Appending data\n",
      "wanlaweyn found. Appending data\n",
      "deputatskiy found. Appending data\n",
      "merauke found. Appending data\n",
      "rikitea found. Appending data\n",
      "amderma not found. Skipping...\n",
      "busselton found. Appending data\n",
      "lebu found. Appending data\n",
      "busselton found. Appending data\n",
      "bredasdorp found. Appending data\n",
      "yarmouth found. Appending data\n",
      "zonguldak found. Appending data\n",
      "chokurdakh found. Appending data\n",
      "saleaula not found. Skipping...\n",
      "jamestown found. Appending data\n",
      "severo-kurilsk found. Appending data\n",
      "nikolskoye found. Appending data\n",
      "punta arenas found. Appending data\n",
      "belushya guba not found. Skipping...\n",
      "dzhusaly not found. Skipping...\n",
      "telimele found. Appending data\n",
      "rikitea found. Appending data\n",
      "saint-philippe found. Appending data\n",
      "taolanaro not found. Skipping...\n",
      "bethel found. Appending data\n",
      "airai found. Appending data\n",
      "yellowknife found. Appending data\n",
      "rikitea found. Appending data\n",
      "luderitz found. Appending data\n",
      "ushuaia found. Appending data\n",
      "barrow found. Appending data\n",
      "biak found. Appending data\n",
      "cape town found. Appending data\n",
      "mahebourg found. Appending data\n",
      "kapaa found. Appending data\n",
      "rikitea found. Appending data\n",
      "georgetown found. Appending data\n",
      "kodiak found. Appending data\n",
      "qaanaaq found. Appending data\n",
      "annau found. Appending data\n",
      "salalah found. Appending data\n",
      "ganzhou found. Appending data\n",
      "kutum found. Appending data\n",
      "salalah found. Appending data\n",
      "kloulklubed found. Appending data\n",
      "longyearbyen found. Appending data\n",
      "yellowknife found. Appending data\n",
      "sola found. Appending data\n",
      "grand river south east not found. Skipping...\n",
      "ust-kuyga found. Appending data\n",
      "ushuaia found. Appending data\n",
      "jacmel found. Appending data\n",
      "ushuaia found. Appending data\n",
      "atuona found. Appending data\n",
      "san gabriel found. Appending data\n",
      "soubre found. Appending data\n",
      "port alfred found. Appending data\n",
      "tuktoyaktuk found. Appending data\n",
      "albany found. Appending data\n",
      "rikitea found. Appending data\n",
      "hermanus found. Appending data\n",
      "palmer found. Appending data\n",
      "poum found. Appending data\n",
      "mahebourg found. Appending data\n",
      "tigil found. Appending data\n",
      "torbay found. Appending data\n",
      "albany found. Appending data\n",
      "charyshskoye found. Appending data\n",
      "taolanaro not found. Skipping...\n",
      "bayan found. Appending data\n",
      "rikitea found. Appending data\n",
      "jamestown found. Appending data\n",
      "charleston found. Appending data\n",
      "ushuaia found. Appending data\n",
      "severo-kurilsk found. Appending data\n",
      "mataura found. Appending data\n",
      "mehamn found. Appending data\n",
      "rawson found. Appending data\n",
      "hermanus found. Appending data\n",
      "immokalee found. Appending data\n",
      "bredasdorp found. Appending data\n",
      "qaanaaq found. Appending data\n",
      "boyolangu found. Appending data\n",
      "ust-tsilma found. Appending data\n",
      "airai found. Appending data\n",
      "belushya guba not found. Skipping...\n",
      "nikolskoye found. Appending data\n"
     ]
    },
    {
     "name": "stdout",
     "output_type": "stream",
     "text": [
      "korla found. Appending data\n",
      "biak found. Appending data\n",
      "puerto ayora found. Appending data\n",
      "sinnamary found. Appending data\n",
      "saint-philippe found. Appending data\n",
      "atuona found. Appending data\n",
      "yellowknife found. Appending data\n",
      "hamilton found. Appending data\n",
      "souillac found. Appending data\n",
      "busselton found. Appending data\n",
      "vestbygda not found. Skipping...\n",
      "mataura found. Appending data\n",
      "vaini found. Appending data\n",
      "port elizabeth found. Appending data\n",
      "hilo found. Appending data\n",
      "salina found. Appending data\n",
      "porciuncula found. Appending data\n",
      "new norfolk found. Appending data\n",
      "tignere found. Appending data\n",
      "castro found. Appending data\n",
      "punta arenas found. Appending data\n",
      "souillac found. Appending data\n",
      "saleaula not found. Skipping...\n",
      "port alfred found. Appending data\n",
      "rikitea found. Appending data\n",
      "ormara found. Appending data\n",
      "bourail found. Appending data\n",
      "san patricio found. Appending data\n",
      "bethel found. Appending data\n",
      "sao joao da barra found. Appending data\n",
      "ushuaia found. Appending data\n",
      "atuona found. Appending data\n",
      "tianmen found. Appending data\n",
      "albany found. Appending data\n",
      "zaraza found. Appending data\n",
      "beni found. Appending data\n",
      "dikson found. Appending data\n",
      "taoudenni found. Appending data\n",
      "barrow found. Appending data\n",
      "ushuaia found. Appending data\n",
      "marawi found. Appending data\n",
      "henties bay found. Appending data\n",
      "treinta y tres found. Appending data\n",
      "college found. Appending data\n",
      "severo-kurilsk found. Appending data\n",
      "ortigueira found. Appending data\n",
      "amderma not found. Skipping...\n",
      "vaini found. Appending data\n",
      "hami found. Appending data\n",
      "whitehorse found. Appending data\n",
      "labrea found. Appending data\n",
      "flinders found. Appending data\n",
      "kaitangata found. Appending data\n",
      "rikitea found. Appending data\n",
      "avarua found. Appending data\n",
      "cape town found. Appending data\n",
      "sambava found. Appending data\n",
      "samalaeulu not found. Skipping...\n",
      "ilulissat found. Appending data\n",
      "kavaratti found. Appending data\n",
      "punta arenas found. Appending data\n",
      "chokurdakh found. Appending data\n",
      "busselton found. Appending data\n",
      "qaanaaq found. Appending data\n",
      "albany found. Appending data\n",
      "hilo found. Appending data\n",
      "sungairaya found. Appending data\n",
      "busselton found. Appending data\n",
      "blagoevgrad found. Appending data\n",
      "provideniya found. Appending data\n",
      "sur found. Appending data\n",
      "vila velha found. Appending data\n",
      "rikitea found. Appending data\n",
      "nelson bay found. Appending data\n",
      "matara found. Appending data\n",
      "hun found. Appending data\n"
     ]
    }
   ],
   "source": [
    "# set up lists to hold reponse info\n",
    "\n",
    "name = []\n",
    "country = []\n",
    "lat = []\n",
    "lon = []\n",
    "date = []\n",
    "temp_max = []\n",
    "hum = []\n",
    "cloud = []\n",
    "wind_kmh = []\n",
    "\n",
    "# Loop through the list of cities and perform a request for data on each\n",
    "for city in cities:\n",
    "    response = requests.get(query_url + city).json()\n",
    "    \n",
    "    try:\n",
    "        name.append(response['name'])\n",
    "        country.append(response['sys']['country'])        \n",
    "        lat.append(response['coord']['lat'])\n",
    "        lon.append(response['coord']['lon']) \n",
    "        date.append(response['dt'])    \n",
    "        temp_max.append(response['main']['temp_max'])\n",
    "        hum.append(response['main']['humidity'])\n",
    "        cloud.append(response['clouds']['all'])\n",
    "        wind_kmh.append(response['wind']['speed'])\n",
    "        print(f\"{city} found. Appending data\")\n",
    "        \n",
    "    except:\n",
    "       # Append null values\n",
    "       print(f\"{city} not found. Skipping...\")\n",
    "    pass\n",
    "\n",
    "# Create city ID\n",
    "city_id = []\n",
    "\n",
    "for id in range(len(name)):\n",
    "    city_id.append(id)\n"
   ]
  },
  {
   "cell_type": "markdown",
   "metadata": {},
   "source": [
    "### Convert Raw Data to DataFrame\n"
   ]
  },
  {
   "cell_type": "code",
   "execution_count": 6,
   "metadata": {},
   "outputs": [
    {
     "data": {
      "text/html": [
       "<div>\n",
       "<style scoped>\n",
       "    .dataframe tbody tr th:only-of-type {\n",
       "        vertical-align: middle;\n",
       "    }\n",
       "\n",
       "    .dataframe tbody tr th {\n",
       "        vertical-align: top;\n",
       "    }\n",
       "\n",
       "    .dataframe thead th {\n",
       "        text-align: right;\n",
       "    }\n",
       "</style>\n",
       "<table border=\"1\" class=\"dataframe\">\n",
       "  <thead>\n",
       "    <tr style=\"text-align: right;\">\n",
       "      <th></th>\n",
       "      <th>City_ID</th>\n",
       "      <th>City</th>\n",
       "      <th>Country</th>\n",
       "      <th>Latitude</th>\n",
       "      <th>Longitude</th>\n",
       "      <th>Date</th>\n",
       "      <th>Max Temperature (C)</th>\n",
       "      <th>Humidity</th>\n",
       "      <th>Cloudiness</th>\n",
       "      <th>Wind Speed (km/h)</th>\n",
       "    </tr>\n",
       "  </thead>\n",
       "  <tbody>\n",
       "    <tr>\n",
       "      <th>0</th>\n",
       "      <td>0</td>\n",
       "      <td>Rikitea</td>\n",
       "      <td>PF</td>\n",
       "      <td>-23.1203</td>\n",
       "      <td>-134.9692</td>\n",
       "      <td>2021-03-19 16:57:18</td>\n",
       "      <td>26.85</td>\n",
       "      <td>76</td>\n",
       "      <td>100</td>\n",
       "      <td>5.68</td>\n",
       "    </tr>\n",
       "    <tr>\n",
       "      <th>1</th>\n",
       "      <td>1</td>\n",
       "      <td>Port Alfred</td>\n",
       "      <td>ZA</td>\n",
       "      <td>-33.5906</td>\n",
       "      <td>26.8910</td>\n",
       "      <td>2021-03-19 16:57:56</td>\n",
       "      <td>20.03</td>\n",
       "      <td>83</td>\n",
       "      <td>98</td>\n",
       "      <td>6.30</td>\n",
       "    </tr>\n",
       "    <tr>\n",
       "      <th>2</th>\n",
       "      <td>2</td>\n",
       "      <td>Coos Bay</td>\n",
       "      <td>US</td>\n",
       "      <td>43.3665</td>\n",
       "      <td>-124.2179</td>\n",
       "      <td>2021-03-19 16:59:55</td>\n",
       "      <td>8.33</td>\n",
       "      <td>87</td>\n",
       "      <td>90</td>\n",
       "      <td>2.06</td>\n",
       "    </tr>\n",
       "    <tr>\n",
       "      <th>3</th>\n",
       "      <td>3</td>\n",
       "      <td>Tsumeb</td>\n",
       "      <td>NA</td>\n",
       "      <td>-19.2333</td>\n",
       "      <td>17.7167</td>\n",
       "      <td>2021-03-19 16:59:55</td>\n",
       "      <td>22.73</td>\n",
       "      <td>68</td>\n",
       "      <td>74</td>\n",
       "      <td>3.01</td>\n",
       "    </tr>\n",
       "    <tr>\n",
       "      <th>4</th>\n",
       "      <td>4</td>\n",
       "      <td>Bredasdorp</td>\n",
       "      <td>ZA</td>\n",
       "      <td>-34.5322</td>\n",
       "      <td>20.0403</td>\n",
       "      <td>2021-03-19 16:56:57</td>\n",
       "      <td>20.00</td>\n",
       "      <td>60</td>\n",
       "      <td>100</td>\n",
       "      <td>3.60</td>\n",
       "    </tr>\n",
       "  </tbody>\n",
       "</table>\n",
       "</div>"
      ],
      "text/plain": [
       "   City_ID         City Country  Latitude  Longitude                Date  \\\n",
       "0        0      Rikitea      PF  -23.1203  -134.9692 2021-03-19 16:57:18   \n",
       "1        1  Port Alfred      ZA  -33.5906    26.8910 2021-03-19 16:57:56   \n",
       "2        2     Coos Bay      US   43.3665  -124.2179 2021-03-19 16:59:55   \n",
       "3        3       Tsumeb      NA  -19.2333    17.7167 2021-03-19 16:59:55   \n",
       "4        4   Bredasdorp      ZA  -34.5322    20.0403 2021-03-19 16:56:57   \n",
       "\n",
       "   Max Temperature (C)  Humidity  Cloudiness  Wind Speed (km/h)  \n",
       "0                26.85        76         100               5.68  \n",
       "1                20.03        83          98               6.30  \n",
       "2                 8.33        87          90               2.06  \n",
       "3                22.73        68          74               3.01  \n",
       "4                20.00        60         100               3.60  "
      ]
     },
     "execution_count": 6,
     "metadata": {},
     "output_type": "execute_result"
    }
   ],
   "source": [
    "# create a data frame from cities, lat, and temp\n",
    "weather_data = pd.DataFrame({\"City_ID\": city_id,\n",
    "                            \"City\": name,\n",
    "                            \"Country\": country,\n",
    "                            \"Latitude\": lat,\n",
    "                            \"Longitude\": lon,\n",
    "                            \"Date\": date,\n",
    "                            \"Max Temperature (C)\": temp_max,\n",
    "                            \"Humidity\": hum,\n",
    "                            \"Cloudiness\": cloud,\n",
    "                            \"Wind Speed (km/h)\": wind_kmh\n",
    "                            })\n",
    "\n",
    "# Convert Unix date\n",
    "weather_data[\"Date\"]=pd.to_datetime(weather_data[\"Date\"], unit='s')\n",
    "\n",
    "# Export file as csv\n",
    "weather_data.to_csv(\"output_data/cities.csv\",index=False, header=True)\n",
    "\n",
    "weather_data.head()"
   ]
  },
  {
   "cell_type": "code",
   "execution_count": 7,
   "metadata": {},
   "outputs": [
    {
     "data": {
      "image/png": "[encoded data removed]",
      "text/plain": [
       "<Figure size 432x288 with 1 Axes>"
      ]
     },
     "metadata": {
      "needs_background": "light"
     },
     "output_type": "display_data"
    }
   ],
   "source": [
    "# Review how the sample cities are distributed\n",
    "\n",
    "plt.scatter(weather_data[\"Latitude\"], weather_data[\"Longitude\"], marker=\"o\")\n",
    "\n",
    "plt.title(\"City Latitude vs Longitude\")\n",
    "plt.ylabel(\"Longitude\")\n",
    "plt.xlabel(\"Latitude\")\n",
    "plt.grid(True)\n",
    "\n",
    "# Show plot\n",
    "plt.show()"
   ]
  },
  {
   "cell_type": "code",
   "execution_count": 8,
   "metadata": {},
   "outputs": [
    {
     "data": {
      "text/html": [
       "<div>\n",
       "<style scoped>\n",
       "    .dataframe tbody tr th:only-of-type {\n",
       "        vertical-align: middle;\n",
       "    }\n",
       "\n",
       "    .dataframe tbody tr th {\n",
       "        vertical-align: top;\n",
       "    }\n",
       "\n",
       "    .dataframe thead th {\n",
       "        text-align: right;\n",
       "    }\n",
       "</style>\n",
       "<table border=\"1\" class=\"dataframe\">\n",
       "  <thead>\n",
       "    <tr style=\"text-align: right;\">\n",
       "      <th></th>\n",
       "      <th>City_ID</th>\n",
       "      <th>Latitude</th>\n",
       "      <th>Longitude</th>\n",
       "      <th>Max Temperature (C)</th>\n",
       "      <th>Humidity</th>\n",
       "      <th>Cloudiness</th>\n",
       "      <th>Wind Speed (km/h)</th>\n",
       "    </tr>\n",
       "  </thead>\n",
       "  <tbody>\n",
       "    <tr>\n",
       "      <th>count</th>\n",
       "      <td>552.000000</td>\n",
       "      <td>552.000000</td>\n",
       "      <td>552.000000</td>\n",
       "      <td>552.000000</td>\n",
       "      <td>552.000000</td>\n",
       "      <td>552.000000</td>\n",
       "      <td>552.000000</td>\n",
       "    </tr>\n",
       "    <tr>\n",
       "      <th>mean</th>\n",
       "      <td>275.500000</td>\n",
       "      <td>6.606358</td>\n",
       "      <td>-0.867518</td>\n",
       "      <td>13.006920</td>\n",
       "      <td>70.579710</td>\n",
       "      <td>57.682971</td>\n",
       "      <td>4.011685</td>\n",
       "    </tr>\n",
       "    <tr>\n",
       "      <th>std</th>\n",
       "      <td>159.492947</td>\n",
       "      <td>39.850007</td>\n",
       "      <td>102.314008</td>\n",
       "      <td>15.840219</td>\n",
       "      <td>18.358227</td>\n",
       "      <td>37.740674</td>\n",
       "      <td>2.579061</td>\n",
       "    </tr>\n",
       "    <tr>\n",
       "      <th>min</th>\n",
       "      <td>0.000000</td>\n",
       "      <td>-54.800000</td>\n",
       "      <td>-179.166700</td>\n",
       "      <td>-35.620000</td>\n",
       "      <td>5.000000</td>\n",
       "      <td>0.000000</td>\n",
       "      <td>0.450000</td>\n",
       "    </tr>\n",
       "    <tr>\n",
       "      <th>25%</th>\n",
       "      <td>137.750000</td>\n",
       "      <td>-27.402100</td>\n",
       "      <td>-73.966200</td>\n",
       "      <td>5.837500</td>\n",
       "      <td>60.000000</td>\n",
       "      <td>20.000000</td>\n",
       "      <td>1.790000</td>\n",
       "    </tr>\n",
       "    <tr>\n",
       "      <th>50%</th>\n",
       "      <td>275.500000</td>\n",
       "      <td>-0.600000</td>\n",
       "      <td>-3.983600</td>\n",
       "      <td>19.000000</td>\n",
       "      <td>75.500000</td>\n",
       "      <td>75.000000</td>\n",
       "      <td>3.600000</td>\n",
       "    </tr>\n",
       "    <tr>\n",
       "      <th>75%</th>\n",
       "      <td>413.250000</td>\n",
       "      <td>42.097000</td>\n",
       "      <td>88.299975</td>\n",
       "      <td>25.332500</td>\n",
       "      <td>84.000000</td>\n",
       "      <td>93.000000</td>\n",
       "      <td>5.665000</td>\n",
       "    </tr>\n",
       "    <tr>\n",
       "      <th>max</th>\n",
       "      <td>551.000000</td>\n",
       "      <td>78.218600</td>\n",
       "      <td>179.316700</td>\n",
       "      <td>36.700000</td>\n",
       "      <td>100.000000</td>\n",
       "      <td>100.000000</td>\n",
       "      <td>16.460000</td>\n",
       "    </tr>\n",
       "  </tbody>\n",
       "</table>\n",
       "</div>"
      ],
      "text/plain": [
       "          City_ID    Latitude   Longitude  Max Temperature (C)    Humidity  \\\n",
       "count  552.000000  552.000000  552.000000           552.000000  552.000000   \n",
       "mean   275.500000    6.606358   -0.867518            13.006920   70.579710   \n",
       "std    159.492947   39.850007  102.314008            15.840219   18.358227   \n",
       "min      0.000000  -54.800000 -179.166700           -35.620000    5.000000   \n",
       "25%    137.750000  -27.402100  -73.966200             5.837500   60.000000   \n",
       "50%    275.500000   -0.600000   -3.983600            19.000000   75.500000   \n",
       "75%    413.250000   42.097000   88.299975            25.332500   84.000000   \n",
       "max    551.000000   78.218600  179.316700            36.700000  100.000000   \n",
       "\n",
       "       Cloudiness  Wind Speed (km/h)  \n",
       "count  552.000000         552.000000  \n",
       "mean    57.682971           4.011685  \n",
       "std     37.740674           2.579061  \n",
       "min      0.000000           0.450000  \n",
       "25%     20.000000           1.790000  \n",
       "50%     75.000000           3.600000  \n",
       "75%     93.000000           5.665000  \n",
       "max    100.000000          16.460000  "
      ]
     },
     "execution_count": 8,
     "metadata": {},
     "output_type": "execute_result"
    }
   ],
   "source": [
    "# Review data\n",
    "# Remove any cities with humidity > 100%\n",
    "\n",
    "weather_data.describe()"
   ]
  },
  {
   "cell_type": "markdown",
   "metadata": {},
   "source": [
    "## Plotting the Data\n",
    "* Use proper labeling of the plots using plot titles (including date of analysis) and axes labels.\n",
    "* Save the plotted figures as .pngs."
   ]
  },
  {
   "cell_type": "markdown",
   "metadata": {},
   "source": [
    "## Latitude vs. Temperature Plot"
   ]
  },
  {
   "cell_type": "code",
   "execution_count": 9,
   "metadata": {
    "scrolled": true
   },
   "outputs": [
    {
     "data": {
      "image/png": "[encoded data removed]",
      "text/plain": [
       "<Figure size 432x288 with 1 Axes>"
      ]
     },
     "metadata": {
      "needs_background": "light"
     },
     "output_type": "display_data"
    }
   ],
   "source": [
    "# Build a scatter plot for each data type\n",
    "plt.scatter(weather_data[\"Latitude\"], weather_data[\"Max Temperature (C)\"], marker=\"o\")\n",
    "\n",
    "# Incorporate the other graph properties\n",
    "current_date = (weather_data[\"Date\"].max()).strftime('%d/%m/%Y')\n",
    "\n",
    "plt.title(f\"City Latitude vs Max Temperature ({current_date})\")\n",
    "plt.ylabel(\"Temperature (Celsius)\")\n",
    "plt.xlabel(\"Latitude\")\n",
    "plt.grid(True)\n",
    "\n",
    "# Save the figure\n",
    "plt.savefig(\"output_data/Temperature.png\")\n",
    "\n",
    "# Show plot\n",
    "plt.show()"
   ]
  },
  {
   "cell_type": "markdown",
   "metadata": {},
   "source": [
    "#### Temparature Analysis\n",
    "The Equator is at zero latitude, Southern Hemisphere is at negative latitude, and Northen Hemisphere is at positive latitude. As the city get closer to the Equator, the maximum temperature is warmer, especially if the city is also in the Southern Hemisphere. As the city get further away from the Equator and up toward the top of the Northern Hemisphere, the temperature will be at extreme cold level.  \n",
    "\n",
    "----"
   ]
  },
  {
   "cell_type": "markdown",
   "metadata": {},
   "source": [
    "## Latitude vs. Humidity Plot"
   ]
  },
  {
   "cell_type": "code",
   "execution_count": 10,
   "metadata": {},
   "outputs": [
    {
     "data": {
      "image/png": "[encoded data removed]",
      "text/plain": [
       "<Figure size 432x288 with 1 Axes>"
      ]
     },
     "metadata": {
      "needs_background": "light"
     },
     "output_type": "display_data"
    }
   ],
   "source": [
    "# Build a scatter plot for each data type\n",
    "plt.scatter(weather_data[\"Latitude\"], weather_data[\"Humidity\"], marker=\"o\")\n",
    "\n",
    "# Incorporate the other graph properties\n",
    "current_date = (weather_data[\"Date\"].max()).strftime('%d/%m/%Y')\n",
    "\n",
    "plt.title(f\"City Latitude vs Humidity ({current_date})\")\n",
    "plt.ylabel(\"Humidity (%)\")\n",
    "plt.xlabel(\"Latitude\")\n",
    "plt.grid(True)\n",
    "\n",
    "# Save the figure\n",
    "plt.savefig(\"output_data/Humidity.png\")\n",
    "\n",
    "# Show plot\n",
    "plt.show()"
   ]
  },
  {
   "cell_type": "markdown",
   "metadata": {},
   "source": [
    "#### Humidity Analysis\n",
    "Some cities in the Northern Hemisphere have lower humidity % as they get closer to the Equator. The longitude may be another factor that influence the level of humidity too.  \n",
    "\n",
    "----"
   ]
  },
  {
   "cell_type": "markdown",
   "metadata": {},
   "source": [
    "## Latitude vs. Cloudiness Plot"
   ]
  },
  {
   "cell_type": "code",
   "execution_count": 11,
   "metadata": {},
   "outputs": [
    {
     "data": {
      "image/png": "[encoded data removed]",
      "text/plain": [
       "<Figure size 432x288 with 1 Axes>"
      ]
     },
     "metadata": {
      "needs_background": "light"
     },
     "output_type": "display_data"
    }
   ],
   "source": [
    "# Build a scatter plot for each data type\n",
    "plt.scatter(weather_data[\"Latitude\"], weather_data[\"Cloudiness\"], marker=\"o\")\n",
    "\n",
    "# Incorporate the other graph properties\n",
    "current_date = (weather_data[\"Date\"].max()).strftime('%d/%m/%Y')\n",
    "\n",
    "plt.title(f\"City Latitude vs Cloudiness ({current_date})\")\n",
    "plt.ylabel(\"Cloudiness (%)\")\n",
    "plt.xlabel(\"Latitude\")\n",
    "plt.grid(True)\n",
    "\n",
    "# Save the figure\n",
    "plt.savefig(\"output_data/Cloudiness.png\")\n",
    "\n",
    "# Show plot\n",
    "plt.show()"
   ]
  },
  {
   "cell_type": "markdown",
   "metadata": {},
   "source": [
    "#### Cloudiness Analysis\n",
    "\n",
    "There is no distinct difference in term of cloudiness to make a solid conclusion.\n",
    "\n",
    "----"
   ]
  },
  {
   "cell_type": "markdown",
   "metadata": {},
   "source": [
    "## Latitude vs. Wind Speed Plot"
   ]
  },
  {
   "cell_type": "code",
   "execution_count": 12,
   "metadata": {},
   "outputs": [
    {
     "data": {
      "image/png": "[encoded data removed]",
      "text/plain": [
       "<Figure size 432x288 with 1 Axes>"
      ]
     },
     "metadata": {
      "needs_background": "light"
     },
     "output_type": "display_data"
    }
   ],
   "source": [
    "# Build a scatter plot for each data type\n",
    "plt.scatter(weather_data[\"Latitude\"], weather_data[\"Wind Speed (km/h)\"], marker=\"o\")\n",
    "\n",
    "# Incorporate the other graph properties\n",
    "current_date = (weather_data[\"Date\"].max()).strftime('%d/%m/%Y')\n",
    "\n",
    "plt.title(f\"City Latitude vs Wind Speed ({current_date})\")\n",
    "plt.ylabel(\"Wind Speed (km/h)\")\n",
    "plt.xlabel(\"Latitude\")\n",
    "plt.grid(True)\n",
    "\n",
    "# Save the figure\n",
    "plt.savefig(\"output_data/Wind_Speed.png\")\n",
    "\n",
    "# Show plot\n",
    "plt.show()"
   ]
  },
  {
   "cell_type": "markdown",
   "metadata": {},
   "source": [
    "##### Wind Speed Analysis\n",
    "Overall, there is no difference in wind speed between Northern and Southern Hemispheres. However, there are some Northern locations that have higher wind speed as they are further away from the Equator.\n",
    "\n",
    "----\n",
    "----"
   ]
  },
  {
   "cell_type": "markdown",
   "metadata": {},
   "source": [
    "## Linear Regression"
   ]
  },
  {
   "cell_type": "markdown",
   "metadata": {},
   "source": [
    "####  Northern Hemisphere - Max Temp vs. Latitude Linear Regression"
   ]
  },
  {
   "cell_type": "code",
   "execution_count": 13,
   "metadata": {},
   "outputs": [
    {
     "name": "stdout",
     "output_type": "stream",
     "text": [
      "The r-value is: -0.897777457243518\n"
     ]
    },
    {
     "data": {
      "image/png": "[encoded data removed]",
      "text/plain": [
       "<Figure size 432x288 with 1 Axes>"
      ]
     },
     "metadata": {
      "needs_background": "light"
     },
     "output_type": "display_data"
    }
   ],
   "source": [
    "# Create plot data frame\n",
    "columns = [\"Latitude\",\"Max Temperature (C)\"]\n",
    "plot_df = weather_data.loc[weather_data[\"Latitude\"]>=0,columns]\n",
    "\n",
    "# Scatter plot\n",
    "x_values=plot_df.iloc[:,0]\n",
    "y_values=plot_df.iloc[:,1]\n",
    "\n",
    "(slope, intercept, rvalue, pvalue, stderr) = linregress(x_values,y_values)\n",
    "regress_values = x_values * slope + intercept\n",
    "line_eq = \"y = \" + str(round(slope,2)) + \"x + \" + str(round(intercept,2))\n",
    "\n",
    "plt.scatter(x_values,y_values)\n",
    "plt.plot(x_values,regress_values,\"r-\")\n",
    "\n",
    "plt.annotate(line_eq,(x_values.min()*1.05,y_values.min()*1.05),fontsize=14,color=\"red\")\n",
    "plt.title(f\"City {plot_df.columns[0]} vs {plot_df.columns[1]}\")\n",
    "plt.xlabel(plot_df.columns[0])\n",
    "plt.ylabel(f\"{plot_df.columns[1]}\")\n",
    "\n",
    "# R-value\n",
    "print(f\"The r-value is: {rvalue}\")\n",
    "plt.show()"
   ]
  },
  {
   "cell_type": "markdown",
   "metadata": {},
   "source": [
    "##### Northern Hemisphere Temperature Linear Regression Analysis\n",
    "For Northern Hemisphere locations, the above linear regression indicates that as they get closer to the Equator, the temperature will increase. With r-value of 0.89, we can be confident that the linear regression model is accurate with the selected samples.\n",
    "\n",
    "----"
   ]
  },
  {
   "cell_type": "markdown",
   "metadata": {},
   "source": [
    "####  Southern Hemisphere - Max Temp vs. Latitude Linear Regression"
   ]
  },
  {
   "cell_type": "code",
   "execution_count": 14,
   "metadata": {},
   "outputs": [
    {
     "name": "stdout",
     "output_type": "stream",
     "text": [
      "The r-value is: 0.8567368651342099\n"
     ]
    },
    {
     "data": {
      "image/png": "[encoded data removed]",
      "text/plain": [
       "<Figure size 432x288 with 1 Axes>"
      ]
     },
     "metadata": {
      "needs_background": "light"
     },
     "output_type": "display_data"
    }
   ],
   "source": [
    "# Create plot data frame\n",
    "columns = [\"Latitude\",\"Max Temperature (C)\"]\n",
    "plot_df = weather_data.loc[weather_data[\"Latitude\"]<0,columns]\n",
    "\n",
    "# Scatter plot\n",
    "x_values=plot_df.iloc[:,0]\n",
    "y_values=plot_df.iloc[:,1]\n",
    "\n",
    "(slope, intercept, rvalue, pvalue, stderr) = linregress(x_values,y_values)\n",
    "regress_values = x_values * slope + intercept\n",
    "line_eq = \"y = \" + str(round(slope,2)) + \"x + \" + str(round(intercept,2))\n",
    "\n",
    "plt.scatter(x_values,y_values)\n",
    "plt.plot(x_values,regress_values,\"r-\")\n",
    "\n",
    "plt.annotate(line_eq,(x_values.min()*0.95,y_values.min()*1.05),fontsize=14,color=\"red\")\n",
    "plt.title(f\"City {plot_df.columns[0]} vs {plot_df.columns[1]}\")\n",
    "plt.xlabel(plot_df.columns[0])\n",
    "plt.ylabel(f\"{plot_df.columns[1]}\")\n",
    "\n",
    "# R-value\n",
    "print(f\"The r-value is: {rvalue}\")\n",
    "plt.show()"
   ]
  },
  {
   "cell_type": "markdown",
   "metadata": {},
   "source": [
    "##### Southern Hemisphere Temperature Linear Regression Analysis\n",
    "For Southern Hemisphere locations, the above linear regression indicates that as they get closer to the Equator, the temperature will increase.\n",
    "\n",
    "Compare to Northern Hemisphere locations, the overall temperature is a lot milder in comparison. The extreme highest temperature (y-intercept) is few degrees lower (30.97C vs 36.84C) and the extreme cold temperature is also above 0 degree Celsius (-30C for some Northern Hemisphere location). With r-value of 0.86, we can be confident that the linear regression model is accurate with the selected samples.\n",
    "\n",
    "----"
   ]
  },
  {
   "cell_type": "markdown",
   "metadata": {},
   "source": [
    "####  Northern Hemisphere - Humidity (%) vs. Latitude Linear Regression"
   ]
  },
  {
   "cell_type": "code",
   "execution_count": 15,
   "metadata": {},
   "outputs": [
    {
     "name": "stdout",
     "output_type": "stream",
     "text": [
      "The r-value is: 0.2917182735102664\n"
     ]
    },
    {
     "data": {
      "image/png": "[encoded data removed]",
      "text/plain": [
       "<Figure size 432x288 with 1 Axes>"
      ]
     },
     "metadata": {
      "needs_background": "light"
     },
     "output_type": "display_data"
    }
   ],
   "source": [
    "# Create plot data frame\n",
    "columns = [\"Latitude\",\"Humidity\"]\n",
    "plot_df = weather_data.loc[weather_data[\"Latitude\"]>=0,columns]\n",
    "\n",
    "# Scatter plot\n",
    "x_values=plot_df.iloc[:,0]\n",
    "y_values=plot_df.iloc[:,1]\n",
    "\n",
    "(slope, intercept, rvalue, pvalue, stderr) = linregress(x_values,y_values)\n",
    "regress_values = x_values * slope + intercept\n",
    "line_eq = \"y = \" + str(round(slope,2)) + \"x + \" + str(round(intercept,2))\n",
    "\n",
    "plt.scatter(x_values,y_values)\n",
    "plt.plot(x_values,regress_values,\"r-\")\n",
    "\n",
    "plt.annotate(line_eq,(x_values.min()*1.05,y_values.min()*1.05),fontsize=14,color=\"red\")\n",
    "plt.title(f\"City {plot_df.columns[0]} vs {plot_df.columns[1]}\")\n",
    "plt.xlabel(plot_df.columns[0])\n",
    "plt.ylabel(f\"{plot_df.columns[1]}\")\n",
    "\n",
    "# R-value\n",
    "print(f\"The r-value is: {rvalue}\")\n",
    "plt.show()"
   ]
  },
  {
   "cell_type": "markdown",
   "metadata": {},
   "source": [
    "##### Northern Hemisphere Humidity Linear Regression Analysis\n",
    "With a low r-value (0.29) and the low increase slope of the linear regression model, there is a small relationship between the latitude with the humidity level. Only a slight increase of humidity as you get closer to the top of the Northern Hemisphere.\n",
    "\n",
    "----"
   ]
  },
  {
   "cell_type": "markdown",
   "metadata": {},
   "source": [
    "####  Southern Hemisphere - Humidity (%) vs. Latitude Linear Regression"
   ]
  },
  {
   "cell_type": "code",
   "execution_count": 16,
   "metadata": {},
   "outputs": [
    {
     "name": "stdout",
     "output_type": "stream",
     "text": [
      "The r-value is: 0.17123447930991026\n"
     ]
    },
    {
     "data": {
      "image/png": "[encoded data removed]",
      "text/plain": [
       "<Figure size 432x288 with 1 Axes>"
      ]
     },
     "metadata": {
      "needs_background": "light"
     },
     "output_type": "display_data"
    }
   ],
   "source": [
    "# Create plot data frame\n",
    "columns = [\"Latitude\",\"Humidity\"]\n",
    "plot_df = weather_data.loc[weather_data[\"Latitude\"]<0,columns]\n",
    "\n",
    "# Scatter plot\n",
    "x_values=plot_df.iloc[:,0]\n",
    "y_values=plot_df.iloc[:,1]\n",
    "\n",
    "(slope, intercept, rvalue, pvalue, stderr) = linregress(x_values,y_values)\n",
    "regress_values = x_values * slope + intercept\n",
    "line_eq = \"y = \" + str(round(slope,2)) + \"x + \" + str(round(intercept,2))\n",
    "\n",
    "plt.scatter(x_values,y_values)\n",
    "plt.plot(x_values,regress_values,\"r-\")\n",
    "\n",
    "plt.annotate(line_eq,(x_values.min()*0.95,y_values.min()*1.05),fontsize=14,color=\"red\")\n",
    "plt.title(f\"City {plot_df.columns[0]} vs {plot_df.columns[1]}\")\n",
    "plt.xlabel(plot_df.columns[0])\n",
    "plt.ylabel(f\"{plot_df.columns[1]}\")\n",
    "\n",
    "# R-value\n",
    "print(f\"The r-value is: {rvalue}\")\n",
    "plt.show()"
   ]
  },
  {
   "cell_type": "markdown",
   "metadata": {},
   "source": [
    "##### Southern Hemisphere Humidity Linear Regression Analysis\n",
    "With a low r-value (0.17) and the low increase slope of the linear regression model, there is a small relationship between the latitude with the humidity level. Together with the linear regression model of Northern Hemisphere, we can make a low level confidence observation that the humidity level is slighly increase as you get closer to the top of the Northern Hemisphere.\n",
    "\n",
    "----"
   ]
  },
  {
   "cell_type": "markdown",
   "metadata": {},
   "source": [
    "####  Northern Hemisphere - Cloudiness (%) vs. Latitude Linear Regression"
   ]
  },
  {
   "cell_type": "code",
   "execution_count": 17,
   "metadata": {},
   "outputs": [
    {
     "name": "stdout",
     "output_type": "stream",
     "text": [
      "The r-value is: 0.18032542273422542\n"
     ]
    },
    {
     "data": {
      "image/png": "[encoded data removed]",
      "text/plain": [
       "<Figure size 432x288 with 1 Axes>"
      ]
     },
     "metadata": {
      "needs_background": "light"
     },
     "output_type": "display_data"
    }
   ],
   "source": [
    "# Create plot data frame\n",
    "columns = [\"Latitude\",\"Cloudiness\"]\n",
    "plot_df = weather_data.loc[weather_data[\"Latitude\"]>=0,columns]\n",
    "\n",
    "# Scatter plot\n",
    "x_values=plot_df.iloc[:,0]\n",
    "y_values=plot_df.iloc[:,1]\n",
    "\n",
    "(slope, intercept, rvalue, pvalue, stderr) = linregress(x_values,y_values)\n",
    "regress_values = x_values * slope + intercept\n",
    "line_eq = \"y = \" + str(round(slope,2)) + \"x + \" + str(round(intercept,2))\n",
    "\n",
    "plt.scatter(x_values,y_values)\n",
    "plt.plot(x_values,regress_values,\"r-\")\n",
    "\n",
    "plt.annotate(line_eq,(x_values.min()*1.05,y_values.min()*1.05),fontsize=14,color=\"red\")\n",
    "plt.title(f\"City {plot_df.columns[0]} vs {plot_df.columns[1]}\")\n",
    "plt.xlabel(plot_df.columns[0])\n",
    "plt.ylabel(f\"{plot_df.columns[1]}\")\n",
    "\n",
    "# R-value\n",
    "print(f\"The r-value is: {rvalue}\")\n",
    "plt.show()"
   ]
  },
  {
   "cell_type": "markdown",
   "metadata": {},
   "source": [
    "##### Northern Hemisphere Cloudiness Linear Regression Analysis\n",
    "With a low r-value (0.18) and the visual spread of the data relatively to the linear regression model, there is a very low relationship between the latitude with the cloudiness level.\n",
    "\n",
    "----"
   ]
  },
  {
   "cell_type": "markdown",
   "metadata": {},
   "source": [
    "####  Southern Hemisphere - Cloudiness (%) vs. Latitude Linear Regression"
   ]
  },
  {
   "cell_type": "code",
   "execution_count": 18,
   "metadata": {},
   "outputs": [
    {
     "name": "stdout",
     "output_type": "stream",
     "text": [
      "The r-value is: -0.007390526826163856\n"
     ]
    },
    {
     "data": {
      "image/png": "[encoded data removed]",
      "text/plain": [
       "<Figure size 432x288 with 1 Axes>"
      ]
     },
     "metadata": {
      "needs_background": "light"
     },
     "output_type": "display_data"
    }
   ],
   "source": [
    "# Create plot data frame\n",
    "columns = [\"Latitude\",\"Cloudiness\"]\n",
    "plot_df = weather_data.loc[weather_data[\"Latitude\"]<0,columns]\n",
    "\n",
    "# Scatter plot\n",
    "x_values=plot_df.iloc[:,0]\n",
    "y_values=plot_df.iloc[:,1]\n",
    "\n",
    "(slope, intercept, rvalue, pvalue, stderr) = linregress(x_values,y_values)\n",
    "regress_values = x_values * slope + intercept\n",
    "line_eq = \"y = \" + str(round(slope,2)) + \"x + \" + str(round(intercept,2))\n",
    "\n",
    "plt.scatter(x_values,y_values)\n",
    "plt.plot(x_values,regress_values,\"r-\")\n",
    "\n",
    "plt.annotate(line_eq,(x_values.min()*0.95,y_values.min()*1.05),fontsize=14,color=\"red\")\n",
    "plt.title(f\"City {plot_df.columns[0]} vs {plot_df.columns[1]}\")\n",
    "plt.xlabel(plot_df.columns[0])\n",
    "plt.ylabel(f\"{plot_df.columns[1]}\")\n",
    "\n",
    "# R-value\n",
    "print(f\"The r-value is: {rvalue}\")\n",
    "plt.show()"
   ]
  },
  {
   "cell_type": "markdown",
   "metadata": {},
   "source": [
    "##### Southern Hemisphere Cloudiness Linear Regression Analysis\n",
    "With a low r-value (-0.0074) and the visual spread of the data relatively to the linear regression model, there is a very low relationship between the latitude with the cloudiness level.\n",
    "\n",
    "----"
   ]
  },
  {
   "cell_type": "markdown",
   "metadata": {},
   "source": [
    "####  Northern Hemisphere - Wind Speed (mph) vs. Latitude Linear Regression"
   ]
  },
  {
   "cell_type": "code",
   "execution_count": 19,
   "metadata": {},
   "outputs": [
    {
     "name": "stdout",
     "output_type": "stream",
     "text": [
      "The r-value is: 0.05966743471534958\n"
     ]
    },
    {
     "data": {
      "image/png": "[encoded data removed]",
      "text/plain": [
       "<Figure size 432x288 with 1 Axes>"
      ]
     },
     "metadata": {
      "needs_background": "light"
     },
     "output_type": "display_data"
    }
   ],
   "source": [
    "# Create plot data frame\n",
    "columns = [\"Latitude\",\"Wind Speed (km/h)\"]\n",
    "plot_df = weather_data.loc[weather_data[\"Latitude\"]>=0,columns]\n",
    "\n",
    "# Scatter plot\n",
    "x_values=plot_df.iloc[:,0]\n",
    "y_values=plot_df.iloc[:,1]\n",
    "\n",
    "(slope, intercept, rvalue, pvalue, stderr) = linregress(x_values,y_values)\n",
    "regress_values = x_values * slope + intercept\n",
    "line_eq = \"y = \" + str(round(slope,2)) + \"x + \" + str(round(intercept,2))\n",
    "\n",
    "plt.scatter(x_values,y_values)\n",
    "plt.plot(x_values,regress_values,\"r-\")\n",
    "\n",
    "plt.annotate(line_eq,(x_values.min()*1.05,y_values.min()*1.05),fontsize=14,color=\"red\")\n",
    "plt.title(f\"City {plot_df.columns[0]} vs {plot_df.columns[1]}\")\n",
    "plt.xlabel(plot_df.columns[0])\n",
    "plt.ylabel(f\"{plot_df.columns[1]}\")\n",
    "\n",
    "# R-value\n",
    "print(f\"The r-value is: {rvalue}\")\n",
    "plt.show()"
   ]
  },
  {
   "cell_type": "markdown",
   "metadata": {},
   "source": [
    "##### Northern Hemisphere Wind Speed Linear Regression Analysis\n",
    "With a low r-value (0.06), there is a very low relationship between the latitude with the wind speed level.\n",
    "\n",
    "----"
   ]
  },
  {
   "cell_type": "markdown",
   "metadata": {},
   "source": [
    "####  Southern Hemisphere - Wind Speed (mph) vs. Latitude Linear Regression"
   ]
  },
  {
   "cell_type": "code",
   "execution_count": 20,
   "metadata": {},
   "outputs": [
    {
     "name": "stdout",
     "output_type": "stream",
     "text": [
      "The r-value is: -0.1192061116067659\n"
     ]
    },
    {
     "data": {
      "image/png": "[encoded data removed]",
      "text/plain": [
       "<Figure size 432x288 with 1 Axes>"
      ]
     },
     "metadata": {
      "needs_background": "light"
     },
     "output_type": "display_data"
    }
   ],
   "source": [
    "# Create plot data frame\n",
    "columns = [\"Latitude\",\"Wind Speed (km/h)\"]\n",
    "plot_df = weather_data.loc[weather_data[\"Latitude\"]<0,columns]\n",
    "\n",
    "# Scatter plot\n",
    "x_values=plot_df.iloc[:,0]\n",
    "y_values=plot_df.iloc[:,1]\n",
    "\n",
    "(slope, intercept, rvalue, pvalue, stderr) = linregress(x_values,y_values)\n",
    "regress_values = x_values * slope + intercept\n",
    "line_eq = \"y = \" + str(round(slope,2)) + \"x + \" + str(round(intercept,2))\n",
    "\n",
    "plt.scatter(x_values,y_values)\n",
    "plt.plot(x_values,regress_values,\"r-\")\n",
    "\n",
    "plt.annotate(line_eq,(x_values.min()*0.95,y_values.min()*1.05),fontsize=14,color=\"red\")\n",
    "plt.title(f\"City {plot_df.columns[0]} vs {plot_df.columns[1]}\")\n",
    "plt.xlabel(plot_df.columns[0])\n",
    "plt.ylabel(f\"{plot_df.columns[1]}\")\n",
    "\n",
    "# R-value\n",
    "print(f\"The r-value is: {rvalue}\")\n",
    "plt.show()"
   ]
  },
  {
   "cell_type": "markdown",
   "metadata": {},
   "source": [
    "##### Southern Hemisphere Wind Speed Linear Regression Analysis\n",
    "With a low r-value (-0.12), there is a very low relationship between the latitude with the wind speed level.\n"
   ]
  },
  {
   "cell_type": "markdown",
   "metadata": {},
   "source": [
    "# Analysis Conclusion"
   ]
  },
  {
   "cell_type": "markdown",
   "metadata": {},
   "source": [
    "In relation to the weather conditions of locations nearer to the Equator, the temperature do generally get warmer. This is illustrated by the high level of confidence, linear regression models on the temperature above.\n",
    "\n",
    "In comparison between the Northern and Southern Hemispheres, it is a lot colder at the top northern end than the southern end. Overall, locations in the Southern Hemisphere have a milder temperature than the Northern Hemisphere. This observation is illustrated in the temperature vs latitude plot."
   ]
  }
 ],
 "metadata": {
  "anaconda-cloud": {},
  "kernel_info": {
   "name": "python3"
  },
  "kernelspec": {
   "display_name": "Python 3",
   "language": "python",
   "name": "python3"
  },
  "language_info": {
   "codemirror_mode": {
    "name": "ipython",
    "version": 3
   },
   "file_extension": ".py",
   "mimetype": "text/x-python",
   "name": "python",
   "nbconvert_exporter": "python",
   "pygments_lexer": "ipython3",
   "version": "3.6.10"
  },
  "latex_envs": {
   "LaTeX_envs_menu_present": true,
   "autoclose": false,
   "autocomplete": true,
   "bibliofile": "biblio.bib",
   "cite_by": "apalike",
   "current_citInitial": 1,
   "eqLabelWithNumbers": true,
   "eqNumInitial": 1,
   "hotkeys": {
    "equation": "Ctrl-E",
    "itemize": "Ctrl-I"
   },
   "labels_anchors": false,
   "latex_user_defs": false,
   "report_style_numbering": false,
   "user_envs_cfg": false
  },
  "nteract": {
   "version": "0.12.3"
  }
 },
 "nbformat": 4,
 "nbformat_minor": 2
}
