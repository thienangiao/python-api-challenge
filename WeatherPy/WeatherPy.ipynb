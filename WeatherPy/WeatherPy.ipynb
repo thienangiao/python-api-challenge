{
 "cells": [
  {
   "cell_type": "markdown",
   "metadata": {},
   "source": [
    "# WeatherPy\n",
    "----"
   ]
  },
  {
   "cell_type": "code",
   "execution_count": 1,
   "metadata": {
    "scrolled": true
   },
   "outputs": [],
   "source": [
    "# Dependencies\n",
    "import matplotlib.pyplot as plt\n",
    "import pandas as pd\n",
    "import random\n",
    "import json\n",
    "import requests\n",
    "from scipy.stats import linregress\n",
    "from citipy import citipy\n",
    "from pprint import pprint\n",
    "from api_keys import weather_api_key"
   ]
  },
  {
   "cell_type": "markdown",
   "metadata": {},
   "source": [
    "### Generate Cities List"
   ]
  },
  {
   "cell_type": "code",
   "execution_count": 2,
   "metadata": {},
   "outputs": [],
   "source": [
    "# Generate random latitude\\longitude\n",
    "sample_size = 600\n",
    "latitude = []\n",
    "longitude = []\n",
    "\n",
    "for x in range (0,sample_size):\n",
    "    latitude.append(random.randint(-90,90))\n",
    "    longitude.append(random.randint(-180,180)) "
   ]
  },
  {
   "cell_type": "code",
   "execution_count": 3,
   "metadata": {},
   "outputs": [],
   "source": [
    "# Select closest city using citipy library (https://pypi.python.org/pypi/citipy)\n",
    "\n",
    "cities = []\n",
    "\n",
    "for x,y in zip(latitude,longitude):\n",
    "    city=citipy.nearest_city(x,y)  \n",
    "    cities.append(city.city_name)\n"
   ]
  },
  {
   "cell_type": "markdown",
   "metadata": {},
   "source": [
    "### Perform API Calls\n"
   ]
  },
  {
   "cell_type": "code",
   "execution_count": 4,
   "metadata": {},
   "outputs": [],
   "source": [
    "# Save config information.\n",
    "url = \"http://api.openweathermap.org/data/2.5/weather?\"\n",
    "units = \"metric\"\n",
    "api_key= weather_api_key\n",
    "\n",
    "# Build partial query URL\n",
    "query_url = f\"{url}appid={api_key}&units={units}&q=\""
   ]
  },
  {
   "cell_type": "code",
   "execution_count": 5,
   "metadata": {},
   "outputs": [
    {
     "name": "stdout",
     "output_type": "stream",
     "text": [
      "cape town found. Appending data\n",
      "ushuaia found. Appending data\n",
      "saint george found. Appending data\n",
      "hermanus found. Appending data\n",
      "clyde river found. Appending data\n",
      "chokurdakh found. Appending data\n",
      "ponta do sol found. Appending data\n",
      "barentsburg not found. Skipping...\n",
      "punta arenas found. Appending data\n",
      "ushuaia found. Appending data\n",
      "iqaluit found. Appending data\n",
      "barrow found. Appending data\n",
      "punta arenas found. Appending data\n",
      "billings found. Appending data\n",
      "east london found. Appending data\n",
      "lompoc found. Appending data\n",
      "namibe found. Appending data\n",
      "dikson found. Appending data\n",
      "beloha found. Appending data\n",
      "punta arenas found. Appending data\n",
      "senneterre found. Appending data\n",
      "egvekinot found. Appending data\n",
      "ushuaia found. Appending data\n",
      "ternate found. Appending data\n",
      "warrnambool found. Appending data\n",
      "hithadhoo found. Appending data\n",
      "laguna found. Appending data\n",
      "saint-philippe found. Appending data\n",
      "ushuaia found. Appending data\n",
      "jamestown found. Appending data\n",
      "attawapiskat not found. Skipping...\n",
      "kapaa found. Appending data\n",
      "atuona found. Appending data\n",
      "barentsburg not found. Skipping...\n",
      "ushuaia found. Appending data\n",
      "cape town found. Appending data\n",
      "luanda found. Appending data\n",
      "primore not found. Skipping...\n",
      "marcona not found. Skipping...\n",
      "port hawkesbury found. Appending data\n",
      "nayagarh found. Appending data\n",
      "hermanus found. Appending data\n",
      "culebra found. Appending data\n",
      "kota tinggi found. Appending data\n",
      "jamestown found. Appending data\n",
      "rocha found. Appending data\n",
      "nikolskoye found. Appending data\n",
      "arraial do cabo found. Appending data\n",
      "dayong found. Appending data\n",
      "lebu found. Appending data\n",
      "leningradskiy found. Appending data\n",
      "vardo found. Appending data\n",
      "hermanus found. Appending data\n",
      "barentsburg not found. Skipping...\n",
      "punta arenas found. Appending data\n",
      "saskylakh found. Appending data\n",
      "vaini found. Appending data\n",
      "ahipara found. Appending data\n",
      "kuche not found. Skipping...\n",
      "rungata not found. Skipping...\n",
      "ushuaia found. Appending data\n",
      "puerto escondido found. Appending data\n",
      "svetlyy found. Appending data\n",
      "kamphaeng phet found. Appending data\n",
      "shelburne found. Appending data\n",
      "hermanus found. Appending data\n",
      "chuy found. Appending data\n",
      "tynda found. Appending data\n",
      "nizhneyansk not found. Skipping...\n",
      "ushuaia found. Appending data\n",
      "itarema found. Appending data\n",
      "belushya guba not found. Skipping...\n",
      "labuhan found. Appending data\n",
      "calafat found. Appending data\n",
      "mataura found. Appending data\n",
      "cazaje not found. Skipping...\n",
      "jamestown found. Appending data\n",
      "torbay found. Appending data\n",
      "bazarnyye mataki found. Appending data\n",
      "kruisfontein found. Appending data\n",
      "boueni found. Appending data\n",
      "churapcha found. Appending data\n",
      "mount gambier found. Appending data\n",
      "ushuaia found. Appending data\n",
      "kodiak found. Appending data\n",
      "fairbanks found. Appending data\n",
      "port lincoln found. Appending data\n",
      "oranjemund found. Appending data\n",
      "zhob found. Appending data\n",
      "tuktoyaktuk found. Appending data\n",
      "qaanaaq found. Appending data\n",
      "atuona found. Appending data\n",
      "severo-kurilsk found. Appending data\n",
      "ushuaia found. Appending data\n",
      "torbay found. Appending data\n",
      "fortuna found. Appending data\n",
      "torbay found. Appending data\n",
      "faanui found. Appending data\n",
      "taolanaro not found. Skipping...\n",
      "fort frances found. Appending data\n",
      "yellowknife found. Appending data\n",
      "la ronge found. Appending data\n",
      "lebu found. Appending data\n",
      "halalo not found. Skipping...\n",
      "namibe found. Appending data\n",
      "thompson found. Appending data\n",
      "pangnirtung found. Appending data\n",
      "provideniya found. Appending data\n",
      "illoqqortoormiut not found. Skipping...\n",
      "narasannapeta found. Appending data\n",
      "avarua found. Appending data\n",
      "rikitea found. Appending data\n",
      "cidreira found. Appending data\n",
      "mataura found. Appending data\n",
      "port alfred found. Appending data\n",
      "norman wells found. Appending data\n",
      "uray found. Appending data\n",
      "hermanus found. Appending data\n",
      "waddan found. Appending data\n",
      "barrow found. Appending data\n",
      "matamoros found. Appending data\n",
      "barrow found. Appending data\n",
      "kavaratti found. Appending data\n",
      "erenhot found. Appending data\n",
      "chuy found. Appending data\n",
      "cape town found. Appending data\n",
      "mataura found. Appending data\n",
      "seoul found. Appending data\n",
      "miram shah found. Appending data\n",
      "vallenar found. Appending data\n",
      "busselton found. Appending data\n",
      "springdale found. Appending data\n",
      "tuktoyaktuk found. Appending data\n",
      "araguatins not found. Skipping...\n",
      "punta arenas found. Appending data\n",
      "puerto ayora found. Appending data\n",
      "vaitupu not found. Skipping...\n",
      "cape town found. Appending data\n",
      "khatanga found. Appending data\n",
      "coquimbo found. Appending data\n",
      "watsa found. Appending data\n",
      "belushya guba not found. Skipping...\n",
      "hilo found. Appending data\n",
      "barentsburg not found. Skipping...\n",
      "port elizabeth found. Appending data\n",
      "dikson found. Appending data\n",
      "bluff found. Appending data\n",
      "bluff found. Appending data\n",
      "victoria found. Appending data\n",
      "saskylakh found. Appending data\n",
      "barrow found. Appending data\n",
      "busselton found. Appending data\n",
      "dakar found. Appending data\n",
      "niksic found. Appending data\n",
      "bethel found. Appending data\n",
      "lebu found. Appending data\n",
      "kruisfontein found. Appending data\n",
      "tual found. Appending data\n",
      "saldanha found. Appending data\n",
      "biltine found. Appending data\n",
      "port alfred found. Appending data\n",
      "tessalit found. Appending data\n",
      "illoqqortoormiut not found. Skipping...\n",
      "yellowknife found. Appending data\n",
      "sao filipe found. Appending data\n",
      "midrand found. Appending data\n",
      "vrangel found. Appending data\n",
      "umm kaddadah found. Appending data\n",
      "college found. Appending data\n",
      "pevek found. Appending data\n",
      "carnarvon found. Appending data\n",
      "port alfred found. Appending data\n",
      "bluff found. Appending data\n",
      "bambous virieux found. Appending data\n",
      "ketchikan found. Appending data\n",
      "coxim found. Appending data\n",
      "luderitz found. Appending data\n",
      "butaritari found. Appending data\n",
      "busselton found. Appending data\n",
      "sao filipe found. Appending data\n",
      "nanortalik found. Appending data\n",
      "selfoss found. Appending data\n",
      "hobart found. Appending data\n",
      "rikitea found. Appending data\n",
      "christchurch found. Appending data\n",
      "rikitea found. Appending data\n",
      "constitucion found. Appending data\n",
      "port lincoln found. Appending data\n",
      "illoqqortoormiut not found. Skipping...\n",
      "flinders found. Appending data\n",
      "ushuaia found. Appending data\n",
      "mar del plata found. Appending data\n",
      "new norfolk found. Appending data\n",
      "attawapiskat not found. Skipping...\n",
      "ushuaia found. Appending data\n",
      "manadhoo found. Appending data\n",
      "upata found. Appending data\n",
      "zhob found. Appending data\n",
      "castro found. Appending data\n",
      "tessalit found. Appending data\n",
      "te anau found. Appending data\n",
      "busselton found. Appending data\n",
      "ponta do sol found. Appending data\n",
      "manjacaze found. Appending data\n",
      "cherskiy found. Appending data\n",
      "atuona found. Appending data\n",
      "buraydah found. Appending data\n",
      "wolmaranstad not found. Skipping...\n",
      "gimli found. Appending data\n",
      "vaini found. Appending data\n",
      "hasaki found. Appending data\n",
      "saposoa found. Appending data\n",
      "norman wells found. Appending data\n",
      "bredasdorp found. Appending data\n",
      "bluff found. Appending data\n",
      "naples found. Appending data\n",
      "havoysund found. Appending data\n",
      "illoqqortoormiut not found. Skipping...\n",
      "korla found. Appending data\n",
      "port elizabeth found. Appending data\n",
      "beisfjord found. Appending data\n",
      "savannah bight found. Appending data\n",
      "hermanus found. Appending data\n",
      "hasaki found. Appending data\n",
      "kanigoro found. Appending data\n",
      "albany found. Appending data\n",
      "hermanus found. Appending data\n",
      "tres arroyos found. Appending data\n",
      "busselton found. Appending data\n",
      "busselton found. Appending data\n",
      "albany found. Appending data\n",
      "bluff found. Appending data\n",
      "east london found. Appending data\n",
      "marcona not found. Skipping...\n",
      "busselton found. Appending data\n",
      "mataura found. Appending data\n",
      "atambua found. Appending data\n",
      "puerto ayora found. Appending data\n",
      "bredasdorp found. Appending data\n",
      "isangel found. Appending data\n",
      "yellowknife found. Appending data\n",
      "tasiilaq found. Appending data\n",
      "kati found. Appending data\n",
      "ponta delgada found. Appending data\n",
      "mataura found. Appending data\n",
      "okha found. Appending data\n",
      "torbay found. Appending data\n",
      "chokurdakh found. Appending data\n",
      "cabra found. Appending data\n",
      "ushuaia found. Appending data\n",
      "sola found. Appending data\n",
      "hithadhoo found. Appending data\n",
      "ushuaia found. Appending data\n",
      "bambous virieux found. Appending data\n",
      "oktyabrskiy found. Appending data\n",
      "illoqqortoormiut not found. Skipping...\n",
      "busselton found. Appending data\n",
      "canon city found. Appending data\n",
      "taolanaro not found. Skipping...\n"
     ]
    },
    {
     "name": "stdout",
     "output_type": "stream",
     "text": [
      "asau found. Appending data\n",
      "harper found. Appending data\n",
      "santo augusto found. Appending data\n",
      "lorengau found. Appending data\n",
      "kruisfontein found. Appending data\n",
      "vaini found. Appending data\n",
      "tuy hoa found. Appending data\n",
      "henties bay found. Appending data\n",
      "bluff found. Appending data\n",
      "puerto leguizamo found. Appending data\n",
      "barentsburg not found. Skipping...\n",
      "san quintin found. Appending data\n",
      "hilo found. Appending data\n",
      "arraial do cabo found. Appending data\n",
      "kodiak found. Appending data\n",
      "krasnoselkup found. Appending data\n",
      "malakal found. Appending data\n",
      "bredasdorp found. Appending data\n",
      "arraial do cabo found. Appending data\n",
      "san angelo found. Appending data\n",
      "vaini found. Appending data\n",
      "dikson found. Appending data\n",
      "upernavik found. Appending data\n",
      "fairbanks found. Appending data\n",
      "butaritari found. Appending data\n",
      "ellsworth found. Appending data\n",
      "tuktoyaktuk found. Appending data\n",
      "tura found. Appending data\n",
      "lata found. Appending data\n",
      "kapaa found. Appending data\n",
      "saint-philippe found. Appending data\n",
      "avarua found. Appending data\n",
      "castro found. Appending data\n",
      "iqaluit found. Appending data\n",
      "hauterive found. Appending data\n",
      "doctor pedro p. pena not found. Skipping...\n",
      "north bend found. Appending data\n",
      "dikson found. Appending data\n",
      "mar del plata found. Appending data\n",
      "alice springs found. Appending data\n",
      "mahon found. Appending data\n",
      "hilo found. Appending data\n",
      "geraldton found. Appending data\n",
      "awjilah found. Appending data\n",
      "tessalit found. Appending data\n",
      "airai found. Appending data\n",
      "chapais found. Appending data\n",
      "ushuaia found. Appending data\n",
      "sangar found. Appending data\n",
      "mataura found. Appending data\n",
      "ugoofaaru found. Appending data\n",
      "bundaberg found. Appending data\n",
      "manaus found. Appending data\n",
      "saskylakh found. Appending data\n",
      "lata found. Appending data\n",
      "portland found. Appending data\n",
      "japura found. Appending data\n",
      "hay river found. Appending data\n",
      "rikitea found. Appending data\n",
      "barentsburg not found. Skipping...\n",
      "hihifo not found. Skipping...\n",
      "tasiilaq found. Appending data\n",
      "agirish found. Appending data\n",
      "ngukurr not found. Skipping...\n",
      "illoqqortoormiut not found. Skipping...\n",
      "lebu found. Appending data\n",
      "rungata not found. Skipping...\n",
      "hermanus found. Appending data\n",
      "rikitea found. Appending data\n",
      "cherskiy found. Appending data\n",
      "bluff found. Appending data\n",
      "constitucion found. Appending data\n",
      "comodoro rivadavia found. Appending data\n",
      "havelock found. Appending data\n",
      "kapaa found. Appending data\n",
      "vila franca do campo found. Appending data\n",
      "svetlogorsk found. Appending data\n",
      "phan thiet found. Appending data\n",
      "san rafael found. Appending data\n",
      "bluff found. Appending data\n",
      "mentok not found. Skipping...\n",
      "ilulissat found. Appending data\n",
      "hermanus found. Appending data\n",
      "mafeteng found. Appending data\n",
      "carnarvon found. Appending data\n",
      "syracuse found. Appending data\n",
      "illoqqortoormiut not found. Skipping...\n",
      "vallenar found. Appending data\n",
      "kamenskoye not found. Skipping...\n",
      "canutama found. Appending data\n",
      "rikitea found. Appending data\n",
      "mys shmidta not found. Skipping...\n",
      "busselton found. Appending data\n",
      "penzance found. Appending data\n",
      "tabiauea not found. Skipping...\n",
      "lastoursville found. Appending data\n",
      "vaitape found. Appending data\n",
      "lavrentiya found. Appending data\n",
      "punta arenas found. Appending data\n",
      "caravelas found. Appending data\n",
      "aklavik found. Appending data\n",
      "taltal found. Appending data\n",
      "ancud found. Appending data\n",
      "port elizabeth found. Appending data\n",
      "atuona found. Appending data\n",
      "barrow found. Appending data\n",
      "mataura found. Appending data\n",
      "rikitea found. Appending data\n",
      "maloshuyka not found. Skipping...\n",
      "haines junction found. Appending data\n",
      "araouane found. Appending data\n",
      "rikitea found. Appending data\n",
      "mahebourg found. Appending data\n",
      "olafsvik found. Appending data\n",
      "ribeira grande found. Appending data\n",
      "tessalit found. Appending data\n",
      "thompson found. Appending data\n",
      "praia found. Appending data\n",
      "airai found. Appending data\n",
      "shimoda found. Appending data\n",
      "rikitea found. Appending data\n",
      "kodiak found. Appending data\n",
      "hobart found. Appending data\n",
      "arraial do cabo found. Appending data\n",
      "norman wells found. Appending data\n",
      "khatanga found. Appending data\n",
      "port blair found. Appending data\n",
      "butaritari found. Appending data\n",
      "barrow found. Appending data\n",
      "hilo found. Appending data\n",
      "atuona found. Appending data\n",
      "bluff found. Appending data\n",
      "marcona not found. Skipping...\n",
      "lakes entrance found. Appending data\n",
      "busselton found. Appending data\n",
      "tasiilaq found. Appending data\n",
      "tandalti found. Appending data\n",
      "college found. Appending data\n",
      "rikitea found. Appending data\n",
      "busselton found. Appending data\n",
      "sola found. Appending data\n",
      "zemio found. Appending data\n",
      "sinnamary found. Appending data\n",
      "mweka found. Appending data\n",
      "east london found. Appending data\n",
      "butaritari found. Appending data\n",
      "avarua found. Appending data\n",
      "kapaa found. Appending data\n",
      "hobart found. Appending data\n",
      "hokitika found. Appending data\n",
      "kapaa found. Appending data\n",
      "chuy found. Appending data\n",
      "chokurdakh found. Appending data\n",
      "pyapon found. Appending data\n",
      "okha found. Appending data\n",
      "port macquarie found. Appending data\n",
      "arraial do cabo found. Appending data\n",
      "el guamo found. Appending data\n",
      "hilo found. Appending data\n",
      "thompson found. Appending data\n",
      "ribeira grande found. Appending data\n",
      "aleksandrov gay found. Appending data\n",
      "pacific grove found. Appending data\n",
      "hermanus found. Appending data\n",
      "sandavagur not found. Skipping...\n",
      "hobart found. Appending data\n",
      "rikitea found. Appending data\n",
      "mzimba found. Appending data\n",
      "nikolskoye found. Appending data\n",
      "ewa beach found. Appending data\n",
      "rio grande found. Appending data\n",
      "longyearbyen found. Appending data\n",
      "port elizabeth found. Appending data\n",
      "rikitea found. Appending data\n",
      "taolanaro not found. Skipping...\n",
      "albany found. Appending data\n",
      "chuy found. Appending data\n",
      "souillac found. Appending data\n",
      "bredasdorp found. Appending data\n",
      "saint-augustin found. Appending data\n",
      "taolanaro not found. Skipping...\n",
      "guilin found. Appending data\n",
      "ushuaia found. Appending data\n",
      "rikitea found. Appending data\n",
      "brooks found. Appending data\n",
      "yilan found. Appending data\n",
      "alice springs found. Appending data\n",
      "nikolskoye found. Appending data\n",
      "ushuaia found. Appending data\n",
      "hithadhoo found. Appending data\n",
      "boone found. Appending data\n",
      "cape town found. Appending data\n",
      "rikitea found. Appending data\n",
      "tautira found. Appending data\n",
      "buchanan found. Appending data\n",
      "padang found. Appending data\n",
      "samusu not found. Skipping...\n",
      "new norfolk found. Appending data\n",
      "bethel found. Appending data\n",
      "fort myers beach found. Appending data\n",
      "saint-philippe found. Appending data\n",
      "hobart found. Appending data\n",
      "clinton found. Appending data\n",
      "ushuaia found. Appending data\n",
      "hilo found. Appending data\n",
      "nago found. Appending data\n",
      "dikson found. Appending data\n",
      "yar-sale found. Appending data\n",
      "busselton found. Appending data\n",
      "punta arenas found. Appending data\n",
      "hami found. Appending data\n",
      "tasiilaq found. Appending data\n",
      "longyearbyen found. Appending data\n",
      "shimoda found. Appending data\n",
      "jamestown found. Appending data\n",
      "kaseda found. Appending data\n",
      "atuona found. Appending data\n",
      "avarua found. Appending data\n",
      "ushuaia found. Appending data\n",
      "nizhneyansk not found. Skipping...\n",
      "bayan found. Appending data\n",
      "busselton found. Appending data\n",
      "rikitea found. Appending data\n",
      "mandalay found. Appending data\n",
      "barentsburg not found. Skipping...\n",
      "kapaa found. Appending data\n",
      "hermanus found. Appending data\n",
      "jamestown found. Appending data\n",
      "punta arenas found. Appending data\n",
      "constitucion found. Appending data\n",
      "rikitea found. Appending data\n",
      "bambous virieux found. Appending data\n",
      "karakendzha not found. Skipping...\n",
      "hobart found. Appending data\n",
      "sorsk found. Appending data\n",
      "bluff found. Appending data\n",
      "hermanus found. Appending data\n",
      "werneck found. Appending data\n",
      "tumannyy not found. Skipping...\n",
      "rikitea found. Appending data\n",
      "cairns found. Appending data\n",
      "mataura found. Appending data\n",
      "upernavik found. Appending data\n",
      "kapaa found. Appending data\n",
      "port elizabeth found. Appending data\n",
      "sao joao da barra found. Appending data\n",
      "broome found. Appending data\n",
      "udachnyy found. Appending data\n",
      "shingu found. Appending data\n",
      "illoqqortoormiut not found. Skipping...\n",
      "nizhneyansk not found. Skipping...\n",
      "saint-philippe found. Appending data\n",
      "butaritari found. Appending data\n",
      "punta arenas found. Appending data\n",
      "vostok found. Appending data\n",
      "san carlos de bariloche found. Appending data\n",
      "panama city found. Appending data\n",
      "tysmenytsya found. Appending data\n",
      "husavik found. Appending data\n",
      "barrow found. Appending data\n"
     ]
    },
    {
     "name": "stdout",
     "output_type": "stream",
     "text": [
      "punta arenas found. Appending data\n",
      "rikitea found. Appending data\n",
      "dikson found. Appending data\n",
      "contamana found. Appending data\n",
      "broome found. Appending data\n",
      "san vicente found. Appending data\n",
      "ushuaia found. Appending data\n",
      "rio grande found. Appending data\n",
      "albany found. Appending data\n",
      "qaanaaq found. Appending data\n",
      "esperance found. Appending data\n",
      "meyungs not found. Skipping...\n",
      "veshkayma found. Appending data\n",
      "port macquarie found. Appending data\n",
      "east london found. Appending data\n",
      "storforshei found. Appending data\n",
      "saint-jean-port-joli found. Appending data\n",
      "qaanaaq found. Appending data\n",
      "albany found. Appending data\n",
      "yellowknife found. Appending data\n",
      "blenheim found. Appending data\n",
      "mataura found. Appending data\n",
      "east london found. Appending data\n",
      "louisbourg not found. Skipping...\n",
      "sitka found. Appending data\n",
      "thompson found. Appending data\n",
      "mahebourg found. Appending data\n",
      "tuktoyaktuk found. Appending data\n",
      "nikolskoye found. Appending data\n",
      "avarua found. Appending data\n",
      "avarua found. Appending data\n",
      "rikitea found. Appending data\n",
      "hobart found. Appending data\n",
      "hervey bay found. Appending data\n",
      "gibara found. Appending data\n",
      "east london found. Appending data\n",
      "gobabis found. Appending data\n",
      "marzuq found. Appending data\n",
      "punta arenas found. Appending data\n",
      "lata found. Appending data\n",
      "simav found. Appending data\n",
      "victoria found. Appending data\n",
      "cangzhou found. Appending data\n",
      "sibolga found. Appending data\n",
      "cape town found. Appending data\n",
      "bluff found. Appending data\n",
      "uvalde found. Appending data\n",
      "hobart found. Appending data\n",
      "hobart found. Appending data\n",
      "cuyo found. Appending data\n",
      "conde found. Appending data\n",
      "yellowknife found. Appending data\n",
      "port elizabeth found. Appending data\n",
      "erzin found. Appending data\n",
      "nikolskoye found. Appending data\n",
      "borba found. Appending data\n",
      "tsihombe not found. Skipping...\n",
      "mataura found. Appending data\n",
      "mar del plata found. Appending data\n",
      "kapaa found. Appending data\n",
      "thompson found. Appending data\n",
      "ushuaia found. Appending data\n",
      "maunabo found. Appending data\n",
      "adrar found. Appending data\n",
      "puerto ayora found. Appending data\n",
      "visnes found. Appending data\n",
      "mataura found. Appending data\n",
      "varhaug found. Appending data\n",
      "arraial do cabo found. Appending data\n",
      "cap malheureux found. Appending data\n",
      "mundgod found. Appending data\n",
      "punta arenas found. Appending data\n",
      "punta arenas found. Appending data\n",
      "norman wells found. Appending data\n",
      "neuquen found. Appending data\n",
      "kodiak found. Appending data\n",
      "benguela found. Appending data\n",
      "kapaa found. Appending data\n",
      "nalut found. Appending data\n",
      "saint george found. Appending data\n",
      "tuktoyaktuk found. Appending data\n"
     ]
    }
   ],
   "source": [
    "# set up lists to hold reponse info\n",
    "\n",
    "name = []\n",
    "lat = []\n",
    "lon = []\n",
    "date = []\n",
    "temp_max = []\n",
    "hum = []\n",
    "cloud = []\n",
    "wind_kmh = []\n",
    "\n",
    "# Loop through the list of cities and perform a request for data on each\n",
    "for city in cities:\n",
    "    response = requests.get(query_url + city).json()\n",
    "    \n",
    "    try:\n",
    "        name.append(response['name'])\n",
    "        lat.append(response['coord']['lat'])\n",
    "        lon.append(response['coord']['lon']) \n",
    "        date.append(response['dt'])    \n",
    "        temp_max.append(response['main']['temp_max'])\n",
    "        hum.append(response['main']['humidity'])\n",
    "        cloud.append(response['clouds']['all'])\n",
    "        wind_kmh.append(response['wind']['speed'])\n",
    "        print(f\"{city} found. Appending data\")\n",
    "        \n",
    "    except:\n",
    "       # Append null values\n",
    "       print(f\"{city} not found. Skipping...\")\n",
    "    pass\n",
    "\n",
    "# Create city ID\n",
    "city_id = []\n",
    "\n",
    "for id in range(len(name)):\n",
    "    city_id.append(id)\n"
   ]
  },
  {
   "cell_type": "markdown",
   "metadata": {},
   "source": [
    "### Convert Raw Data to DataFrame\n"
   ]
  },
  {
   "cell_type": "code",
   "execution_count": 6,
   "metadata": {},
   "outputs": [
    {
     "data": {
      "text/html": [
       "<div>\n",
       "<style scoped>\n",
       "    .dataframe tbody tr th:only-of-type {\n",
       "        vertical-align: middle;\n",
       "    }\n",
       "\n",
       "    .dataframe tbody tr th {\n",
       "        vertical-align: top;\n",
       "    }\n",
       "\n",
       "    .dataframe thead th {\n",
       "        text-align: right;\n",
       "    }\n",
       "</style>\n",
       "<table border=\"1\" class=\"dataframe\">\n",
       "  <thead>\n",
       "    <tr style=\"text-align: right;\">\n",
       "      <th></th>\n",
       "      <th>City_ID</th>\n",
       "      <th>City</th>\n",
       "      <th>Latitude</th>\n",
       "      <th>Longitude</th>\n",
       "      <th>Date</th>\n",
       "      <th>Max Temperature (C)</th>\n",
       "      <th>Humidity</th>\n",
       "      <th>Cloudiness</th>\n",
       "      <th>Wind Speed (km/h)</th>\n",
       "    </tr>\n",
       "  </thead>\n",
       "  <tbody>\n",
       "    <tr>\n",
       "      <th>0</th>\n",
       "      <td>0</td>\n",
       "      <td>Cape Town</td>\n",
       "      <td>-33.9258</td>\n",
       "      <td>18.4232</td>\n",
       "      <td>2021-03-18 07:57:32</td>\n",
       "      <td>22.22</td>\n",
       "      <td>82</td>\n",
       "      <td>20</td>\n",
       "      <td>6.69</td>\n",
       "    </tr>\n",
       "    <tr>\n",
       "      <th>1</th>\n",
       "      <td>1</td>\n",
       "      <td>Ushuaia</td>\n",
       "      <td>-54.8000</td>\n",
       "      <td>-68.3000</td>\n",
       "      <td>2021-03-18 07:53:49</td>\n",
       "      <td>10.00</td>\n",
       "      <td>71</td>\n",
       "      <td>40</td>\n",
       "      <td>3.43</td>\n",
       "    </tr>\n",
       "    <tr>\n",
       "      <th>2</th>\n",
       "      <td>2</td>\n",
       "      <td>Saint George</td>\n",
       "      <td>37.1041</td>\n",
       "      <td>-113.5841</td>\n",
       "      <td>2021-03-18 07:58:06</td>\n",
       "      <td>10.56</td>\n",
       "      <td>71</td>\n",
       "      <td>1</td>\n",
       "      <td>2.06</td>\n",
       "    </tr>\n",
       "    <tr>\n",
       "      <th>3</th>\n",
       "      <td>3</td>\n",
       "      <td>Hermanus</td>\n",
       "      <td>-34.4187</td>\n",
       "      <td>19.2345</td>\n",
       "      <td>2021-03-18 07:58:06</td>\n",
       "      <td>22.22</td>\n",
       "      <td>73</td>\n",
       "      <td>0</td>\n",
       "      <td>1.79</td>\n",
       "    </tr>\n",
       "    <tr>\n",
       "      <th>4</th>\n",
       "      <td>4</td>\n",
       "      <td>Clyde River</td>\n",
       "      <td>70.4692</td>\n",
       "      <td>-68.5914</td>\n",
       "      <td>2021-03-18 07:58:07</td>\n",
       "      <td>-30.00</td>\n",
       "      <td>76</td>\n",
       "      <td>1</td>\n",
       "      <td>3.60</td>\n",
       "    </tr>\n",
       "  </tbody>\n",
       "</table>\n",
       "</div>"
      ],
      "text/plain": [
       "   City_ID          City  Latitude  Longitude                Date  \\\n",
       "0        0     Cape Town  -33.9258    18.4232 2021-03-18 07:57:32   \n",
       "1        1       Ushuaia  -54.8000   -68.3000 2021-03-18 07:53:49   \n",
       "2        2  Saint George   37.1041  -113.5841 2021-03-18 07:58:06   \n",
       "3        3      Hermanus  -34.4187    19.2345 2021-03-18 07:58:06   \n",
       "4        4   Clyde River   70.4692   -68.5914 2021-03-18 07:58:07   \n",
       "\n",
       "   Max Temperature (C)  Humidity  Cloudiness  Wind Speed (km/h)  \n",
       "0                22.22        82          20               6.69  \n",
       "1                10.00        71          40               3.43  \n",
       "2                10.56        71           1               2.06  \n",
       "3                22.22        73           0               1.79  \n",
       "4               -30.00        76           1               3.60  "
      ]
     },
     "execution_count": 6,
     "metadata": {},
     "output_type": "execute_result"
    }
   ],
   "source": [
    "# create a data frame from cities, lat, and temp\n",
    "weather_data = pd.DataFrame({\"City_ID\": city_id,\n",
    "                            \"City\": name,\n",
    "                            \"Latitude\": lat,\n",
    "                            \"Longitude\": lon,\n",
    "                            \"Date\": date,\n",
    "                            \"Max Temperature (C)\": temp_max,\n",
    "                            \"Humidity\": hum,\n",
    "                            \"Cloudiness\": cloud,\n",
    "                            \"Wind Speed (km/h)\": wind_kmh,\n",
    "                            })\n",
    "\n",
    "# Convert Unix date\n",
    "weather_data[\"Date\"]=pd.to_datetime(weather_data[\"Date\"], unit='s')\n",
    "\n",
    "# Export file as csv\n",
    "weather_data.to_csv(\"output_data/cities.csv\",index=False, header=True)\n",
    "\n",
    "weather_data.head()"
   ]
  },
  {
   "cell_type": "code",
   "execution_count": 7,
   "metadata": {},
   "outputs": [
    {
     "data": {
      "image/png": "[encoded data removed]",
      "text/plain": [
       "<Figure size 432x288 with 1 Axes>"
      ]
     },
     "metadata": {
      "needs_background": "light"
     },
     "output_type": "display_data"
    }
   ],
   "source": [
    "# Review how the sample cities are distributed\n",
    "\n",
    "plt.scatter(weather_data[\"Latitude\"], weather_data[\"Longitude\"], marker=\"o\")\n",
    "\n",
    "plt.title(\"City Latitude vs Longitude\")\n",
    "plt.ylabel(\"Longitude\")\n",
    "plt.xlabel(\"Latitude\")\n",
    "plt.grid(True)\n",
    "\n",
    "# Show plot\n",
    "plt.show()"
   ]
  },
  {
   "cell_type": "code",
   "execution_count": 8,
   "metadata": {},
   "outputs": [
    {
     "data": {
      "text/html": [
       "<div>\n",
       "<style scoped>\n",
       "    .dataframe tbody tr th:only-of-type {\n",
       "        vertical-align: middle;\n",
       "    }\n",
       "\n",
       "    .dataframe tbody tr th {\n",
       "        vertical-align: top;\n",
       "    }\n",
       "\n",
       "    .dataframe thead th {\n",
       "        text-align: right;\n",
       "    }\n",
       "</style>\n",
       "<table border=\"1\" class=\"dataframe\">\n",
       "  <thead>\n",
       "    <tr style=\"text-align: right;\">\n",
       "      <th></th>\n",
       "      <th>City_ID</th>\n",
       "      <th>Latitude</th>\n",
       "      <th>Longitude</th>\n",
       "      <th>Max Temperature (C)</th>\n",
       "      <th>Humidity</th>\n",
       "      <th>Cloudiness</th>\n",
       "      <th>Wind Speed (km/h)</th>\n",
       "    </tr>\n",
       "  </thead>\n",
       "  <tbody>\n",
       "    <tr>\n",
       "      <th>count</th>\n",
       "      <td>547.00000</td>\n",
       "      <td>547.000000</td>\n",
       "      <td>547.000000</td>\n",
       "      <td>547.000000</td>\n",
       "      <td>547.000000</td>\n",
       "      <td>547.000000</td>\n",
       "      <td>547.000000</td>\n",
       "    </tr>\n",
       "    <tr>\n",
       "      <th>mean</th>\n",
       "      <td>273.00000</td>\n",
       "      <td>6.085970</td>\n",
       "      <td>-3.402194</td>\n",
       "      <td>12.468940</td>\n",
       "      <td>73.252285</td>\n",
       "      <td>47.294333</td>\n",
       "      <td>3.837441</td>\n",
       "    </tr>\n",
       "    <tr>\n",
       "      <th>std</th>\n",
       "      <td>158.04957</td>\n",
       "      <td>41.476751</td>\n",
       "      <td>102.646202</td>\n",
       "      <td>15.934082</td>\n",
       "      <td>18.135387</td>\n",
       "      <td>39.720719</td>\n",
       "      <td>2.396220</td>\n",
       "    </tr>\n",
       "    <tr>\n",
       "      <th>min</th>\n",
       "      <td>0.00000</td>\n",
       "      <td>-54.800000</td>\n",
       "      <td>-179.166700</td>\n",
       "      <td>-31.160000</td>\n",
       "      <td>8.000000</td>\n",
       "      <td>0.000000</td>\n",
       "      <td>0.170000</td>\n",
       "    </tr>\n",
       "    <tr>\n",
       "      <th>25%</th>\n",
       "      <td>136.50000</td>\n",
       "      <td>-33.650000</td>\n",
       "      <td>-74.996400</td>\n",
       "      <td>3.945000</td>\n",
       "      <td>66.000000</td>\n",
       "      <td>1.000000</td>\n",
       "      <td>2.060000</td>\n",
       "    </tr>\n",
       "    <tr>\n",
       "      <th>50%</th>\n",
       "      <td>273.00000</td>\n",
       "      <td>-0.193400</td>\n",
       "      <td>-5.537100</td>\n",
       "      <td>16.110000</td>\n",
       "      <td>77.000000</td>\n",
       "      <td>40.000000</td>\n",
       "      <td>3.430000</td>\n",
       "    </tr>\n",
       "    <tr>\n",
       "      <th>75%</th>\n",
       "      <td>409.50000</td>\n",
       "      <td>42.786550</td>\n",
       "      <td>84.575000</td>\n",
       "      <td>24.020000</td>\n",
       "      <td>86.000000</td>\n",
       "      <td>90.000000</td>\n",
       "      <td>5.140000</td>\n",
       "    </tr>\n",
       "    <tr>\n",
       "      <th>max</th>\n",
       "      <td>546.00000</td>\n",
       "      <td>78.218600</td>\n",
       "      <td>178.416700</td>\n",
       "      <td>40.000000</td>\n",
       "      <td>100.000000</td>\n",
       "      <td>100.000000</td>\n",
       "      <td>11.320000</td>\n",
       "    </tr>\n",
       "  </tbody>\n",
       "</table>\n",
       "</div>"
      ],
      "text/plain": [
       "         City_ID    Latitude   Longitude  Max Temperature (C)    Humidity  \\\n",
       "count  547.00000  547.000000  547.000000           547.000000  547.000000   \n",
       "mean   273.00000    6.085970   -3.402194            12.468940   73.252285   \n",
       "std    158.04957   41.476751  102.646202            15.934082   18.135387   \n",
       "min      0.00000  -54.800000 -179.166700           -31.160000    8.000000   \n",
       "25%    136.50000  -33.650000  -74.996400             3.945000   66.000000   \n",
       "50%    273.00000   -0.193400   -5.537100            16.110000   77.000000   \n",
       "75%    409.50000   42.786550   84.575000            24.020000   86.000000   \n",
       "max    546.00000   78.218600  178.416700            40.000000  100.000000   \n",
       "\n",
       "       Cloudiness  Wind Speed (km/h)  \n",
       "count  547.000000         547.000000  \n",
       "mean    47.294333           3.837441  \n",
       "std     39.720719           2.396220  \n",
       "min      0.000000           0.170000  \n",
       "25%      1.000000           2.060000  \n",
       "50%     40.000000           3.430000  \n",
       "75%     90.000000           5.140000  \n",
       "max    100.000000          11.320000  "
      ]
     },
     "execution_count": 8,
     "metadata": {},
     "output_type": "execute_result"
    }
   ],
   "source": [
    "# Review data\n",
    "# Remove any cities with humidity > 100%\n",
    "\n",
    "weather_data.describe()"
   ]
  },
  {
   "cell_type": "markdown",
   "metadata": {},
   "source": [
    "## Plotting the Data\n",
    "* Use proper labeling of the plots using plot titles (including date of analysis) and axes labels.\n",
    "* Save the plotted figures as .pngs."
   ]
  },
  {
   "cell_type": "markdown",
   "metadata": {},
   "source": [
    "## Latitude vs. Temperature Plot"
   ]
  },
  {
   "cell_type": "code",
   "execution_count": 9,
   "metadata": {
    "scrolled": true
   },
   "outputs": [
    {
     "data": {
      "image/png": "[encoded data removed]",
      "text/plain": [
       "<Figure size 432x288 with 1 Axes>"
      ]
     },
     "metadata": {
      "needs_background": "light"
     },
     "output_type": "display_data"
    }
   ],
   "source": [
    "# Build a scatter plot for each data type\n",
    "plt.scatter(weather_data[\"Latitude\"], weather_data[\"Max Temperature (C)\"], marker=\"o\")\n",
    "\n",
    "# Incorporate the other graph properties\n",
    "current_date = (weather_data[\"Date\"].max()).strftime('%d/%m/%Y')\n",
    "\n",
    "plt.title(f\"City Latitude vs Max Temperature ({current_date})\")\n",
    "plt.ylabel(\"Temperature (Celsius)\")\n",
    "plt.xlabel(\"Latitude\")\n",
    "plt.grid(True)\n",
    "\n",
    "# Save the figure\n",
    "plt.savefig(\"output_data/Temperature.png\")\n",
    "\n",
    "# Show plot\n",
    "plt.show()"
   ]
  },
  {
   "cell_type": "markdown",
   "metadata": {},
   "source": [
    "#### Temparature Analysis\n",
    "The Equator is at zero latitude, Southern Hemisphere is at negative latitude, and Northen Hemisphere is at positive latitude. As the city get closer to the Equator, the maximum temperature is warmer, especially if the city is also in the Southern Hemisphere. As the city get further away from the Equator and up toward the top of the Northern Hemisphere, the temperature will be at extreme cold level.  "
   ]
  },
  {
   "cell_type": "markdown",
   "metadata": {},
   "source": [
    "## Latitude vs. Humidity Plot"
   ]
  },
  {
   "cell_type": "code",
   "execution_count": 10,
   "metadata": {},
   "outputs": [
    {
     "data": {
      "image/png": "[encoded data removed]",
      "text/plain": [
       "<Figure size 432x288 with 1 Axes>"
      ]
     },
     "metadata": {
      "needs_background": "light"
     },
     "output_type": "display_data"
    }
   ],
   "source": [
    "# Build a scatter plot for each data type\n",
    "plt.scatter(weather_data[\"Latitude\"], weather_data[\"Humidity\"], marker=\"o\")\n",
    "\n",
    "# Incorporate the other graph properties\n",
    "current_date = (weather_data[\"Date\"].max()).strftime('%d/%m/%Y')\n",
    "\n",
    "plt.title(f\"City Latitude vs Humidity ({current_date})\")\n",
    "plt.ylabel(\"Humidity (%)\")\n",
    "plt.xlabel(\"Latitude\")\n",
    "plt.grid(True)\n",
    "\n",
    "# Save the figure\n",
    "plt.savefig(\"output_data/Humidity.png\")\n",
    "\n",
    "# Show plot\n",
    "plt.show()"
   ]
  },
  {
   "cell_type": "markdown",
   "metadata": {},
   "source": [
    "#### Humidity Analysis\n",
    "Some cities in the Northern Hemisphere have lower humidity % as they get closer to the Equator. The longitude may be another factor that influence the level of humidity too.  "
   ]
  },
  {
   "cell_type": "markdown",
   "metadata": {},
   "source": [
    "## Latitude vs. Cloudiness Plot"
   ]
  },
  {
   "cell_type": "code",
   "execution_count": 11,
   "metadata": {},
   "outputs": [
    {
     "data": {
      "image/png": "[encoded data removed]",
      "text/plain": [
       "<Figure size 432x288 with 1 Axes>"
      ]
     },
     "metadata": {
      "needs_background": "light"
     },
     "output_type": "display_data"
    }
   ],
   "source": [
    "# Build a scatter plot for each data type\n",
    "plt.scatter(weather_data[\"Latitude\"], weather_data[\"Cloudiness\"], marker=\"o\")\n",
    "\n",
    "# Incorporate the other graph properties\n",
    "current_date = (weather_data[\"Date\"].max()).strftime('%d/%m/%Y')\n",
    "\n",
    "plt.title(f\"City Latitude vs Cloudiness ({current_date})\")\n",
    "plt.ylabel(\"Cloudiness (%)\")\n",
    "plt.xlabel(\"Latitude\")\n",
    "plt.grid(True)\n",
    "\n",
    "# Save the figure\n",
    "plt.savefig(\"output_data/Cloudiness.png\")\n",
    "\n",
    "# Show plot\n",
    "plt.show()"
   ]
  },
  {
   "cell_type": "markdown",
   "metadata": {},
   "source": [
    "#### Cloudiness Analysis\n",
    "There is no distinct difference in term of cloudiness to make a solid conclusion."
   ]
  },
  {
   "cell_type": "markdown",
   "metadata": {},
   "source": [
    "## Latitude vs. Wind Speed Plot"
   ]
  },
  {
   "cell_type": "code",
   "execution_count": 12,
   "metadata": {},
   "outputs": [
    {
     "data": {
      "image/png": "[encoded data removed]",
      "text/plain": [
       "<Figure size 432x288 with 1 Axes>"
      ]
     },
     "metadata": {
      "needs_background": "light"
     },
     "output_type": "display_data"
    }
   ],
   "source": [
    "# Build a scatter plot for each data type\n",
    "plt.scatter(weather_data[\"Latitude\"], weather_data[\"Wind Speed (km/h)\"], marker=\"o\")\n",
    "\n",
    "# Incorporate the other graph properties\n",
    "current_date = (weather_data[\"Date\"].max()).strftime('%d/%m/%Y')\n",
    "\n",
    "plt.title(f\"City Latitude vs Wind Speed ({current_date})\")\n",
    "plt.ylabel(\"Wind Speed (km/h)\")\n",
    "plt.xlabel(\"Latitude\")\n",
    "plt.grid(True)\n",
    "\n",
    "# Save the figure\n",
    "plt.savefig(\"output_data/Wind_Speed.png\")\n",
    "\n",
    "# Show plot\n",
    "plt.show()"
   ]
  },
  {
   "cell_type": "markdown",
   "metadata": {},
   "source": [
    "#### Wind Speed Analysis\n",
    "There is no distinct difference in term of wind speed to make a solid conclusion."
   ]
  },
  {
   "cell_type": "markdown",
   "metadata": {},
   "source": [
    "## Linear Regression"
   ]
  },
  {
   "cell_type": "markdown",
   "metadata": {},
   "source": [
    "####  Northern Hemisphere - Max Temp vs. Latitude Linear Regression"
   ]
  },
  {
   "cell_type": "code",
   "execution_count": 13,
   "metadata": {},
   "outputs": [
    {
     "name": "stdout",
     "output_type": "stream",
     "text": [
      "The r-value is: -0.921596168634454\n"
     ]
    },
    {
     "data": {
      "image/png": "[encoded data removed]",
      "text/plain": [
       "<Figure size 432x288 with 1 Axes>"
      ]
     },
     "metadata": {
      "needs_background": "light"
     },
     "output_type": "display_data"
    }
   ],
   "source": [
    "# Create plot data frame\n",
    "columns = [\"Latitude\",\"Max Temperature (C)\"]\n",
    "plot_df = weather_data.loc[weather_data[\"Latitude\"]>=0,columns]\n",
    "\n",
    "# Scatter plot\n",
    "x_values=plot_df.iloc[:,0]\n",
    "y_values=plot_df.iloc[:,1]\n",
    "\n",
    "(slope, intercept, rvalue, pvalue, stderr) = linregress(x_values,y_values)\n",
    "regress_values = x_values * slope + intercept\n",
    "line_eq = \"y = \" + str(round(slope,2)) + \"x + \" + str(round(intercept,2))\n",
    "\n",
    "plt.scatter(x_values,y_values)\n",
    "plt.plot(x_values,regress_values,\"r-\")\n",
    "\n",
    "plt.annotate(line_eq,(x_values.min()*1.05,y_values.min()*1.05),fontsize=14,color=\"red\")\n",
    "plt.title(f\"City {plot_df.columns[0]} vs {plot_df.columns[1]}\")\n",
    "plt.xlabel(plot_df.columns[0])\n",
    "plt.ylabel(f\"{plot_df.columns[1]}\")\n",
    "\n",
    "# R-value\n",
    "print(f\"The r-value is: {rvalue}\")\n",
    "plt.show()"
   ]
  },
  {
   "cell_type": "code",
   "execution_count": null,
   "metadata": {},
   "outputs": [],
   "source": []
  },
  {
   "cell_type": "markdown",
   "metadata": {},
   "source": [
    "####  Southern Hemisphere - Max Temp vs. Latitude Linear Regression"
   ]
  },
  {
   "cell_type": "code",
   "execution_count": 14,
   "metadata": {},
   "outputs": [
    {
     "name": "stdout",
     "output_type": "stream",
     "text": [
      "The r-value is: 0.7380911636819786\n"
     ]
    },
    {
     "data": {
      "image/png": "[encoded data removed]",
      "text/plain": [
       "<Figure size 432x288 with 1 Axes>"
      ]
     },
     "metadata": {
      "needs_background": "light"
     },
     "output_type": "display_data"
    }
   ],
   "source": [
    "# Create plot data frame\n",
    "columns = [\"Latitude\",\"Max Temperature (C)\"]\n",
    "plot_df = weather_data.loc[weather_data[\"Latitude\"]<0,columns]\n",
    "\n",
    "# Scatter plot\n",
    "x_values=plot_df.iloc[:,0]\n",
    "y_values=plot_df.iloc[:,1]\n",
    "\n",
    "(slope, intercept, rvalue, pvalue, stderr) = linregress(x_values,y_values)\n",
    "regress_values = x_values * slope + intercept\n",
    "line_eq = \"y = \" + str(round(slope,2)) + \"x + \" + str(round(intercept,2))\n",
    "\n",
    "plt.scatter(x_values,y_values)\n",
    "plt.plot(x_values,regress_values,\"r-\")\n",
    "\n",
    "plt.annotate(line_eq,(x_values.min()*0.95,y_values.min()*1.05),fontsize=14,color=\"red\")\n",
    "plt.title(f\"City {plot_df.columns[0]} vs {plot_df.columns[1]}\")\n",
    "plt.xlabel(plot_df.columns[0])\n",
    "plt.ylabel(f\"{plot_df.columns[1]}\")\n",
    "\n",
    "# R-value\n",
    "print(f\"The r-value is: {rvalue}\")\n",
    "plt.show()"
   ]
  },
  {
   "cell_type": "code",
   "execution_count": null,
   "metadata": {},
   "outputs": [],
   "source": []
  },
  {
   "cell_type": "markdown",
   "metadata": {},
   "source": [
    "####  Northern Hemisphere - Humidity (%) vs. Latitude Linear Regression"
   ]
  },
  {
   "cell_type": "code",
   "execution_count": 15,
   "metadata": {},
   "outputs": [
    {
     "name": "stdout",
     "output_type": "stream",
     "text": [
      "The r-value is: 0.3862748338473385\n"
     ]
    },
    {
     "data": {
      "image/png": "[encoded data removed]",
      "text/plain": [
       "<Figure size 432x288 with 1 Axes>"
      ]
     },
     "metadata": {
      "needs_background": "light"
     },
     "output_type": "display_data"
    }
   ],
   "source": [
    "# Create plot data frame\n",
    "columns = [\"Latitude\",\"Humidity\"]\n",
    "plot_df = weather_data.loc[weather_data[\"Latitude\"]>=0,columns]\n",
    "\n",
    "# Scatter plot\n",
    "x_values=plot_df.iloc[:,0]\n",
    "y_values=plot_df.iloc[:,1]\n",
    "\n",
    "(slope, intercept, rvalue, pvalue, stderr) = linregress(x_values,y_values)\n",
    "regress_values = x_values * slope + intercept\n",
    "line_eq = \"y = \" + str(round(slope,2)) + \"x + \" + str(round(intercept,2))\n",
    "\n",
    "plt.scatter(x_values,y_values)\n",
    "plt.plot(x_values,regress_values,\"r-\")\n",
    "\n",
    "plt.annotate(line_eq,(x_values.min()*1.05,y_values.min()*1.05),fontsize=14,color=\"red\")\n",
    "plt.title(f\"City {plot_df.columns[0]} vs {plot_df.columns[1]}\")\n",
    "plt.xlabel(plot_df.columns[0])\n",
    "plt.ylabel(f\"{plot_df.columns[1]}\")\n",
    "\n",
    "# R-value\n",
    "print(f\"The r-value is: {rvalue}\")\n",
    "plt.show()"
   ]
  },
  {
   "cell_type": "code",
   "execution_count": null,
   "metadata": {},
   "outputs": [],
   "source": []
  },
  {
   "cell_type": "markdown",
   "metadata": {},
   "source": [
    "####  Southern Hemisphere - Humidity (%) vs. Latitude Linear Regression"
   ]
  },
  {
   "cell_type": "code",
   "execution_count": 16,
   "metadata": {},
   "outputs": [
    {
     "name": "stdout",
     "output_type": "stream",
     "text": [
      "The r-value is: 0.20420744900838503\n"
     ]
    },
    {
     "data": {
      "image/png": "[encoded data removed]",
      "text/plain": [
       "<Figure size 432x288 with 1 Axes>"
      ]
     },
     "metadata": {
      "needs_background": "light"
     },
     "output_type": "display_data"
    }
   ],
   "source": [
    "# Create plot data frame\n",
    "columns = [\"Latitude\",\"Humidity\"]\n",
    "plot_df = weather_data.loc[weather_data[\"Latitude\"]<0,columns]\n",
    "\n",
    "# Scatter plot\n",
    "x_values=plot_df.iloc[:,0]\n",
    "y_values=plot_df.iloc[:,1]\n",
    "\n",
    "(slope, intercept, rvalue, pvalue, stderr) = linregress(x_values,y_values)\n",
    "regress_values = x_values * slope + intercept\n",
    "line_eq = \"y = \" + str(round(slope,2)) + \"x + \" + str(round(intercept,2))\n",
    "\n",
    "plt.scatter(x_values,y_values)\n",
    "plt.plot(x_values,regress_values,\"r-\")\n",
    "\n",
    "plt.annotate(line_eq,(x_values.min()*0.95,y_values.min()*1.05),fontsize=14,color=\"red\")\n",
    "plt.title(f\"City {plot_df.columns[0]} vs {plot_df.columns[1]}\")\n",
    "plt.xlabel(plot_df.columns[0])\n",
    "plt.ylabel(f\"{plot_df.columns[1]}\")\n",
    "\n",
    "# R-value\n",
    "print(f\"The r-value is: {rvalue}\")\n",
    "plt.show()"
   ]
  },
  {
   "cell_type": "code",
   "execution_count": null,
   "metadata": {},
   "outputs": [],
   "source": []
  },
  {
   "cell_type": "markdown",
   "metadata": {},
   "source": [
    "####  Northern Hemisphere - Cloudiness (%) vs. Latitude Linear Regression"
   ]
  },
  {
   "cell_type": "code",
   "execution_count": 17,
   "metadata": {},
   "outputs": [
    {
     "name": "stdout",
     "output_type": "stream",
     "text": [
      "The r-value is: 0.16052890136289766\n"
     ]
    },
    {
     "data": {
      "image/png": "[encoded data removed]",
      "text/plain": [
       "<Figure size 432x288 with 1 Axes>"
      ]
     },
     "metadata": {
      "needs_background": "light"
     },
     "output_type": "display_data"
    }
   ],
   "source": [
    "# Create plot data frame\n",
    "columns = [\"Latitude\",\"Cloudiness\"]\n",
    "plot_df = weather_data.loc[weather_data[\"Latitude\"]>=0,columns]\n",
    "\n",
    "# Scatter plot\n",
    "x_values=plot_df.iloc[:,0]\n",
    "y_values=plot_df.iloc[:,1]\n",
    "\n",
    "(slope, intercept, rvalue, pvalue, stderr) = linregress(x_values,y_values)\n",
    "regress_values = x_values * slope + intercept\n",
    "line_eq = \"y = \" + str(round(slope,2)) + \"x + \" + str(round(intercept,2))\n",
    "\n",
    "plt.scatter(x_values,y_values)\n",
    "plt.plot(x_values,regress_values,\"r-\")\n",
    "\n",
    "plt.annotate(line_eq,(x_values.min()*1.05,y_values.min()*1.05),fontsize=14,color=\"red\")\n",
    "plt.title(f\"City {plot_df.columns[0]} vs {plot_df.columns[1]}\")\n",
    "plt.xlabel(plot_df.columns[0])\n",
    "plt.ylabel(f\"{plot_df.columns[1]}\")\n",
    "\n",
    "# R-value\n",
    "print(f\"The r-value is: {rvalue}\")\n",
    "plt.show()"
   ]
  },
  {
   "cell_type": "code",
   "execution_count": null,
   "metadata": {},
   "outputs": [],
   "source": []
  },
  {
   "cell_type": "markdown",
   "metadata": {},
   "source": [
    "####  Southern Hemisphere - Cloudiness (%) vs. Latitude Linear Regression"
   ]
  },
  {
   "cell_type": "code",
   "execution_count": 18,
   "metadata": {},
   "outputs": [
    {
     "name": "stdout",
     "output_type": "stream",
     "text": [
      "The r-value is: 0.45150939972784665\n"
     ]
    },
    {
     "data": {
      "image/png": "[encoded data removed]",
      "text/plain": [
       "<Figure size 432x288 with 1 Axes>"
      ]
     },
     "metadata": {
      "needs_background": "light"
     },
     "output_type": "display_data"
    }
   ],
   "source": [
    "# Create plot data frame\n",
    "columns = [\"Latitude\",\"Cloudiness\"]\n",
    "plot_df = weather_data.loc[weather_data[\"Latitude\"]<0,columns]\n",
    "\n",
    "# Scatter plot\n",
    "x_values=plot_df.iloc[:,0]\n",
    "y_values=plot_df.iloc[:,1]\n",
    "\n",
    "(slope, intercept, rvalue, pvalue, stderr) = linregress(x_values,y_values)\n",
    "regress_values = x_values * slope + intercept\n",
    "line_eq = \"y = \" + str(round(slope,2)) + \"x + \" + str(round(intercept,2))\n",
    "\n",
    "plt.scatter(x_values,y_values)\n",
    "plt.plot(x_values,regress_values,\"r-\")\n",
    "\n",
    "plt.annotate(line_eq,(x_values.min()*0.95,y_values.min()*1.05),fontsize=14,color=\"red\")\n",
    "plt.title(f\"City {plot_df.columns[0]} vs {plot_df.columns[1]}\")\n",
    "plt.xlabel(plot_df.columns[0])\n",
    "plt.ylabel(f\"{plot_df.columns[1]}\")\n",
    "\n",
    "# R-value\n",
    "print(f\"The r-value is: {rvalue}\")\n",
    "plt.show()"
   ]
  },
  {
   "cell_type": "code",
   "execution_count": null,
   "metadata": {},
   "outputs": [],
   "source": []
  },
  {
   "cell_type": "markdown",
   "metadata": {},
   "source": [
    "####  Northern Hemisphere - Wind Speed (mph) vs. Latitude Linear Regression"
   ]
  },
  {
   "cell_type": "code",
   "execution_count": 19,
   "metadata": {},
   "outputs": [
    {
     "name": "stdout",
     "output_type": "stream",
     "text": [
      "The r-value is: 0.0030318333357216764\n"
     ]
    },
    {
     "data": {
      "image/png": "[encoded data removed]",
      "text/plain": [
       "<Figure size 432x288 with 1 Axes>"
      ]
     },
     "metadata": {
      "needs_background": "light"
     },
     "output_type": "display_data"
    }
   ],
   "source": [
    "# Create plot data frame\n",
    "columns = [\"Latitude\",\"Wind Speed (km/h)\"]\n",
    "plot_df = weather_data.loc[weather_data[\"Latitude\"]>=0,columns]\n",
    "\n",
    "# Scatter plot\n",
    "x_values=plot_df.iloc[:,0]\n",
    "y_values=plot_df.iloc[:,1]\n",
    "\n",
    "(slope, intercept, rvalue, pvalue, stderr) = linregress(x_values,y_values)\n",
    "regress_values = x_values * slope + intercept\n",
    "line_eq = \"y = \" + str(round(slope,2)) + \"x + \" + str(round(intercept,2))\n",
    "\n",
    "plt.scatter(x_values,y_values)\n",
    "plt.plot(x_values,regress_values,\"r-\")\n",
    "\n",
    "plt.annotate(line_eq,(x_values.min()*1.05,y_values.min()*1.05),fontsize=14,color=\"red\")\n",
    "plt.title(f\"City {plot_df.columns[0]} vs {plot_df.columns[1]}\")\n",
    "plt.xlabel(plot_df.columns[0])\n",
    "plt.ylabel(f\"{plot_df.columns[1]}\")\n",
    "\n",
    "# R-value\n",
    "print(f\"The r-value is: {rvalue}\")\n",
    "plt.show()"
   ]
  },
  {
   "cell_type": "code",
   "execution_count": null,
   "metadata": {},
   "outputs": [],
   "source": []
  },
  {
   "cell_type": "markdown",
   "metadata": {},
   "source": [
    "####  Southern Hemisphere - Wind Speed (mph) vs. Latitude Linear Regression"
   ]
  },
  {
   "cell_type": "code",
   "execution_count": 20,
   "metadata": {},
   "outputs": [
    {
     "name": "stdout",
     "output_type": "stream",
     "text": [
      "The r-value is: -0.04589692681322621\n"
     ]
    },
    {
     "data": {
      "image/png": "[encoded data removed]",
      "text/plain": [
       "<Figure size 432x288 with 1 Axes>"
      ]
     },
     "metadata": {
      "needs_background": "light"
     },
     "output_type": "display_data"
    }
   ],
   "source": [
    "# Create plot data frame\n",
    "columns = [\"Latitude\",\"Wind Speed (km/h)\"]\n",
    "plot_df = weather_data.loc[weather_data[\"Latitude\"]<0,columns]\n",
    "\n",
    "# Scatter plot\n",
    "x_values=plot_df.iloc[:,0]\n",
    "y_values=plot_df.iloc[:,1]\n",
    "\n",
    "(slope, intercept, rvalue, pvalue, stderr) = linregress(x_values,y_values)\n",
    "regress_values = x_values * slope + intercept\n",
    "line_eq = \"y = \" + str(round(slope,2)) + \"x + \" + str(round(intercept,2))\n",
    "\n",
    "plt.scatter(x_values,y_values)\n",
    "plt.plot(x_values,regress_values,\"r-\")\n",
    "\n",
    "plt.annotate(line_eq,(x_values.min()*0.95,y_values.min()*1.05),fontsize=14,color=\"red\")\n",
    "plt.title(f\"City {plot_df.columns[0]} vs {plot_df.columns[1]}\")\n",
    "plt.xlabel(plot_df.columns[0])\n",
    "plt.ylabel(f\"{plot_df.columns[1]}\")\n",
    "\n",
    "# R-value\n",
    "print(f\"The r-value is: {rvalue}\")\n",
    "plt.show()"
   ]
  },
  {
   "cell_type": "code",
   "execution_count": null,
   "metadata": {},
   "outputs": [],
   "source": []
  }
 ],
 "metadata": {
  "anaconda-cloud": {},
  "kernel_info": {
   "name": "python3"
  },
  "kernelspec": {
   "display_name": "Python 3",
   "language": "python",
   "name": "python3"
  },
  "language_info": {
   "codemirror_mode": {
    "name": "ipython",
    "version": 3
   },
   "file_extension": ".py",
   "mimetype": "text/x-python",
   "name": "python",
   "nbconvert_exporter": "python",
   "pygments_lexer": "ipython3",
   "version": "3.6.10"
  },
  "latex_envs": {
   "LaTeX_envs_menu_present": true,
   "autoclose": false,
   "autocomplete": true,
   "bibliofile": "biblio.bib",
   "cite_by": "apalike",
   "current_citInitial": 1,
   "eqLabelWithNumbers": true,
   "eqNumInitial": 1,
   "hotkeys": {
    "equation": "Ctrl-E",
    "itemize": "Ctrl-I"
   },
   "labels_anchors": false,
   "latex_user_defs": false,
   "report_style_numbering": false,
   "user_envs_cfg": false
  },
  "nteract": {
   "version": "0.12.3"
  }
 },
 "nbformat": 4,
 "nbformat_minor": 2
}
